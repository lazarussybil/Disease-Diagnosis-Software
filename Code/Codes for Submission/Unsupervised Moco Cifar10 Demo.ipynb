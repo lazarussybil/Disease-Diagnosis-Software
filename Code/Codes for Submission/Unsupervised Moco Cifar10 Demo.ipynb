{
 "cells": [
  {
   "cell_type": "markdown",
   "metadata": {
    "id": "hLJq2EHdDgWo"
   },
   "source": [
    "- classical MoCo\n",
    "\n",
    "This is a simple demo for training MoCo on CIFAR-10. It can be run directly in a Colab notebook using a publicly available GPU.\n",
    "\n",
    "#### Results\n",
    "\n",
    "These are the ResNet-18 classification accuracy of a **kNN monitor** on the unsupervised pre-training features. \n",
    "\n",
    "\n",
    "* **SplitBatchNorm**: the original MoCo was trained in 8 GPUs. To simulate the multi-GPU behavior of BatchNorm in this 1-GPU demo, we provide a SplitBatchNorm layer. We set `--bn-splits 8` by default to simulate 8 GPUs. `--bn-splits 1` is analogous to SyncBatchNorm in the multi-GPU case.\n",
    "\n",
    "\n",
    "#### References\n",
    "This demo is adapted from:\n",
    "* http://github.com/zhirongw/lemniscate.pytorch\n",
    "* https://github.com/leftthomas/SimCLR\n",
    "\n",
    "\n",
    "\n",
    "\n",
    "\n",
    "\n"
   ]
  },
  {
   "cell_type": "markdown",
   "metadata": {
    "id": "9MXcbCW8f7Eh"
   },
   "source": [
    "### Prepare\n",
    "\n",
    "Check GPU settings. A free GPU in Colab is <= Tesla P100. The log of the demo is based on a Tesla V100 from Google Cloud Platform.\n"
   ]
  },
  {
   "cell_type": "code",
   "execution_count": 30,
   "metadata": {
    "colab": {
     "base_uri": "https://localhost:8080/",
     "height": 306
    },
    "id": "CvAFrPlS4bLU",
    "outputId": "f4ca04c1-67b5-4938-b6d0-dc414ab4cdd3"
   },
   "outputs": [
    {
     "name": "stdout",
     "output_type": "stream",
     "text": [
      "Sun May 22 07:13:48 2022       \n",
      "+-----------------------------------------------------------------------------+\n",
      "| NVIDIA-SMI 512.15       Driver Version: 472.12       CUDA Version: 11.4     |\n",
      "|-------------------------------+----------------------+----------------------+\n",
      "| GPU  Name            TCC/WDDM | Bus-Id        Disp.A | Volatile Uncorr. ECC |\n",
      "| Fan  Temp  Perf  Pwr:Usage/Cap|         Memory-Usage | GPU-Util  Compute M. |\n",
      "|                               |                      |               MIG M. |\n",
      "|===============================+======================+======================|\n",
      "|   0  NVIDIA GeForce ... WDDM  | 00000000:01:00.0  On |                  N/A |\n",
      "| 32%   42C    P2    55W / 270W | Not Supported        |      8%      Default |\n",
      "|                               |                      |                  N/A |\n",
      "+-------------------------------+----------------------+----------------------+\n",
      "                                                                               \n",
      "+-----------------------------------------------------------------------------+\n",
      "| Processes:                                                                  |\n",
      "|  GPU   GI   CI        PID   Type   Process name                  GPU Memory |\n",
      "|        ID   ID                                                   Usage      |\n",
      "|=============================================================================|\n",
      "|  No running processes found                                                 |\n",
      "+-----------------------------------------------------------------------------+\n"
     ]
    }
   ],
   "source": [
    "gpu_info = !nvidia-smi -i 0\n",
    "gpu_info = '\\n'.join(gpu_info)\n",
    "print(gpu_info)\n",
    "\n",
    "from datetime import datetime\n",
    "from functools import partial\n",
    "from PIL import Image\n",
    "from torch.utils.data import DataLoader\n",
    "from torchvision import transforms\n",
    "from torchvision.models import resnet\n",
    "from tqdm import tqdm\n",
    "import argparse\n",
    "import json\n",
    "import math\n",
    "import os\n",
    "import pandas as pd\n",
    "import torch\n",
    "import torch.nn as nn\n",
    "import torch.nn.functional as F\n",
    "os.environ[\"CUDA_VISIBLE_DEVICES\"]='0'"
   ]
  },
  {
   "cell_type": "markdown",
   "metadata": {
    "id": "S_rtoBGhgSae"
   },
   "source": [
    "### Set arguments"
   ]
  },
  {
   "cell_type": "code",
   "execution_count": 31,
   "metadata": {
    "colab": {
     "base_uri": "https://localhost:8080/",
     "height": 54
    },
    "id": "dvuxcmejkKt8",
    "outputId": "34615de0-d8a8-416d-8e27-8b95acf464e3"
   },
   "outputs": [
    {
     "name": "stdout",
     "output_type": "stream",
     "text": [
      "Namespace(arch='resnet18', batch_size=128, bn_splits=8, cos=True, epochs=100, knn_k=20, knn_t=0.1, lr=0.03, moco_dim=64, moco_k=1024, moco_m=0.99, moco_t=0.1, results_dir='./MoCo-2048-2022-05-22-07-13-48-moco', resume='', schedule=[], symmetric=False, wd=0.0005)\n"
     ]
    }
   ],
   "source": [
    "parser = argparse.ArgumentParser(description='Train MoCo on Hyper Kvisia')\n",
    "\n",
    "parser.add_argument('-a', '--arch', default='resnet18')\n",
    "\n",
    "# lr: 0.06 for batch 512 (or 0.03 for batch 256)\n",
    "parser.add_argument('--lr', '--learning-rate', default=0.03, type=float, metavar='LR', help='initial learning rate', dest='lr')\n",
    "parser.add_argument('--epochs', default=50, type=int, metavar='N', help='number of total epochs to run')\n",
    "parser.add_argument('--schedule', default=[120, 160], nargs='*', type=int, help='learning rate schedule (when to drop lr by 10x); does not take effect if --cos is on')\n",
    "parser.add_argument('--cos', action='store_true', help='use cosine lr schedule')\n",
    "\n",
    "parser.add_argument('--batch-size', default=128, type=int, metavar='N', help='mini-batch size')\n",
    "parser.add_argument('--wd', default=5e-4, type=float, metavar='W', help='weight decay')\n",
    "\n",
    "# moco specific configs:\n",
    "parser.add_argument('--moco-dim', default=64, type=int, help='feature dimension')\n",
    "parser.add_argument('--moco-k', default=1024, type=int, help='queue size; number of negative keys')\n",
    "parser.add_argument('--moco-m', default=0.99, type=float, help='moco momentum of updating key encoder')\n",
    "parser.add_argument('--moco-t', default=0.1, type=float, help='softmax temperature')\n",
    "\n",
    "parser.add_argument('--bn-splits', default=8, type=int, help='simulate multi-gpu behavior of BatchNorm in one gpu; 1 is SyncBatchNorm in multi-gpu')\n",
    "\n",
    "parser.add_argument('--symmetric', action='store_true', help='use a symmetric loss function that backprops to both crops')\n",
    "\n",
    "# knn monitor\n",
    "parser.add_argument('--knn-k', default=20, type=int, help='k in kNN monitor')\n",
    "parser.add_argument('--knn-t', default=0.1, type=float, help='softmax temperature in kNN monitor; could be different with moco-t')\n",
    "\n",
    "# utils\n",
    "parser.add_argument('--resume', default='', type=str, metavar='PATH', help='path to latest checkpoint (default: none)')\n",
    "parser.add_argument('--results-dir', default='', type=str, metavar='PATH', help='path to cache (default: none)')\n",
    "\n",
    "'''\n",
    "args = parser.parse_args()  # running in command line\n",
    "'''\n",
    "args = parser.parse_args('')  # running in ipynb\n",
    "\n",
    "# set command line arguments here when running in ipynb\n",
    "args.epochs = 100\n",
    "args.cos = True\n",
    "args.schedule = []  # cos in use\n",
    "args.symmetric = False\n",
    "if args.results_dir == '':\n",
    "    args.results_dir = './MoCo-2048-' + datetime.now().strftime(\"%Y-%m-%d-%H-%M-%S-moco\")\n",
    "\n",
    "print(args)"
   ]
  },
  {
   "cell_type": "markdown",
   "metadata": {
    "id": "ygQeHtsngrC8"
   },
   "source": [
    "### Define data loaders"
   ]
  },
  {
   "cell_type": "code",
   "execution_count": 32,
   "metadata": {
    "colab": {
     "base_uri": "https://localhost:8080/",
     "height": 68
    },
    "collapsed": true,
    "id": "AoliFX5AnBJ0",
    "outputId": "c3ed12b3-7e2a-4ff5-d204-446c2bf7bb63"
   },
   "outputs": [],
   "source": [
    "# class CIFAR10Pair(CIFAR10):\n",
    "#     \"\"\"CIFAR10 Dataset.\n",
    "#     \"\"\"\n",
    "#     def __getitem__(self, index):\n",
    "#         img = self.data[index]\n",
    "#         img = Image.fromarray(img)\n",
    "\n",
    "#         if self.transform is not None:\n",
    "#             im_1 = self.transform(img)\n",
    "#             im_2 = self.transform(img)\n",
    "\n",
    "#         return im_1, im_2\n",
    "\n",
    "train_transform = transforms.Compose([\n",
    "    transforms.RandomResizedCrop(32),\n",
    "    transforms.RandomHorizontalFlip(p=0.5),\n",
    "    transforms.RandomApply([transforms.ColorJitter(0.4, 0.4, 0.4, 0.1)], p=0.8),\n",
    "    transforms.RandomGrayscale(p=0.2),\n",
    "    transforms.ToTensor(),\n",
    "    transforms.Normalize([0.4914, 0.4822, 0.4465], [0.2023, 0.1994, 0.2010])])\n",
    "\n",
    "test_transform = transforms.Compose([\n",
    "    transforms.ToTensor(),\n",
    "    transforms.Normalize([0.4914, 0.4822, 0.4465], [0.2023, 0.1994, 0.2010])])\n",
    "\n",
    "# # data prepare\n",
    "# train_data = CIFAR10Pair(root='data', train=True, transform=train_transform, download=True)\n",
    "# train_loader = DataLoader(train_data, batch_size=args.batch_size, shuffle=True, num_workers=0, pin_memory=True, drop_last=True)\n",
    "\n",
    "# memory_data = CIFAR10(root='data', train=True, transform=test_transform, download=True)\n",
    "# memory_loader = DataLoader(memory_data, batch_size=args.batch_size, shuffle=False, num_workers=0, pin_memory=True)\n",
    "\n",
    "# test_data = CIFAR10(root='data', train=False, transform=test_transform, download=True)\n",
    "# test_loader = DataLoader(test_data, batch_size=args.batch_size, shuffle=False, num_workers=0, pin_memory=True)\n",
    "\n",
    "import csv\n",
    "from torch.utils.data import Dataset\n",
    "\n",
    "def split_name(address):\n",
    "    n = address.rfind(\"\\\\\")\n",
    "    dot = address[:n].rfind(\"\\\\\")\n",
    "    return address[dot+1:n]\n",
    "\n",
    "class MyDataset(Dataset):\n",
    "    def __init__(self, data_dir, train=True, transform=None, isLabel=True):\n",
    "        \"\"\"\n",
    "        My Dataset for CAD with BUSI dataset\n",
    "            param data_dir: str, path for the dataset\n",
    "            param train: whether this is defined for training or testing\n",
    "            param transform: torch.transform, data pre-processing pipeline\n",
    "        \"\"\"\n",
    "        ### Begin your code ###\n",
    "        super(MyDataset,self).__init__()\n",
    "        self.train = train\n",
    "        self.transform = transform\n",
    "        self.isLabel = isLabel\n",
    "        \n",
    "        if isLabel==False:\n",
    "            self.root = data_dir\n",
    "        else:\n",
    "            self.root = os.path.join(data_dir,\"unsupervised\")\n",
    "            \n",
    "            # filepath_csv = os.path.join(data_dir,\"image-labels.csv\")\n",
    "            self.class_map = {\"polyps\":0, \"ulcerative-colitis-grade-1\":1, \"ulcerative-colitis-grade-2\":2, \"ulcerative-colitis-grade-3\":3}\n",
    "            self.classes = list(self.class_map.keys())\n",
    "            # with open(filepath_csv) as f:\n",
    "            #     reader = csv.reader(f)\n",
    "            #     header_row = next(reader)\n",
    "                \n",
    "            #     for row in reader:\n",
    "            #         name = row[0]\n",
    "            #         class_ = row[2]\n",
    "            #         if type(class_map.get(class_))==int:\n",
    "            #             self.label_map[name] = class_map[class_]\n",
    "        \n",
    "        self.filepaths = []\n",
    "        self.data = []\n",
    "        self.targets = []\n",
    "        \n",
    "        self.get_filename(self.root)\n",
    "        self.length = len(self.filepaths)\n",
    "        self.get_data()\n",
    "        self.filepaths = []\n",
    "        \n",
    "        ### End your code ###\n",
    "        \n",
    "    \n",
    "    def __getitem__(self, index):\n",
    "        if self.isLabel == False:\n",
    "            img = self.data[index]\n",
    "\n",
    "            if self.transform is not None:\n",
    "                im_1 = self.transform(img)\n",
    "                im_2 = self.transform(img)\n",
    "            return im_1, im_2\n",
    "        else: \n",
    "            img = self.data[index]\n",
    "            img = self.transform(img)\n",
    "            return img, self.targets[index]\n",
    "\n",
    "\n",
    "    def __len__(self): \n",
    "        '''return the size of the dataset'''\n",
    "        ### Begin your code ###\n",
    "        return len(self.data)\n",
    "        ### End your code ###\n",
    "    \n",
    "    def get_filename(self, rootDir):\n",
    "        for root,dirs,files in os.walk(rootDir):\n",
    "            for file in files:\n",
    "                file_path = os.path.join(root, file)\n",
    "                self.filepaths.append(file_path)\n",
    "        \n",
    "    def get_data(self):\n",
    "        '''\n",
    "        Load the dataset and store it in your own data structure(s)\n",
    "        '''\n",
    "        ### Begin your code ###\n",
    "        length = len(self.filepaths)\n",
    "        \n",
    "        index_list = torch.arange(0,length)\n",
    "        index_list = torch.randperm(index_list.size(0))\n",
    "        \n",
    "        for i in tqdm(range(length)):\n",
    "            index = index_list[i].item()\n",
    "            filepath = self.filepaths[index]\n",
    "\n",
    "            if self.isLabel == False:\n",
    "                image = Image.open(filepath).resize((128,128))\n",
    "                self.data.append(image.copy())\n",
    "                image.close()\n",
    "\n",
    "            else:\n",
    "                label_name = split_name(filepath)\n",
    "                label = self.class_map[label_name]\n",
    "                image = Image.open(filepath).resize((128,128))\n",
    "                self.data.append(image.copy())\n",
    "                image.close()\n",
    "                self.targets.append(label)\n",
    "        \n",
    "        total_length = len(self.data)\n",
    "        if self.isLabel == False:\n",
    "            begin = 0\n",
    "            end = total_length\n",
    "        else: \n",
    "            threshold = int(total_length * 0.8)\n",
    "            if self.train == True:\n",
    "                begin = 0\n",
    "                end = threshold\n",
    "            else:\n",
    "                begin = threshold\n",
    "                end = total_length\n",
    "\n",
    "        self.length = end - begin        \n",
    "        self.data = self.data[begin:end]\n",
    "        self.targets = self.targets[begin:end]\n",
    "            \n",
    "# data prepare\n",
    "# train_dir = r\"H:\\csc4080data\\unlabeled\"\n",
    "# test_dir = r\"H:\\csc4080data\\labeled-images\"\n",
    "train_dir = r\"G:\\Test\\data\\unlabeled-images\"\n",
    "test_dir = r\"G:\\Test\\data\\labeled-images\""
   ]
  },
  {
   "cell_type": "code",
   "execution_count": 33,
   "metadata": {},
   "outputs": [
    {
     "name": "stderr",
     "output_type": "stream",
     "text": [
      "100%|██████████| 12471/12471 [01:37<00:00, 127.92it/s]\n"
     ]
    }
   ],
   "source": [
    "train_data = MyDataset(train_dir, train=True, transform=train_transform, isLabel=False)\n",
    "train_loader = DataLoader(train_data, batch_size=args.batch_size, shuffle=True, num_workers=0, pin_memory=True, drop_last=True)"
   ]
  },
  {
   "cell_type": "code",
   "execution_count": 34,
   "metadata": {},
   "outputs": [
    {
     "name": "stderr",
     "output_type": "stream",
     "text": [
      "100%|██████████| 1878/1878 [00:07<00:00, 249.37it/s]\n"
     ]
    }
   ],
   "source": [
    "memory_data = MyDataset(test_dir, train=True, transform=test_transform,isLabel=True)\n",
    "memory_loader = DataLoader(memory_data, batch_size=args.batch_size, shuffle=False, num_workers=0, pin_memory=True)"
   ]
  },
  {
   "cell_type": "code",
   "execution_count": 35,
   "metadata": {},
   "outputs": [
    {
     "name": "stderr",
     "output_type": "stream",
     "text": [
      "100%|██████████| 1878/1878 [00:07<00:00, 266.26it/s]\n"
     ]
    }
   ],
   "source": [
    "test_data = MyDataset(test_dir, train=False, transform=test_transform,isLabel=True)\n",
    "test_loader = DataLoader(test_data, batch_size=args.batch_size, shuffle=False, num_workers=0, pin_memory=True)"
   ]
  },
  {
   "cell_type": "markdown",
   "metadata": {
    "id": "KsAVAtRoiBbG"
   },
   "source": [
    "### Define base encoder"
   ]
  },
  {
   "cell_type": "code",
   "execution_count": 36,
   "metadata": {
    "collapsed": true,
    "id": "bNd_Q_Osi0SO"
   },
   "outputs": [],
   "source": [
    "# SplitBatchNorm: simulate multi-gpu behavior of BatchNorm in one gpu by splitting alone the batch dimension\n",
    "# implementation adapted from https://github.com/davidcpage/cifar10-fast/blob/master/torch_backend.py\n",
    "class SplitBatchNorm(nn.BatchNorm2d):\n",
    "    def __init__(self, num_features, num_splits, **kw):\n",
    "        super().__init__(num_features, **kw)\n",
    "        self.num_splits = num_splits\n",
    "        \n",
    "    def forward(self, input):\n",
    "        N, C, H, W = input.shape\n",
    "        if self.training or not self.track_running_stats:\n",
    "            running_mean_split = self.running_mean.repeat(self.num_splits)\n",
    "            running_var_split = self.running_var.repeat(self.num_splits)\n",
    "            outcome = nn.functional.batch_norm(\n",
    "                input.view(-1, C * self.num_splits, H, W), running_mean_split, running_var_split, \n",
    "                self.weight.repeat(self.num_splits), self.bias.repeat(self.num_splits),\n",
    "                True, self.momentum, self.eps).view(N, C, H, W)\n",
    "            self.running_mean.data.copy_(running_mean_split.view(self.num_splits, C).mean(dim=0))\n",
    "            self.running_var.data.copy_(running_var_split.view(self.num_splits, C).mean(dim=0))\n",
    "            return outcome\n",
    "        else:\n",
    "            return nn.functional.batch_norm(\n",
    "                input, self.running_mean, self.running_var, \n",
    "                self.weight, self.bias, False, self.momentum, self.eps)\n",
    "\n",
    "class ModelBase(nn.Module):\n",
    "    def __init__(self, feature_dim=128, arch=None, bn_splits=16):\n",
    "        super(ModelBase, self).__init__()\n",
    "\n",
    "        # use split batchnorm\n",
    "        norm_layer = partial(SplitBatchNorm, num_splits=bn_splits) if bn_splits > 1 else nn.BatchNorm2d\n",
    "        resnet_arch = getattr(resnet, arch)\n",
    "        net = resnet_arch(num_classes=feature_dim, norm_layer=norm_layer)\n",
    "\n",
    "        self.net = []\n",
    "        for name, module in net.named_children():\n",
    "            if name == 'conv1':\n",
    "                module = nn.Conv2d(3, 64, kernel_size=3, stride=1, padding=1, bias=False)\n",
    "            if isinstance(module, nn.MaxPool2d):\n",
    "                continue\n",
    "            if isinstance(module, nn.Linear):\n",
    "                self.net.append(nn.Flatten(1))\n",
    "            self.net.append(module)\n",
    "\n",
    "        self.net = nn.Sequential(*self.net)\n",
    "\n",
    "    def forward(self, x):\n",
    "        x = self.net(x)\n",
    "        # note: not normalized here\n",
    "        return x"
   ]
  },
  {
   "cell_type": "markdown",
   "metadata": {},
   "source": [
    "### Define MoCo wrapper"
   ]
  },
  {
   "cell_type": "code",
   "execution_count": 37,
   "metadata": {
    "collapsed": true
   },
   "outputs": [],
   "source": [
    "def my_cross_entropy(input, target, reduction=\"mean\"):\n",
    "    exp = torch.exp(input)\n",
    "    tmp1 = exp.gather(1, target.unsqueeze(-1)).squeeze()\n",
    "    tmp2 = exp.sum(1)\n",
    "    #softmax = tmp1 / tmp2\n",
    "    softmax = 1. / tmp2\n",
    "    log = -torch.log(softmax)\n",
    "    if reduction == \"mean\": return log.mean()\n",
    "    else: return log.sum()\n",
    "    \n",
    "def my_loss_1(l_pos, l_neg, logits, T, labels, reduction=\"mean\"):\n",
    "    b = torch.exp(l_neg/T)\n",
    "    log = -torch.log(3./(3. + b.sum(1)))\n",
    "    if reduction == \"mean\": return log.mean()\n",
    "    else: return log.sum()\n",
    "    \n",
    "def my_loss_3(l_pos, l_neg, logits, T, labels, reduction=\"mean\"):\n",
    "    tmp1 = torch.exp(l_pos/T)\n",
    "    exp_neg = torch.exp(l_neg/T)\n",
    "    tmp2 = exp_neg.sum(1)\n",
    "    softmax = tmp1 / (tmp1 + tmp2)\n",
    "    \n",
    "    log = -torch.log(softmax)\n",
    "\n",
    "#    b = torch.exp(l_neg/T)\n",
    "#    log = -torch.log(3./(3. + b.sum(1)))\n",
    "    if reduction == \"mean\": return log.mean(), tmp1.mean(), tmp2.mean()\n",
    "    else: return log.sum()"
   ]
  },
  {
   "cell_type": "code",
   "execution_count": 38,
   "metadata": {
    "cellView": "both",
    "colab": {
     "base_uri": "https://localhost:8080/",
     "height": 1000
    },
    "id": "lzFyFnhbk8hj",
    "outputId": "973e6816-de1b-4331-8da6-e63227467b17"
   },
   "outputs": [
    {
     "name": "stdout",
     "output_type": "stream",
     "text": [
      "ModelBase(\n",
      "  (net): Sequential(\n",
      "    (0): Conv2d(3, 64, kernel_size=(3, 3), stride=(1, 1), padding=(1, 1), bias=False)\n",
      "    (1): SplitBatchNorm(64, eps=1e-05, momentum=0.1, affine=True, track_running_stats=True)\n",
      "    (2): ReLU(inplace=True)\n",
      "    (3): Sequential(\n",
      "      (0): BasicBlock(\n",
      "        (conv1): Conv2d(64, 64, kernel_size=(3, 3), stride=(1, 1), padding=(1, 1), bias=False)\n",
      "        (bn1): SplitBatchNorm(64, eps=1e-05, momentum=0.1, affine=True, track_running_stats=True)\n",
      "        (relu): ReLU(inplace=True)\n",
      "        (conv2): Conv2d(64, 64, kernel_size=(3, 3), stride=(1, 1), padding=(1, 1), bias=False)\n",
      "        (bn2): SplitBatchNorm(64, eps=1e-05, momentum=0.1, affine=True, track_running_stats=True)\n",
      "      )\n",
      "      (1): BasicBlock(\n",
      "        (conv1): Conv2d(64, 64, kernel_size=(3, 3), stride=(1, 1), padding=(1, 1), bias=False)\n",
      "        (bn1): SplitBatchNorm(64, eps=1e-05, momentum=0.1, affine=True, track_running_stats=True)\n",
      "        (relu): ReLU(inplace=True)\n",
      "        (conv2): Conv2d(64, 64, kernel_size=(3, 3), stride=(1, 1), padding=(1, 1), bias=False)\n",
      "        (bn2): SplitBatchNorm(64, eps=1e-05, momentum=0.1, affine=True, track_running_stats=True)\n",
      "      )\n",
      "    )\n",
      "    (4): Sequential(\n",
      "      (0): BasicBlock(\n",
      "        (conv1): Conv2d(64, 128, kernel_size=(3, 3), stride=(2, 2), padding=(1, 1), bias=False)\n",
      "        (bn1): SplitBatchNorm(128, eps=1e-05, momentum=0.1, affine=True, track_running_stats=True)\n",
      "        (relu): ReLU(inplace=True)\n",
      "        (conv2): Conv2d(128, 128, kernel_size=(3, 3), stride=(1, 1), padding=(1, 1), bias=False)\n",
      "        (bn2): SplitBatchNorm(128, eps=1e-05, momentum=0.1, affine=True, track_running_stats=True)\n",
      "        (downsample): Sequential(\n",
      "          (0): Conv2d(64, 128, kernel_size=(1, 1), stride=(2, 2), bias=False)\n",
      "          (1): SplitBatchNorm(128, eps=1e-05, momentum=0.1, affine=True, track_running_stats=True)\n",
      "        )\n",
      "      )\n",
      "      (1): BasicBlock(\n",
      "        (conv1): Conv2d(128, 128, kernel_size=(3, 3), stride=(1, 1), padding=(1, 1), bias=False)\n",
      "        (bn1): SplitBatchNorm(128, eps=1e-05, momentum=0.1, affine=True, track_running_stats=True)\n",
      "        (relu): ReLU(inplace=True)\n",
      "        (conv2): Conv2d(128, 128, kernel_size=(3, 3), stride=(1, 1), padding=(1, 1), bias=False)\n",
      "        (bn2): SplitBatchNorm(128, eps=1e-05, momentum=0.1, affine=True, track_running_stats=True)\n",
      "      )\n",
      "    )\n",
      "    (5): Sequential(\n",
      "      (0): BasicBlock(\n",
      "        (conv1): Conv2d(128, 256, kernel_size=(3, 3), stride=(2, 2), padding=(1, 1), bias=False)\n",
      "        (bn1): SplitBatchNorm(256, eps=1e-05, momentum=0.1, affine=True, track_running_stats=True)\n",
      "        (relu): ReLU(inplace=True)\n",
      "        (conv2): Conv2d(256, 256, kernel_size=(3, 3), stride=(1, 1), padding=(1, 1), bias=False)\n",
      "        (bn2): SplitBatchNorm(256, eps=1e-05, momentum=0.1, affine=True, track_running_stats=True)\n",
      "        (downsample): Sequential(\n",
      "          (0): Conv2d(128, 256, kernel_size=(1, 1), stride=(2, 2), bias=False)\n",
      "          (1): SplitBatchNorm(256, eps=1e-05, momentum=0.1, affine=True, track_running_stats=True)\n",
      "        )\n",
      "      )\n",
      "      (1): BasicBlock(\n",
      "        (conv1): Conv2d(256, 256, kernel_size=(3, 3), stride=(1, 1), padding=(1, 1), bias=False)\n",
      "        (bn1): SplitBatchNorm(256, eps=1e-05, momentum=0.1, affine=True, track_running_stats=True)\n",
      "        (relu): ReLU(inplace=True)\n",
      "        (conv2): Conv2d(256, 256, kernel_size=(3, 3), stride=(1, 1), padding=(1, 1), bias=False)\n",
      "        (bn2): SplitBatchNorm(256, eps=1e-05, momentum=0.1, affine=True, track_running_stats=True)\n",
      "      )\n",
      "    )\n",
      "    (6): Sequential(\n",
      "      (0): BasicBlock(\n",
      "        (conv1): Conv2d(256, 512, kernel_size=(3, 3), stride=(2, 2), padding=(1, 1), bias=False)\n",
      "        (bn1): SplitBatchNorm(512, eps=1e-05, momentum=0.1, affine=True, track_running_stats=True)\n",
      "        (relu): ReLU(inplace=True)\n",
      "        (conv2): Conv2d(512, 512, kernel_size=(3, 3), stride=(1, 1), padding=(1, 1), bias=False)\n",
      "        (bn2): SplitBatchNorm(512, eps=1e-05, momentum=0.1, affine=True, track_running_stats=True)\n",
      "        (downsample): Sequential(\n",
      "          (0): Conv2d(256, 512, kernel_size=(1, 1), stride=(2, 2), bias=False)\n",
      "          (1): SplitBatchNorm(512, eps=1e-05, momentum=0.1, affine=True, track_running_stats=True)\n",
      "        )\n",
      "      )\n",
      "      (1): BasicBlock(\n",
      "        (conv1): Conv2d(512, 512, kernel_size=(3, 3), stride=(1, 1), padding=(1, 1), bias=False)\n",
      "        (bn1): SplitBatchNorm(512, eps=1e-05, momentum=0.1, affine=True, track_running_stats=True)\n",
      "        (relu): ReLU(inplace=True)\n",
      "        (conv2): Conv2d(512, 512, kernel_size=(3, 3), stride=(1, 1), padding=(1, 1), bias=False)\n",
      "        (bn2): SplitBatchNorm(512, eps=1e-05, momentum=0.1, affine=True, track_running_stats=True)\n",
      "      )\n",
      "    )\n",
      "    (7): AdaptiveAvgPool2d(output_size=(1, 1))\n",
      "    (8): Flatten(start_dim=1, end_dim=-1)\n",
      "    (9): Linear(in_features=512, out_features=64, bias=True)\n",
      "  )\n",
      ")\n"
     ]
    }
   ],
   "source": [
    "class ModelMoCo(nn.Module):\n",
    "    def __init__(self, dim=128, K=4096, m=0.99, T=0.1, arch='resnet18', bn_splits=8, symmetric=True):\n",
    "        super(ModelMoCo, self).__init__()\n",
    "\n",
    "        self.K = K\n",
    "        self.m = m\n",
    "        self.T = T\n",
    "        self.symmetric = symmetric\n",
    "\n",
    "        # create the encoders\n",
    "        self.encoder_q = ModelBase(feature_dim=dim, arch=arch, bn_splits=bn_splits)\n",
    "        self.encoder_k = ModelBase(feature_dim=dim, arch=arch, bn_splits=bn_splits)\n",
    "\n",
    "        for param_q, param_k in zip(self.encoder_q.parameters(), self.encoder_k.parameters()):\n",
    "            param_k.data.copy_(param_q.data)  # initialize\n",
    "            param_k.requires_grad = False  # not update by gradient\n",
    "\n",
    "        # create the queue\n",
    "        self.register_buffer(\"queue\", torch.randn(dim, K))\n",
    "        self.queue = nn.functional.normalize(self.queue, dim=0)\n",
    "\n",
    "        self.register_buffer(\"queue_ptr\", torch.zeros(1, dtype=torch.long))\n",
    "\n",
    "    @torch.no_grad()\n",
    "    def _momentum_update_key_encoder(self):\n",
    "        \"\"\"\n",
    "        Momentum update of the key encoder\n",
    "        \"\"\"\n",
    "        for param_q, param_k in zip(self.encoder_q.parameters(), self.encoder_k.parameters()):\n",
    "            param_k.data = param_k.data * self.m + param_q.data * (1. - self.m)\n",
    "\n",
    "    @torch.no_grad()\n",
    "    def _dequeue_and_enqueue(self, keys):\n",
    "        batch_size = keys.shape[0]\n",
    "\n",
    "        ptr = int(self.queue_ptr)\n",
    "        assert self.K % batch_size == 0  # for simplicity\n",
    "\n",
    "        # replace the keys at ptr (dequeue and enqueue)\n",
    "        self.queue[:, ptr:ptr + batch_size] = keys.t()  # transpose\n",
    "        ptr = (ptr + batch_size) % self.K  # move pointer\n",
    "\n",
    "        self.queue_ptr[0] = ptr\n",
    "\n",
    "    @torch.no_grad()\n",
    "    def _batch_shuffle_single_gpu(self, x):\n",
    "        \"\"\"\n",
    "        Batch shuffle, for making use of BatchNorm.\n",
    "        \"\"\"\n",
    "        # random shuffle index\n",
    "        idx_shuffle = torch.randperm(x.shape[0]).cuda()\n",
    "\n",
    "        # index for restoring\n",
    "        idx_unshuffle = torch.argsort(idx_shuffle)\n",
    "\n",
    "        return x[idx_shuffle], idx_unshuffle\n",
    "\n",
    "    @torch.no_grad()\n",
    "    def _batch_unshuffle_single_gpu(self, x, idx_unshuffle):\n",
    "        \"\"\"\n",
    "        Undo batch shuffle.\n",
    "        \"\"\"\n",
    "        return x[idx_unshuffle]\n",
    "\n",
    "    def contrastive_loss(self, im_q, im_k):\n",
    "        # compute query features\n",
    "        q = self.encoder_q(im_q)  # queries: NxC\n",
    "        q = nn.functional.normalize(q, dim=1)  # already normalized\n",
    "\n",
    "        # compute key features\n",
    "        with torch.no_grad():  # no gradient to keys\n",
    "            # shuffle for making use of BN\n",
    "            im_k_, idx_unshuffle = self._batch_shuffle_single_gpu(im_k)\n",
    "\n",
    "            k = self.encoder_k(im_k_)  # keys: NxC\n",
    "            k = nn.functional.normalize(k, dim=1)  # already normalized\n",
    "\n",
    "            # undo shuffle\n",
    "            k = self._batch_unshuffle_single_gpu(k, idx_unshuffle)\n",
    "\n",
    "        # compute logits\n",
    "        # Einstein sum is more intuitive\n",
    "        # positive logits: Nx1\n",
    "        l_pos = torch.einsum('nc,nc->n', [q, k]).unsqueeze(-1)\n",
    "        # negative logits: NxK\n",
    "        l_neg = torch.einsum('nc,ck->nk', [q, self.queue.clone().detach()])\n",
    "\n",
    "        # logits: Nx(1+K)\n",
    "        logits = torch.cat([l_pos, l_neg], dim=1)\n",
    "\n",
    "        # apply temperature\n",
    "        logits /= self.T\n",
    "\n",
    "        # labels: positive key indicators\n",
    "        labels = torch.zeros(logits.shape[0], dtype=torch.long).cuda()\n",
    "        #print(logits.shape, labels.shape)\n",
    "        #loss = my_cross_entropy(logits, labels)\n",
    "        loss, tmp1, tmp2 = my_loss_3(l_pos, l_neg, logits, self.T, labels)\n",
    "        return loss, q, k, tmp1, tmp2\n",
    "\n",
    "    def forward(self, im1, im2):\n",
    "        \"\"\"\n",
    "        Input:\n",
    "            im_q: a batch of query images\n",
    "            im_k: a batch of key images\n",
    "        Output:\n",
    "            loss\n",
    "        \"\"\"\n",
    "        # update the key encoder\n",
    "        with torch.no_grad():  # no gradient to keys\n",
    "            self._momentum_update_key_encoder()\n",
    "\n",
    "        # compute loss\n",
    "        if self.symmetric:  # asymmetric loss\n",
    "            loss_12, q1, k2 = self.contrastive_loss(im1, im2)\n",
    "            loss_21, q2, k1 = self.contrastive_loss(im2, im1)\n",
    "            loss = loss_12 + loss_21\n",
    "            k = torch.cat([k1, k2], dim=0)\n",
    "        else:  # asymmetric loss\n",
    "            loss, q, k, tmp1, tmp2 = self.contrastive_loss(im1, im2)\n",
    "\n",
    "        self._dequeue_and_enqueue(k)\n",
    "\n",
    "        return loss, tmp1, tmp2\n",
    "\n",
    "# create model\n",
    "model = ModelMoCo(\n",
    "        dim=args.moco_dim,\n",
    "        K=args.moco_k,\n",
    "        m=args.moco_m,\n",
    "        T=args.moco_t,\n",
    "        arch=args.arch,\n",
    "        bn_splits=args.bn_splits,\n",
    "        symmetric=args.symmetric,\n",
    "    ).cuda()\n",
    "print(model.encoder_q)"
   ]
  },
  {
   "cell_type": "markdown",
   "metadata": {
    "id": "9YXcpXBwi8KV"
   },
   "source": [
    "### Define train/test\n",
    "\n"
   ]
  },
  {
   "cell_type": "code",
   "execution_count": 39,
   "metadata": {
    "collapsed": true,
    "id": "DBKFqboqnqty"
   },
   "outputs": [],
   "source": [
    "# train for one epoch\n",
    "def train(net, data_loader, train_optimizer, epoch, args):\n",
    "    net.train()\n",
    "    adjust_learning_rate(optimizer, epoch, args)\n",
    "    \n",
    "    total_loss, total_num, total_tmp1, total_tmp2, train_bar = 0.0, 0, 0.0, 0.0, tqdm(data_loader)\n",
    "    for im_1, im_2 in train_bar:\n",
    "        im_1, im_2 = im_1.cuda(non_blocking=True), im_2.cuda(non_blocking=True)\n",
    "\n",
    "        loss,tmp1,tmp2 = net(im_1, im_2)\n",
    "        \n",
    "        train_optimizer.zero_grad()\n",
    "        loss.backward()\n",
    "        train_optimizer.step()\n",
    "\n",
    "        total_num += data_loader.batch_size\n",
    "        total_loss += loss.item() * data_loader.batch_size\n",
    "        total_tmp1 += tmp1.item() * data_loader.batch_size\n",
    "        total_tmp2 += tmp2.item() * data_loader.batch_size\n",
    "        train_bar.set_description('Train Epoch: [{}/{}], lr: {:.6f}, Loss: {:.4f}'.format(epoch, args.epochs, optimizer.param_groups[0]['lr'], total_loss / total_num))\n",
    "\n",
    "    return total_loss / total_num, total_tmp1 / total_num, total_tmp2 / total_num\n",
    "\n",
    "# lr scheduler for training\n",
    "def adjust_learning_rate(optimizer, epoch, args):\n",
    "    \"\"\"Decay the learning rate based on schedule\"\"\"\n",
    "    lr = args.lr\n",
    "    if args.cos:  # cosine lr schedule\n",
    "        lr *= 0.5 * (1. + math.cos(math.pi * epoch / args.epochs))\n",
    "    else:  # stepwise lr schedule\n",
    "        for milestone in args.schedule:\n",
    "            lr *= 0.1 if epoch >= milestone else 1.\n",
    "    for param_group in optimizer.param_groups:\n",
    "        param_group['lr'] = lr"
   ]
  },
  {
   "cell_type": "code",
   "execution_count": 40,
   "metadata": {
    "cellView": "both",
    "collapsed": true,
    "id": "RI1Y8bSImD7N"
   },
   "outputs": [],
   "source": [
    "# test using a knn monitor\n",
    "def test(net, memory_data_loader, test_data_loader, epoch, args):\n",
    "    net.eval()\n",
    "    classes = len(memory_data_loader.dataset.classes)\n",
    "    total_top1, total_top5, total_num, feature_bank = 0.0, 0.0, 0, []\n",
    "    with torch.no_grad():\n",
    "        # generate feature bank\n",
    "        for data, target in tqdm(memory_data_loader, desc='Feature extracting'):\n",
    "            feature = net(data.cuda(non_blocking=True))\n",
    "            feature = F.normalize(feature, dim=1)\n",
    "            feature_bank.append(feature)\n",
    "        # [D, N]\n",
    "        feature_bank = torch.cat(feature_bank, dim=0).t().contiguous()\n",
    "        # [N]\n",
    "        feature_labels = torch.tensor(memory_data_loader.dataset.targets, device=feature_bank.device)\n",
    "        # loop test data to predict the label by weighted knn search\n",
    "        test_bar = tqdm(test_data_loader)\n",
    "        for data, target in test_bar:\n",
    "            data, target = data.cuda(non_blocking=True), target.cuda(non_blocking=True)\n",
    "            feature = net(data)\n",
    "            feature = F.normalize(feature, dim=1)\n",
    "            \n",
    "            pred_labels = knn_predict(feature, feature_bank, feature_labels, classes, args.knn_k, args.knn_t)\n",
    "            print(target.size())\n",
    "            total_num += data.size(0)\n",
    "            total_top1 += (pred_labels[:, 0] == target).float().sum().item()\n",
    "            test_bar.set_description('Test Epoch: [{}/{}] Acc@1:{:.2f}%'.format(epoch, args.epochs, total_top1 / total_num * 100))\n",
    "\n",
    "    return total_top1 / total_num * 100\n",
    "\n",
    "# knn monitor as in InstDisc https://arxiv.org/abs/1805.01978\n",
    "# implementation follows http://github.com/zhirongw/lemniscate.pytorch and https://github.com/leftthomas/SimCLR\n",
    "def knn_predict(feature, feature_bank, feature_labels, classes, knn_k, knn_t):\n",
    "    # compute cos similarity between each feature vector and feature bank ---> [B, N]\n",
    "    sim_matrix = torch.mm(feature, feature_bank)\n",
    "    # [B, K]\n",
    "    sim_weight, sim_indices = sim_matrix.topk(k=knn_k, dim=-1)\n",
    "    # [B, K]\n",
    "    sim_labels = torch.gather(feature_labels.expand(feature.size(0), -1), dim=-1, index=sim_indices)\n",
    "    sim_weight = (sim_weight / knn_t).exp()\n",
    "\n",
    "    # counts for each class\n",
    "    one_hot_label = torch.zeros(feature.size(0) * knn_k, classes, device=sim_labels.device)\n",
    "    # [B*K, C]\n",
    "    one_hot_label = one_hot_label.scatter(dim=-1, index=sim_labels.view(-1, 1), value=1.0)\n",
    "    # weighted score ---> [B, C]\n",
    "    pred_scores = torch.sum(one_hot_label.view(feature.size(0), -1, classes) * sim_weight.unsqueeze(dim=-1), dim=1)\n",
    "\n",
    "    pred_labels = pred_scores.argsort(dim=-1, descending=True)\n",
    "    return pred_labels"
   ]
  },
  {
   "cell_type": "markdown",
   "metadata": {
    "id": "86lHkiKox3KO"
   },
   "source": [
    "### Start training"
   ]
  },
  {
   "cell_type": "code",
   "execution_count": 41,
   "metadata": {
    "colab": {
     "base_uri": "https://localhost:8080/",
     "height": 1000
    },
    "id": "M3INyoTC3-bf",
    "outputId": "5b027f00-93b4-4813-9655-45c05ae8a1d6"
   },
   "outputs": [
    {
     "name": "stderr",
     "output_type": "stream",
     "text": [
      "<>:6: SyntaxWarning: \"is not\" with a literal. Did you mean \"!=\"?\n",
      "<>:6: SyntaxWarning: \"is not\" with a literal. Did you mean \"!=\"?\n",
      "C:\\Users\\Administrator\\AppData\\Local\\Temp\\ipykernel_14084\\1217190116.py:6: SyntaxWarning: \"is not\" with a literal. Did you mean \"!=\"?\n",
      "  if args.resume is not '':\n",
      "Train Epoch: [1/100], lr: 0.029993, Loss: 5.6046: 100%|██████████| 97/97 [00:30<00:00,  3.23it/s]\n",
      "Feature extracting: 100%|██████████| 12/12 [00:00<00:00, 14.93it/s]\n",
      "  0%|          | 0/3 [00:00<?, ?it/s]"
     ]
    },
    {
     "name": "stdout",
     "output_type": "stream",
     "text": [
      "torch.Size([128])\n"
     ]
    },
    {
     "name": "stderr",
     "output_type": "stream",
     "text": [
      "Test Epoch: [1/100] Acc@1:62.50%:  33%|███▎      | 1/3 [00:00<00:00,  3.20it/s]"
     ]
    },
    {
     "name": "stdout",
     "output_type": "stream",
     "text": [
      "torch.Size([128])\n"
     ]
    },
    {
     "name": "stderr",
     "output_type": "stream",
     "text": [
      "Test Epoch: [1/100] Acc@1:62.11%:  67%|██████▋   | 2/3 [00:00<00:00,  3.19it/s]"
     ]
    },
    {
     "name": "stdout",
     "output_type": "stream",
     "text": [
      "torch.Size([120])\n"
     ]
    },
    {
     "name": "stderr",
     "output_type": "stream",
     "text": [
      "Test Epoch: [1/100] Acc@1:63.03%: 100%|██████████| 3/3 [00:00<00:00,  3.23it/s]\n",
      "Train Epoch: [2/100], lr: 0.029970, Loss: 6.1850: 100%|██████████| 97/97 [00:30<00:00,  3.21it/s]\n",
      "Feature extracting: 100%|██████████| 12/12 [00:00<00:00, 14.95it/s]\n",
      "  0%|          | 0/3 [00:00<?, ?it/s]"
     ]
    },
    {
     "name": "stdout",
     "output_type": "stream",
     "text": [
      "torch.Size([128])\n"
     ]
    },
    {
     "name": "stderr",
     "output_type": "stream",
     "text": [
      "Test Epoch: [2/100] Acc@1:59.38%:  33%|███▎      | 1/3 [00:00<00:00,  3.16it/s]"
     ]
    },
    {
     "name": "stdout",
     "output_type": "stream",
     "text": [
      "torch.Size([128])\n"
     ]
    },
    {
     "name": "stderr",
     "output_type": "stream",
     "text": [
      "Test Epoch: [2/100] Acc@1:62.11%:  67%|██████▋   | 2/3 [00:00<00:00,  3.16it/s]"
     ]
    },
    {
     "name": "stdout",
     "output_type": "stream",
     "text": [
      "torch.Size([120])\n"
     ]
    },
    {
     "name": "stderr",
     "output_type": "stream",
     "text": [
      "Test Epoch: [2/100] Acc@1:64.10%: 100%|██████████| 3/3 [00:00<00:00,  3.19it/s]\n",
      "Train Epoch: [3/100], lr: 0.029933, Loss: 6.3205: 100%|██████████| 97/97 [00:29<00:00,  3.24it/s]\n",
      "Feature extracting: 100%|██████████| 12/12 [00:00<00:00, 15.31it/s]\n",
      "  0%|          | 0/3 [00:00<?, ?it/s]"
     ]
    },
    {
     "name": "stdout",
     "output_type": "stream",
     "text": [
      "torch.Size([128])\n"
     ]
    },
    {
     "name": "stderr",
     "output_type": "stream",
     "text": [
      "Test Epoch: [3/100] Acc@1:60.16%:  33%|███▎      | 1/3 [00:00<00:00,  3.18it/s]"
     ]
    },
    {
     "name": "stdout",
     "output_type": "stream",
     "text": [
      "torch.Size([128])\n"
     ]
    },
    {
     "name": "stderr",
     "output_type": "stream",
     "text": [
      "Test Epoch: [3/100] Acc@1:60.16%:  67%|██████▋   | 2/3 [00:00<00:00,  3.20it/s]"
     ]
    },
    {
     "name": "stdout",
     "output_type": "stream",
     "text": [
      "torch.Size([120])\n"
     ]
    },
    {
     "name": "stderr",
     "output_type": "stream",
     "text": [
      "Test Epoch: [3/100] Acc@1:60.90%: 100%|██████████| 3/3 [00:00<00:00,  3.23it/s]\n",
      "Train Epoch: [4/100], lr: 0.029882, Loss: 6.2811: 100%|██████████| 97/97 [00:29<00:00,  3.24it/s]\n",
      "Feature extracting: 100%|██████████| 12/12 [00:00<00:00, 14.89it/s]\n",
      "  0%|          | 0/3 [00:00<?, ?it/s]"
     ]
    },
    {
     "name": "stdout",
     "output_type": "stream",
     "text": [
      "torch.Size([128])\n"
     ]
    },
    {
     "name": "stderr",
     "output_type": "stream",
     "text": [
      "Test Epoch: [4/100] Acc@1:63.28%:  33%|███▎      | 1/3 [00:00<00:00,  3.17it/s]"
     ]
    },
    {
     "name": "stdout",
     "output_type": "stream",
     "text": [
      "torch.Size([128])\n"
     ]
    },
    {
     "name": "stderr",
     "output_type": "stream",
     "text": [
      "Test Epoch: [4/100] Acc@1:63.28%:  67%|██████▋   | 2/3 [00:00<00:00,  3.16it/s]"
     ]
    },
    {
     "name": "stdout",
     "output_type": "stream",
     "text": [
      "torch.Size([120])\n"
     ]
    },
    {
     "name": "stderr",
     "output_type": "stream",
     "text": [
      "Test Epoch: [4/100] Acc@1:63.03%: 100%|██████████| 3/3 [00:00<00:00,  3.21it/s]\n",
      "Train Epoch: [5/100], lr: 0.029815, Loss: 6.2155: 100%|██████████| 97/97 [00:29<00:00,  3.24it/s]\n",
      "Feature extracting: 100%|██████████| 12/12 [00:00<00:00, 14.98it/s]\n",
      "  0%|          | 0/3 [00:00<?, ?it/s]"
     ]
    },
    {
     "name": "stdout",
     "output_type": "stream",
     "text": [
      "torch.Size([128])\n"
     ]
    },
    {
     "name": "stderr",
     "output_type": "stream",
     "text": [
      "Test Epoch: [5/100] Acc@1:62.50%:  33%|███▎      | 1/3 [00:00<00:00,  3.14it/s]"
     ]
    },
    {
     "name": "stdout",
     "output_type": "stream",
     "text": [
      "torch.Size([128])\n"
     ]
    },
    {
     "name": "stderr",
     "output_type": "stream",
     "text": [
      "Test Epoch: [5/100] Acc@1:62.89%:  67%|██████▋   | 2/3 [00:00<00:00,  3.15it/s]"
     ]
    },
    {
     "name": "stdout",
     "output_type": "stream",
     "text": [
      "torch.Size([120])\n"
     ]
    },
    {
     "name": "stderr",
     "output_type": "stream",
     "text": [
      "Test Epoch: [5/100] Acc@1:63.03%: 100%|██████████| 3/3 [00:00<00:00,  3.21it/s]\n",
      "Train Epoch: [6/100], lr: 0.029734, Loss: 6.1462: 100%|██████████| 97/97 [00:29<00:00,  3.24it/s]\n",
      "Feature extracting: 100%|██████████| 12/12 [00:00<00:00, 15.23it/s]\n",
      "  0%|          | 0/3 [00:00<?, ?it/s]"
     ]
    },
    {
     "name": "stdout",
     "output_type": "stream",
     "text": [
      "torch.Size([128])\n"
     ]
    },
    {
     "name": "stderr",
     "output_type": "stream",
     "text": [
      "Test Epoch: [6/100] Acc@1:62.50%:  33%|███▎      | 1/3 [00:00<00:00,  3.14it/s]"
     ]
    },
    {
     "name": "stdout",
     "output_type": "stream",
     "text": [
      "torch.Size([128])\n"
     ]
    },
    {
     "name": "stderr",
     "output_type": "stream",
     "text": [
      "Test Epoch: [6/100] Acc@1:62.11%:  67%|██████▋   | 2/3 [00:00<00:00,  3.15it/s]"
     ]
    },
    {
     "name": "stdout",
     "output_type": "stream",
     "text": [
      "torch.Size([120])\n"
     ]
    },
    {
     "name": "stderr",
     "output_type": "stream",
     "text": [
      "Test Epoch: [6/100] Acc@1:62.23%: 100%|██████████| 3/3 [00:00<00:00,  3.21it/s]\n",
      "Train Epoch: [7/100], lr: 0.029639, Loss: 6.0593: 100%|██████████| 97/97 [00:29<00:00,  3.24it/s]\n",
      "Feature extracting: 100%|██████████| 12/12 [00:00<00:00, 15.27it/s]\n",
      "  0%|          | 0/3 [00:00<?, ?it/s]"
     ]
    },
    {
     "name": "stdout",
     "output_type": "stream",
     "text": [
      "torch.Size([128])\n"
     ]
    },
    {
     "name": "stderr",
     "output_type": "stream",
     "text": [
      "Test Epoch: [7/100] Acc@1:65.62%:  33%|███▎      | 1/3 [00:00<00:00,  3.13it/s]"
     ]
    },
    {
     "name": "stdout",
     "output_type": "stream",
     "text": [
      "torch.Size([128])\n"
     ]
    },
    {
     "name": "stderr",
     "output_type": "stream",
     "text": [
      "Test Epoch: [7/100] Acc@1:64.84%:  67%|██████▋   | 2/3 [00:00<00:00,  3.15it/s]"
     ]
    },
    {
     "name": "stdout",
     "output_type": "stream",
     "text": [
      "torch.Size([120])\n"
     ]
    },
    {
     "name": "stderr",
     "output_type": "stream",
     "text": [
      "Test Epoch: [7/100] Acc@1:65.43%: 100%|██████████| 3/3 [00:00<00:00,  3.20it/s]\n",
      "Train Epoch: [8/100], lr: 0.029529, Loss: 5.9184: 100%|██████████| 97/97 [00:29<00:00,  3.24it/s]\n",
      "Feature extracting: 100%|██████████| 12/12 [00:00<00:00, 14.75it/s]\n",
      "  0%|          | 0/3 [00:00<?, ?it/s]"
     ]
    },
    {
     "name": "stdout",
     "output_type": "stream",
     "text": [
      "torch.Size([128])\n"
     ]
    },
    {
     "name": "stderr",
     "output_type": "stream",
     "text": [
      "Test Epoch: [8/100] Acc@1:58.59%:  33%|███▎      | 1/3 [00:00<00:00,  3.18it/s]"
     ]
    },
    {
     "name": "stdout",
     "output_type": "stream",
     "text": [
      "torch.Size([128])\n"
     ]
    },
    {
     "name": "stderr",
     "output_type": "stream",
     "text": [
      "Test Epoch: [8/100] Acc@1:60.16%:  67%|██████▋   | 2/3 [00:00<00:00,  3.18it/s]"
     ]
    },
    {
     "name": "stdout",
     "output_type": "stream",
     "text": [
      "torch.Size([120])\n"
     ]
    },
    {
     "name": "stderr",
     "output_type": "stream",
     "text": [
      "Test Epoch: [8/100] Acc@1:60.64%: 100%|██████████| 3/3 [00:00<00:00,  3.22it/s]\n",
      "Train Epoch: [9/100], lr: 0.029404, Loss: 5.8232: 100%|██████████| 97/97 [00:29<00:00,  3.24it/s]\n",
      "Feature extracting: 100%|██████████| 12/12 [00:00<00:00, 14.97it/s]\n",
      "  0%|          | 0/3 [00:00<?, ?it/s]"
     ]
    },
    {
     "name": "stdout",
     "output_type": "stream",
     "text": [
      "torch.Size([128])\n"
     ]
    },
    {
     "name": "stderr",
     "output_type": "stream",
     "text": [
      "Test Epoch: [9/100] Acc@1:55.47%:  33%|███▎      | 1/3 [00:00<00:00,  3.20it/s]"
     ]
    },
    {
     "name": "stdout",
     "output_type": "stream",
     "text": [
      "torch.Size([128])\n"
     ]
    },
    {
     "name": "stderr",
     "output_type": "stream",
     "text": [
      "Test Epoch: [9/100] Acc@1:59.38%:  67%|██████▋   | 2/3 [00:00<00:00,  3.19it/s]"
     ]
    },
    {
     "name": "stdout",
     "output_type": "stream",
     "text": [
      "torch.Size([120])\n"
     ]
    },
    {
     "name": "stderr",
     "output_type": "stream",
     "text": [
      "Test Epoch: [9/100] Acc@1:60.90%: 100%|██████████| 3/3 [00:00<00:00,  3.23it/s]\n",
      "Train Epoch: [10/100], lr: 0.029266, Loss: 5.7350: 100%|██████████| 97/97 [00:29<00:00,  3.24it/s]\n",
      "Feature extracting: 100%|██████████| 12/12 [00:00<00:00, 14.98it/s]\n",
      "  0%|          | 0/3 [00:00<?, ?it/s]"
     ]
    },
    {
     "name": "stdout",
     "output_type": "stream",
     "text": [
      "torch.Size([128])\n"
     ]
    },
    {
     "name": "stderr",
     "output_type": "stream",
     "text": [
      "Test Epoch: [10/100] Acc@1:59.38%:  33%|███▎      | 1/3 [00:00<00:00,  3.13it/s]"
     ]
    },
    {
     "name": "stdout",
     "output_type": "stream",
     "text": [
      "torch.Size([128])\n"
     ]
    },
    {
     "name": "stderr",
     "output_type": "stream",
     "text": [
      "Test Epoch: [10/100] Acc@1:61.33%:  67%|██████▋   | 2/3 [00:00<00:00,  3.13it/s]"
     ]
    },
    {
     "name": "stdout",
     "output_type": "stream",
     "text": [
      "torch.Size([120])\n"
     ]
    },
    {
     "name": "stderr",
     "output_type": "stream",
     "text": [
      "Test Epoch: [10/100] Acc@1:61.70%: 100%|██████████| 3/3 [00:00<00:00,  3.18it/s]\n",
      "Train Epoch: [11/100], lr: 0.029113, Loss: 5.6032: 100%|██████████| 97/97 [00:29<00:00,  3.23it/s]\n",
      "Feature extracting: 100%|██████████| 12/12 [00:00<00:00, 14.93it/s]\n",
      "  0%|          | 0/3 [00:00<?, ?it/s]"
     ]
    },
    {
     "name": "stdout",
     "output_type": "stream",
     "text": [
      "torch.Size([128])\n"
     ]
    },
    {
     "name": "stderr",
     "output_type": "stream",
     "text": [
      "Test Epoch: [11/100] Acc@1:60.94%:  33%|███▎      | 1/3 [00:00<00:00,  3.19it/s]"
     ]
    },
    {
     "name": "stdout",
     "output_type": "stream",
     "text": [
      "torch.Size([128])\n"
     ]
    },
    {
     "name": "stderr",
     "output_type": "stream",
     "text": [
      "Test Epoch: [11/100] Acc@1:62.50%:  67%|██████▋   | 2/3 [00:00<00:00,  3.18it/s]"
     ]
    },
    {
     "name": "stdout",
     "output_type": "stream",
     "text": [
      "torch.Size([120])\n"
     ]
    },
    {
     "name": "stderr",
     "output_type": "stream",
     "text": [
      "Test Epoch: [11/100] Acc@1:61.44%: 100%|██████████| 3/3 [00:00<00:00,  3.22it/s]\n",
      "Train Epoch: [12/100], lr: 0.028947, Loss: 5.5002: 100%|██████████| 97/97 [00:29<00:00,  3.24it/s]\n",
      "Feature extracting: 100%|██████████| 12/12 [00:00<00:00, 15.06it/s]\n",
      "  0%|          | 0/3 [00:00<?, ?it/s]"
     ]
    },
    {
     "name": "stdout",
     "output_type": "stream",
     "text": [
      "torch.Size([128])\n"
     ]
    },
    {
     "name": "stderr",
     "output_type": "stream",
     "text": [
      "Test Epoch: [12/100] Acc@1:60.94%:  33%|███▎      | 1/3 [00:00<00:00,  3.18it/s]"
     ]
    },
    {
     "name": "stdout",
     "output_type": "stream",
     "text": [
      "torch.Size([128])\n"
     ]
    },
    {
     "name": "stderr",
     "output_type": "stream",
     "text": [
      "Test Epoch: [12/100] Acc@1:61.72%:  67%|██████▋   | 2/3 [00:00<00:00,  3.20it/s]"
     ]
    },
    {
     "name": "stdout",
     "output_type": "stream",
     "text": [
      "torch.Size([120])\n"
     ]
    },
    {
     "name": "stderr",
     "output_type": "stream",
     "text": [
      "Test Epoch: [12/100] Acc@1:61.17%: 100%|██████████| 3/3 [00:00<00:00,  3.23it/s]\n",
      "Train Epoch: [13/100], lr: 0.028766, Loss: 5.4612: 100%|██████████| 97/97 [00:29<00:00,  3.24it/s]\n",
      "Feature extracting: 100%|██████████| 12/12 [00:00<00:00, 14.89it/s]\n",
      "  0%|          | 0/3 [00:00<?, ?it/s]"
     ]
    },
    {
     "name": "stdout",
     "output_type": "stream",
     "text": [
      "torch.Size([128])\n"
     ]
    },
    {
     "name": "stderr",
     "output_type": "stream",
     "text": [
      "Test Epoch: [13/100] Acc@1:60.16%:  33%|███▎      | 1/3 [00:00<00:00,  3.17it/s]"
     ]
    },
    {
     "name": "stdout",
     "output_type": "stream",
     "text": [
      "torch.Size([128])\n"
     ]
    },
    {
     "name": "stderr",
     "output_type": "stream",
     "text": [
      "Test Epoch: [13/100] Acc@1:62.11%:  67%|██████▋   | 2/3 [00:00<00:00,  3.18it/s]"
     ]
    },
    {
     "name": "stdout",
     "output_type": "stream",
     "text": [
      "torch.Size([120])\n"
     ]
    },
    {
     "name": "stderr",
     "output_type": "stream",
     "text": [
      "Test Epoch: [13/100] Acc@1:63.03%: 100%|██████████| 3/3 [00:00<00:00,  3.23it/s]\n",
      "Train Epoch: [14/100], lr: 0.028572, Loss: 5.3907: 100%|██████████| 97/97 [00:29<00:00,  3.24it/s]\n",
      "Feature extracting: 100%|██████████| 12/12 [00:00<00:00, 15.04it/s]\n",
      "  0%|          | 0/3 [00:00<?, ?it/s]"
     ]
    },
    {
     "name": "stdout",
     "output_type": "stream",
     "text": [
      "torch.Size([128])\n"
     ]
    },
    {
     "name": "stderr",
     "output_type": "stream",
     "text": [
      "Test Epoch: [14/100] Acc@1:57.03%:  33%|███▎      | 1/3 [00:00<00:00,  3.18it/s]"
     ]
    },
    {
     "name": "stdout",
     "output_type": "stream",
     "text": [
      "torch.Size([128])\n"
     ]
    },
    {
     "name": "stderr",
     "output_type": "stream",
     "text": [
      "Test Epoch: [14/100] Acc@1:60.94%:  67%|██████▋   | 2/3 [00:00<00:00,  3.12it/s]"
     ]
    },
    {
     "name": "stdout",
     "output_type": "stream",
     "text": [
      "torch.Size([120])\n"
     ]
    },
    {
     "name": "stderr",
     "output_type": "stream",
     "text": [
      "Test Epoch: [14/100] Acc@1:62.50%: 100%|██████████| 3/3 [00:00<00:00,  3.20it/s]\n",
      "Train Epoch: [15/100], lr: 0.028365, Loss: 5.3425: 100%|██████████| 97/97 [00:29<00:00,  3.23it/s]\n",
      "Feature extracting: 100%|██████████| 12/12 [00:00<00:00, 14.67it/s]\n",
      "  0%|          | 0/3 [00:00<?, ?it/s]"
     ]
    },
    {
     "name": "stdout",
     "output_type": "stream",
     "text": [
      "torch.Size([128])\n"
     ]
    },
    {
     "name": "stderr",
     "output_type": "stream",
     "text": [
      "Test Epoch: [15/100] Acc@1:61.72%:  33%|███▎      | 1/3 [00:00<00:00,  3.16it/s]"
     ]
    },
    {
     "name": "stdout",
     "output_type": "stream",
     "text": [
      "torch.Size([128])\n"
     ]
    },
    {
     "name": "stderr",
     "output_type": "stream",
     "text": [
      "Test Epoch: [15/100] Acc@1:64.84%:  67%|██████▋   | 2/3 [00:00<00:00,  3.16it/s]"
     ]
    },
    {
     "name": "stdout",
     "output_type": "stream",
     "text": [
      "torch.Size([120])\n"
     ]
    },
    {
     "name": "stderr",
     "output_type": "stream",
     "text": [
      "Test Epoch: [15/100] Acc@1:64.36%: 100%|██████████| 3/3 [00:00<00:00,  3.21it/s]\n",
      "Train Epoch: [16/100], lr: 0.028145, Loss: 5.2180: 100%|██████████| 97/97 [00:29<00:00,  3.24it/s]\n",
      "Feature extracting: 100%|██████████| 12/12 [00:00<00:00, 14.84it/s]\n",
      "  0%|          | 0/3 [00:00<?, ?it/s]"
     ]
    },
    {
     "name": "stdout",
     "output_type": "stream",
     "text": [
      "torch.Size([128])\n"
     ]
    },
    {
     "name": "stderr",
     "output_type": "stream",
     "text": [
      "Test Epoch: [16/100] Acc@1:64.84%:  33%|███▎      | 1/3 [00:00<00:00,  3.17it/s]"
     ]
    },
    {
     "name": "stdout",
     "output_type": "stream",
     "text": [
      "torch.Size([128])\n"
     ]
    },
    {
     "name": "stderr",
     "output_type": "stream",
     "text": [
      "Test Epoch: [16/100] Acc@1:69.14%:  67%|██████▋   | 2/3 [00:00<00:00,  3.20it/s]"
     ]
    },
    {
     "name": "stdout",
     "output_type": "stream",
     "text": [
      "torch.Size([120])\n"
     ]
    },
    {
     "name": "stderr",
     "output_type": "stream",
     "text": [
      "Test Epoch: [16/100] Acc@1:68.35%: 100%|██████████| 3/3 [00:00<00:00,  3.19it/s]\n",
      "Train Epoch: [17/100], lr: 0.027911, Loss: 5.1345: 100%|██████████| 97/97 [00:29<00:00,  3.24it/s]\n",
      "Feature extracting: 100%|██████████| 12/12 [00:00<00:00, 14.93it/s]\n",
      "  0%|          | 0/3 [00:00<?, ?it/s]"
     ]
    },
    {
     "name": "stdout",
     "output_type": "stream",
     "text": [
      "torch.Size([128])\n"
     ]
    },
    {
     "name": "stderr",
     "output_type": "stream",
     "text": [
      "Test Epoch: [17/100] Acc@1:61.72%:  33%|███▎      | 1/3 [00:00<00:00,  3.21it/s]"
     ]
    },
    {
     "name": "stdout",
     "output_type": "stream",
     "text": [
      "torch.Size([128])\n"
     ]
    },
    {
     "name": "stderr",
     "output_type": "stream",
     "text": [
      "Test Epoch: [17/100] Acc@1:67.58%:  67%|██████▋   | 2/3 [00:00<00:00,  3.19it/s]"
     ]
    },
    {
     "name": "stdout",
     "output_type": "stream",
     "text": [
      "torch.Size([120])\n"
     ]
    },
    {
     "name": "stderr",
     "output_type": "stream",
     "text": [
      "Test Epoch: [17/100] Acc@1:67.02%: 100%|██████████| 3/3 [00:00<00:00,  3.23it/s]\n",
      "Train Epoch: [18/100], lr: 0.027665, Loss: 5.0745: 100%|██████████| 97/97 [00:29<00:00,  3.24it/s]\n",
      "Feature extracting: 100%|██████████| 12/12 [00:00<00:00, 15.08it/s]\n",
      "  0%|          | 0/3 [00:00<?, ?it/s]"
     ]
    },
    {
     "name": "stdout",
     "output_type": "stream",
     "text": [
      "torch.Size([128])\n"
     ]
    },
    {
     "name": "stderr",
     "output_type": "stream",
     "text": [
      "Test Epoch: [18/100] Acc@1:62.50%:  33%|███▎      | 1/3 [00:00<00:00,  3.18it/s]"
     ]
    },
    {
     "name": "stdout",
     "output_type": "stream",
     "text": [
      "torch.Size([128])\n"
     ]
    },
    {
     "name": "stderr",
     "output_type": "stream",
     "text": [
      "Test Epoch: [18/100] Acc@1:66.80%:  67%|██████▋   | 2/3 [00:00<00:00,  3.18it/s]"
     ]
    },
    {
     "name": "stdout",
     "output_type": "stream",
     "text": [
      "torch.Size([120])\n"
     ]
    },
    {
     "name": "stderr",
     "output_type": "stream",
     "text": [
      "Test Epoch: [18/100] Acc@1:67.02%: 100%|██████████| 3/3 [00:00<00:00,  3.22it/s]\n",
      "Train Epoch: [19/100], lr: 0.027406, Loss: 4.9620: 100%|██████████| 97/97 [00:29<00:00,  3.24it/s]\n",
      "Feature extracting: 100%|██████████| 12/12 [00:00<00:00, 14.98it/s]\n",
      "  0%|          | 0/3 [00:00<?, ?it/s]"
     ]
    },
    {
     "name": "stdout",
     "output_type": "stream",
     "text": [
      "torch.Size([128])\n"
     ]
    },
    {
     "name": "stderr",
     "output_type": "stream",
     "text": [
      "Test Epoch: [19/100] Acc@1:61.72%:  33%|███▎      | 1/3 [00:00<00:00,  3.15it/s]"
     ]
    },
    {
     "name": "stdout",
     "output_type": "stream",
     "text": [
      "torch.Size([128])\n"
     ]
    },
    {
     "name": "stderr",
     "output_type": "stream",
     "text": [
      "Test Epoch: [19/100] Acc@1:67.58%:  67%|██████▋   | 2/3 [00:00<00:00,  3.16it/s]"
     ]
    },
    {
     "name": "stdout",
     "output_type": "stream",
     "text": [
      "torch.Size([120])\n"
     ]
    },
    {
     "name": "stderr",
     "output_type": "stream",
     "text": [
      "Test Epoch: [19/100] Acc@1:67.55%: 100%|██████████| 3/3 [00:00<00:00,  3.21it/s]\n",
      "Train Epoch: [20/100], lr: 0.027135, Loss: 4.8632: 100%|██████████| 97/97 [00:30<00:00,  3.20it/s]\n",
      "Feature extracting: 100%|██████████| 12/12 [00:00<00:00, 13.50it/s]\n",
      "  0%|          | 0/3 [00:00<?, ?it/s]"
     ]
    },
    {
     "name": "stdout",
     "output_type": "stream",
     "text": [
      "torch.Size([128])\n"
     ]
    },
    {
     "name": "stderr",
     "output_type": "stream",
     "text": [
      "Test Epoch: [20/100] Acc@1:65.62%:  33%|███▎      | 1/3 [00:00<00:00,  3.16it/s]"
     ]
    },
    {
     "name": "stdout",
     "output_type": "stream",
     "text": [
      "torch.Size([128])\n"
     ]
    },
    {
     "name": "stderr",
     "output_type": "stream",
     "text": [
      "Test Epoch: [20/100] Acc@1:69.53%:  67%|██████▋   | 2/3 [00:00<00:00,  3.19it/s]"
     ]
    },
    {
     "name": "stdout",
     "output_type": "stream",
     "text": [
      "torch.Size([120])\n"
     ]
    },
    {
     "name": "stderr",
     "output_type": "stream",
     "text": [
      "Test Epoch: [20/100] Acc@1:68.35%: 100%|██████████| 3/3 [00:00<00:00,  3.22it/s]\n",
      "Train Epoch: [21/100], lr: 0.026852, Loss: 4.7738: 100%|██████████| 97/97 [00:29<00:00,  3.24it/s]\n",
      "Feature extracting: 100%|██████████| 12/12 [00:00<00:00, 14.53it/s]\n",
      "  0%|          | 0/3 [00:00<?, ?it/s]"
     ]
    },
    {
     "name": "stdout",
     "output_type": "stream",
     "text": [
      "torch.Size([128])\n"
     ]
    },
    {
     "name": "stderr",
     "output_type": "stream",
     "text": [
      "Test Epoch: [21/100] Acc@1:68.75%:  33%|███▎      | 1/3 [00:00<00:00,  3.19it/s]"
     ]
    },
    {
     "name": "stdout",
     "output_type": "stream",
     "text": [
      "torch.Size([128])\n"
     ]
    },
    {
     "name": "stderr",
     "output_type": "stream",
     "text": [
      "Test Epoch: [21/100] Acc@1:68.36%:  67%|██████▋   | 2/3 [00:00<00:00,  3.19it/s]"
     ]
    },
    {
     "name": "stdout",
     "output_type": "stream",
     "text": [
      "torch.Size([120])\n"
     ]
    },
    {
     "name": "stderr",
     "output_type": "stream",
     "text": [
      "Test Epoch: [21/100] Acc@1:68.88%: 100%|██████████| 3/3 [00:00<00:00,  3.24it/s]\n",
      "Train Epoch: [22/100], lr: 0.026558, Loss: 4.6688: 100%|██████████| 97/97 [00:29<00:00,  3.24it/s]\n",
      "Feature extracting: 100%|██████████| 12/12 [00:00<00:00, 15.04it/s]\n",
      "  0%|          | 0/3 [00:00<?, ?it/s]"
     ]
    },
    {
     "name": "stdout",
     "output_type": "stream",
     "text": [
      "torch.Size([128])\n"
     ]
    },
    {
     "name": "stderr",
     "output_type": "stream",
     "text": [
      "Test Epoch: [22/100] Acc@1:57.03%:  33%|███▎      | 1/3 [00:00<00:00,  3.11it/s]"
     ]
    },
    {
     "name": "stdout",
     "output_type": "stream",
     "text": [
      "torch.Size([128])\n"
     ]
    },
    {
     "name": "stderr",
     "output_type": "stream",
     "text": [
      "Test Epoch: [22/100] Acc@1:66.02%:  67%|██████▋   | 2/3 [00:00<00:00,  3.09it/s]"
     ]
    },
    {
     "name": "stdout",
     "output_type": "stream",
     "text": [
      "torch.Size([120])\n"
     ]
    },
    {
     "name": "stderr",
     "output_type": "stream",
     "text": [
      "Test Epoch: [22/100] Acc@1:65.69%: 100%|██████████| 3/3 [00:00<00:00,  3.18it/s]\n",
      "Train Epoch: [23/100], lr: 0.026252, Loss: 4.6233: 100%|██████████| 97/97 [00:29<00:00,  3.25it/s]\n",
      "Feature extracting: 100%|██████████| 12/12 [00:00<00:00, 15.00it/s]\n",
      "  0%|          | 0/3 [00:00<?, ?it/s]"
     ]
    },
    {
     "name": "stdout",
     "output_type": "stream",
     "text": [
      "torch.Size([128])\n"
     ]
    },
    {
     "name": "stderr",
     "output_type": "stream",
     "text": [
      "Test Epoch: [23/100] Acc@1:69.53%:  33%|███▎      | 1/3 [00:00<00:00,  3.15it/s]"
     ]
    },
    {
     "name": "stdout",
     "output_type": "stream",
     "text": [
      "torch.Size([128])\n"
     ]
    },
    {
     "name": "stderr",
     "output_type": "stream",
     "text": [
      "Test Epoch: [23/100] Acc@1:70.31%:  67%|██████▋   | 2/3 [00:00<00:00,  3.19it/s]"
     ]
    },
    {
     "name": "stdout",
     "output_type": "stream",
     "text": [
      "torch.Size([120])\n"
     ]
    },
    {
     "name": "stderr",
     "output_type": "stream",
     "text": [
      "Test Epoch: [23/100] Acc@1:68.35%: 100%|██████████| 3/3 [00:00<00:00,  3.23it/s]\n",
      "Train Epoch: [24/100], lr: 0.025935, Loss: 4.5349: 100%|██████████| 97/97 [00:29<00:00,  3.25it/s]\n",
      "Feature extracting: 100%|██████████| 12/12 [00:00<00:00, 14.76it/s]\n",
      "  0%|          | 0/3 [00:00<?, ?it/s]"
     ]
    },
    {
     "name": "stdout",
     "output_type": "stream",
     "text": [
      "torch.Size([128])\n"
     ]
    },
    {
     "name": "stderr",
     "output_type": "stream",
     "text": [
      "Test Epoch: [24/100] Acc@1:66.41%:  33%|███▎      | 1/3 [00:00<00:00,  3.15it/s]"
     ]
    },
    {
     "name": "stdout",
     "output_type": "stream",
     "text": [
      "torch.Size([128])\n"
     ]
    },
    {
     "name": "stderr",
     "output_type": "stream",
     "text": [
      "Test Epoch: [24/100] Acc@1:69.14%:  67%|██████▋   | 2/3 [00:00<00:00,  3.15it/s]"
     ]
    },
    {
     "name": "stdout",
     "output_type": "stream",
     "text": [
      "torch.Size([120])\n"
     ]
    },
    {
     "name": "stderr",
     "output_type": "stream",
     "text": [
      "Test Epoch: [24/100] Acc@1:67.82%: 100%|██████████| 3/3 [00:00<00:00,  3.21it/s]\n",
      "Train Epoch: [25/100], lr: 0.025607, Loss: 4.4796: 100%|██████████| 97/97 [00:29<00:00,  3.24it/s]\n",
      "Feature extracting: 100%|██████████| 12/12 [00:00<00:00, 14.64it/s]\n",
      "  0%|          | 0/3 [00:00<?, ?it/s]"
     ]
    },
    {
     "name": "stdout",
     "output_type": "stream",
     "text": [
      "torch.Size([128])\n"
     ]
    },
    {
     "name": "stderr",
     "output_type": "stream",
     "text": [
      "Test Epoch: [25/100] Acc@1:65.62%:  33%|███▎      | 1/3 [00:00<00:00,  3.12it/s]"
     ]
    },
    {
     "name": "stdout",
     "output_type": "stream",
     "text": [
      "torch.Size([128])\n"
     ]
    },
    {
     "name": "stderr",
     "output_type": "stream",
     "text": [
      "Test Epoch: [25/100] Acc@1:69.14%:  67%|██████▋   | 2/3 [00:00<00:00,  3.17it/s]"
     ]
    },
    {
     "name": "stdout",
     "output_type": "stream",
     "text": [
      "torch.Size([120])\n"
     ]
    },
    {
     "name": "stderr",
     "output_type": "stream",
     "text": [
      "Test Epoch: [25/100] Acc@1:68.09%: 100%|██████████| 3/3 [00:00<00:00,  3.21it/s]\n",
      "Train Epoch: [26/100], lr: 0.025268, Loss: 4.3874: 100%|██████████| 97/97 [00:29<00:00,  3.25it/s]\n",
      "Feature extracting: 100%|██████████| 12/12 [00:00<00:00, 14.85it/s]\n",
      "  0%|          | 0/3 [00:00<?, ?it/s]"
     ]
    },
    {
     "name": "stdout",
     "output_type": "stream",
     "text": [
      "torch.Size([128])\n"
     ]
    },
    {
     "name": "stderr",
     "output_type": "stream",
     "text": [
      "Test Epoch: [26/100] Acc@1:68.75%:  33%|███▎      | 1/3 [00:00<00:00,  3.14it/s]"
     ]
    },
    {
     "name": "stdout",
     "output_type": "stream",
     "text": [
      "torch.Size([128])\n"
     ]
    },
    {
     "name": "stderr",
     "output_type": "stream",
     "text": [
      "Test Epoch: [26/100] Acc@1:70.70%:  67%|██████▋   | 2/3 [00:00<00:00,  3.17it/s]"
     ]
    },
    {
     "name": "stdout",
     "output_type": "stream",
     "text": [
      "torch.Size([120])\n"
     ]
    },
    {
     "name": "stderr",
     "output_type": "stream",
     "text": [
      "Test Epoch: [26/100] Acc@1:70.21%: 100%|██████████| 3/3 [00:00<00:00,  3.19it/s]\n",
      "Train Epoch: [27/100], lr: 0.024920, Loss: 4.3232: 100%|██████████| 97/97 [00:29<00:00,  3.25it/s]\n",
      "Feature extracting: 100%|██████████| 12/12 [00:00<00:00, 14.97it/s]\n",
      "  0%|          | 0/3 [00:00<?, ?it/s]"
     ]
    },
    {
     "name": "stdout",
     "output_type": "stream",
     "text": [
      "torch.Size([128])\n"
     ]
    },
    {
     "name": "stderr",
     "output_type": "stream",
     "text": [
      "Test Epoch: [27/100] Acc@1:67.97%:  33%|███▎      | 1/3 [00:00<00:00,  3.26it/s]"
     ]
    },
    {
     "name": "stdout",
     "output_type": "stream",
     "text": [
      "torch.Size([128])\n"
     ]
    },
    {
     "name": "stderr",
     "output_type": "stream",
     "text": [
      "Test Epoch: [27/100] Acc@1:70.70%:  67%|██████▋   | 2/3 [00:00<00:00,  3.20it/s]"
     ]
    },
    {
     "name": "stdout",
     "output_type": "stream",
     "text": [
      "torch.Size([120])\n"
     ]
    },
    {
     "name": "stderr",
     "output_type": "stream",
     "text": [
      "Test Epoch: [27/100] Acc@1:70.48%: 100%|██████████| 3/3 [00:00<00:00,  3.25it/s]\n",
      "Train Epoch: [28/100], lr: 0.024561, Loss: 4.2230: 100%|██████████| 97/97 [00:29<00:00,  3.24it/s]\n",
      "Feature extracting: 100%|██████████| 12/12 [00:00<00:00, 15.23it/s]\n",
      "  0%|          | 0/3 [00:00<?, ?it/s]"
     ]
    },
    {
     "name": "stdout",
     "output_type": "stream",
     "text": [
      "torch.Size([128])\n"
     ]
    },
    {
     "name": "stderr",
     "output_type": "stream",
     "text": [
      "Test Epoch: [28/100] Acc@1:70.31%:  33%|███▎      | 1/3 [00:00<00:00,  3.19it/s]"
     ]
    },
    {
     "name": "stdout",
     "output_type": "stream",
     "text": [
      "torch.Size([128])\n"
     ]
    },
    {
     "name": "stderr",
     "output_type": "stream",
     "text": [
      "Test Epoch: [28/100] Acc@1:72.66%:  67%|██████▋   | 2/3 [00:00<00:00,  3.18it/s]"
     ]
    },
    {
     "name": "stdout",
     "output_type": "stream",
     "text": [
      "torch.Size([120])\n"
     ]
    },
    {
     "name": "stderr",
     "output_type": "stream",
     "text": [
      "Test Epoch: [28/100] Acc@1:71.54%: 100%|██████████| 3/3 [00:00<00:00,  3.22it/s]\n",
      "Train Epoch: [29/100], lr: 0.024194, Loss: 4.1360: 100%|██████████| 97/97 [00:29<00:00,  3.25it/s]\n",
      "Feature extracting: 100%|██████████| 12/12 [00:00<00:00, 15.10it/s]\n",
      "  0%|          | 0/3 [00:00<?, ?it/s]"
     ]
    },
    {
     "name": "stdout",
     "output_type": "stream",
     "text": [
      "torch.Size([128])\n"
     ]
    },
    {
     "name": "stderr",
     "output_type": "stream",
     "text": [
      "Test Epoch: [29/100] Acc@1:68.75%:  33%|███▎      | 1/3 [00:00<00:00,  3.15it/s]"
     ]
    },
    {
     "name": "stdout",
     "output_type": "stream",
     "text": [
      "torch.Size([128])\n"
     ]
    },
    {
     "name": "stderr",
     "output_type": "stream",
     "text": [
      "Test Epoch: [29/100] Acc@1:73.05%:  67%|██████▋   | 2/3 [00:00<00:00,  3.18it/s]"
     ]
    },
    {
     "name": "stdout",
     "output_type": "stream",
     "text": [
      "torch.Size([120])\n"
     ]
    },
    {
     "name": "stderr",
     "output_type": "stream",
     "text": [
      "Test Epoch: [29/100] Acc@1:71.28%: 100%|██████████| 3/3 [00:00<00:00,  3.22it/s]\n",
      "Train Epoch: [30/100], lr: 0.023817, Loss: 4.0097: 100%|██████████| 97/97 [00:29<00:00,  3.25it/s]\n",
      "Feature extracting: 100%|██████████| 12/12 [00:00<00:00, 14.78it/s]\n",
      "  0%|          | 0/3 [00:00<?, ?it/s]"
     ]
    },
    {
     "name": "stdout",
     "output_type": "stream",
     "text": [
      "torch.Size([128])\n"
     ]
    },
    {
     "name": "stderr",
     "output_type": "stream",
     "text": [
      "Test Epoch: [30/100] Acc@1:70.31%:  33%|███▎      | 1/3 [00:00<00:00,  3.15it/s]"
     ]
    },
    {
     "name": "stdout",
     "output_type": "stream",
     "text": [
      "torch.Size([128])\n"
     ]
    },
    {
     "name": "stderr",
     "output_type": "stream",
     "text": [
      "Test Epoch: [30/100] Acc@1:72.66%:  67%|██████▋   | 2/3 [00:00<00:00,  3.15it/s]"
     ]
    },
    {
     "name": "stdout",
     "output_type": "stream",
     "text": [
      "torch.Size([120])\n"
     ]
    },
    {
     "name": "stderr",
     "output_type": "stream",
     "text": [
      "Test Epoch: [30/100] Acc@1:72.34%: 100%|██████████| 3/3 [00:00<00:00,  3.22it/s]\n",
      "Train Epoch: [31/100], lr: 0.023431, Loss: 3.9478: 100%|██████████| 97/97 [00:29<00:00,  3.24it/s]\n",
      "Feature extracting: 100%|██████████| 12/12 [00:00<00:00, 14.60it/s]\n",
      "  0%|          | 0/3 [00:00<?, ?it/s]"
     ]
    },
    {
     "name": "stdout",
     "output_type": "stream",
     "text": [
      "torch.Size([128])\n"
     ]
    },
    {
     "name": "stderr",
     "output_type": "stream",
     "text": [
      "Test Epoch: [31/100] Acc@1:74.22%:  33%|███▎      | 1/3 [00:00<00:00,  3.18it/s]"
     ]
    },
    {
     "name": "stdout",
     "output_type": "stream",
     "text": [
      "torch.Size([128])\n"
     ]
    },
    {
     "name": "stderr",
     "output_type": "stream",
     "text": [
      "Test Epoch: [31/100] Acc@1:76.17%:  67%|██████▋   | 2/3 [00:00<00:00,  3.18it/s]"
     ]
    },
    {
     "name": "stdout",
     "output_type": "stream",
     "text": [
      "torch.Size([120])\n"
     ]
    },
    {
     "name": "stderr",
     "output_type": "stream",
     "text": [
      "Test Epoch: [31/100] Acc@1:75.53%: 100%|██████████| 3/3 [00:00<00:00,  3.23it/s]\n",
      "Train Epoch: [32/100], lr: 0.023037, Loss: 3.8920: 100%|██████████| 97/97 [00:29<00:00,  3.24it/s]\n",
      "Feature extracting: 100%|██████████| 12/12 [00:00<00:00, 14.85it/s]\n",
      "  0%|          | 0/3 [00:00<?, ?it/s]"
     ]
    },
    {
     "name": "stdout",
     "output_type": "stream",
     "text": [
      "torch.Size([128])\n"
     ]
    },
    {
     "name": "stderr",
     "output_type": "stream",
     "text": [
      "Test Epoch: [32/100] Acc@1:71.09%:  33%|███▎      | 1/3 [00:00<00:00,  3.17it/s]"
     ]
    },
    {
     "name": "stdout",
     "output_type": "stream",
     "text": [
      "torch.Size([128])\n"
     ]
    },
    {
     "name": "stderr",
     "output_type": "stream",
     "text": [
      "Test Epoch: [32/100] Acc@1:73.05%:  67%|██████▋   | 2/3 [00:00<00:00,  3.18it/s]"
     ]
    },
    {
     "name": "stdout",
     "output_type": "stream",
     "text": [
      "torch.Size([120])\n"
     ]
    },
    {
     "name": "stderr",
     "output_type": "stream",
     "text": [
      "Test Epoch: [32/100] Acc@1:72.34%: 100%|██████████| 3/3 [00:00<00:00,  3.23it/s]\n",
      "Train Epoch: [33/100], lr: 0.022636, Loss: 3.7688: 100%|██████████| 97/97 [00:29<00:00,  3.25it/s]\n",
      "Feature extracting: 100%|██████████| 12/12 [00:00<00:00, 15.00it/s]\n",
      "  0%|          | 0/3 [00:00<?, ?it/s]"
     ]
    },
    {
     "name": "stdout",
     "output_type": "stream",
     "text": [
      "torch.Size([128])\n"
     ]
    },
    {
     "name": "stderr",
     "output_type": "stream",
     "text": [
      "Test Epoch: [33/100] Acc@1:69.53%:  33%|███▎      | 1/3 [00:00<00:00,  3.17it/s]"
     ]
    },
    {
     "name": "stdout",
     "output_type": "stream",
     "text": [
      "torch.Size([128])\n"
     ]
    },
    {
     "name": "stderr",
     "output_type": "stream",
     "text": [
      "Test Epoch: [33/100] Acc@1:69.53%:  67%|██████▋   | 2/3 [00:00<00:00,  3.18it/s]"
     ]
    },
    {
     "name": "stdout",
     "output_type": "stream",
     "text": [
      "torch.Size([120])\n"
     ]
    },
    {
     "name": "stderr",
     "output_type": "stream",
     "text": [
      "Test Epoch: [33/100] Acc@1:71.01%: 100%|██████████| 3/3 [00:00<00:00,  3.24it/s]\n",
      "Train Epoch: [34/100], lr: 0.022226, Loss: 3.7422: 100%|██████████| 97/97 [00:29<00:00,  3.25it/s]\n",
      "Feature extracting: 100%|██████████| 12/12 [00:00<00:00, 15.04it/s]\n",
      "  0%|          | 0/3 [00:00<?, ?it/s]"
     ]
    },
    {
     "name": "stdout",
     "output_type": "stream",
     "text": [
      "torch.Size([128])\n"
     ]
    },
    {
     "name": "stderr",
     "output_type": "stream",
     "text": [
      "Test Epoch: [34/100] Acc@1:73.44%:  33%|███▎      | 1/3 [00:00<00:00,  3.17it/s]"
     ]
    },
    {
     "name": "stdout",
     "output_type": "stream",
     "text": [
      "torch.Size([128])\n"
     ]
    },
    {
     "name": "stderr",
     "output_type": "stream",
     "text": [
      "Test Epoch: [34/100] Acc@1:75.00%:  67%|██████▋   | 2/3 [00:00<00:00,  3.17it/s]"
     ]
    },
    {
     "name": "stdout",
     "output_type": "stream",
     "text": [
      "torch.Size([120])\n"
     ]
    },
    {
     "name": "stderr",
     "output_type": "stream",
     "text": [
      "Test Epoch: [34/100] Acc@1:76.60%: 100%|██████████| 3/3 [00:00<00:00,  3.22it/s]\n",
      "Train Epoch: [35/100], lr: 0.021810, Loss: 3.6705: 100%|██████████| 97/97 [00:29<00:00,  3.25it/s]\n",
      "Feature extracting: 100%|██████████| 12/12 [00:00<00:00, 14.85it/s]\n",
      "  0%|          | 0/3 [00:00<?, ?it/s]"
     ]
    },
    {
     "name": "stdout",
     "output_type": "stream",
     "text": [
      "torch.Size([128])\n"
     ]
    },
    {
     "name": "stderr",
     "output_type": "stream",
     "text": [
      "Test Epoch: [35/100] Acc@1:75.78%:  33%|███▎      | 1/3 [00:00<00:00,  3.14it/s]"
     ]
    },
    {
     "name": "stdout",
     "output_type": "stream",
     "text": [
      "torch.Size([128])\n"
     ]
    },
    {
     "name": "stderr",
     "output_type": "stream",
     "text": [
      "Test Epoch: [35/100] Acc@1:78.12%:  67%|██████▋   | 2/3 [00:00<00:00,  3.15it/s]"
     ]
    },
    {
     "name": "stdout",
     "output_type": "stream",
     "text": [
      "torch.Size([120])\n"
     ]
    },
    {
     "name": "stderr",
     "output_type": "stream",
     "text": [
      "Test Epoch: [35/100] Acc@1:76.33%: 100%|██████████| 3/3 [00:00<00:00,  3.19it/s]\n",
      "Train Epoch: [36/100], lr: 0.021387, Loss: 3.5866: 100%|██████████| 97/97 [00:29<00:00,  3.25it/s]\n",
      "Feature extracting: 100%|██████████| 12/12 [00:00<00:00, 14.66it/s]\n",
      "  0%|          | 0/3 [00:00<?, ?it/s]"
     ]
    },
    {
     "name": "stdout",
     "output_type": "stream",
     "text": [
      "torch.Size([128])\n"
     ]
    },
    {
     "name": "stderr",
     "output_type": "stream",
     "text": [
      "Test Epoch: [36/100] Acc@1:69.53%:  33%|███▎      | 1/3 [00:00<00:00,  3.16it/s]"
     ]
    },
    {
     "name": "stdout",
     "output_type": "stream",
     "text": [
      "torch.Size([128])\n"
     ]
    },
    {
     "name": "stderr",
     "output_type": "stream",
     "text": [
      "Test Epoch: [36/100] Acc@1:73.83%:  67%|██████▋   | 2/3 [00:00<00:00,  3.17it/s]"
     ]
    },
    {
     "name": "stdout",
     "output_type": "stream",
     "text": [
      "torch.Size([120])\n"
     ]
    },
    {
     "name": "stderr",
     "output_type": "stream",
     "text": [
      "Test Epoch: [36/100] Acc@1:74.47%: 100%|██████████| 3/3 [00:00<00:00,  3.22it/s]\n",
      "Train Epoch: [37/100], lr: 0.020957, Loss: 3.5735: 100%|██████████| 97/97 [00:29<00:00,  3.25it/s]\n",
      "Feature extracting: 100%|██████████| 12/12 [00:00<00:00, 14.66it/s]\n",
      "  0%|          | 0/3 [00:00<?, ?it/s]"
     ]
    },
    {
     "name": "stdout",
     "output_type": "stream",
     "text": [
      "torch.Size([128])\n"
     ]
    },
    {
     "name": "stderr",
     "output_type": "stream",
     "text": [
      "Test Epoch: [37/100] Acc@1:65.62%:  33%|███▎      | 1/3 [00:00<00:00,  3.19it/s]"
     ]
    },
    {
     "name": "stdout",
     "output_type": "stream",
     "text": [
      "torch.Size([128])\n"
     ]
    },
    {
     "name": "stderr",
     "output_type": "stream",
     "text": [
      "Test Epoch: [37/100] Acc@1:72.27%:  67%|██████▋   | 2/3 [00:00<00:00,  3.17it/s]"
     ]
    },
    {
     "name": "stdout",
     "output_type": "stream",
     "text": [
      "torch.Size([120])\n"
     ]
    },
    {
     "name": "stderr",
     "output_type": "stream",
     "text": [
      "Test Epoch: [37/100] Acc@1:73.67%: 100%|██████████| 3/3 [00:00<00:00,  3.21it/s]\n",
      "Train Epoch: [38/100], lr: 0.020522, Loss: 3.5487: 100%|██████████| 97/97 [00:29<00:00,  3.24it/s]\n",
      "Feature extracting: 100%|██████████| 12/12 [00:00<00:00, 15.23it/s]\n",
      "  0%|          | 0/3 [00:00<?, ?it/s]"
     ]
    },
    {
     "name": "stdout",
     "output_type": "stream",
     "text": [
      "torch.Size([128])\n"
     ]
    },
    {
     "name": "stderr",
     "output_type": "stream",
     "text": [
      "Test Epoch: [38/100] Acc@1:78.91%:  33%|███▎      | 1/3 [00:00<00:00,  3.17it/s]"
     ]
    },
    {
     "name": "stdout",
     "output_type": "stream",
     "text": [
      "torch.Size([128])\n"
     ]
    },
    {
     "name": "stderr",
     "output_type": "stream",
     "text": [
      "Test Epoch: [38/100] Acc@1:79.69%:  67%|██████▋   | 2/3 [00:00<00:00,  3.17it/s]"
     ]
    },
    {
     "name": "stdout",
     "output_type": "stream",
     "text": [
      "torch.Size([120])\n"
     ]
    },
    {
     "name": "stderr",
     "output_type": "stream",
     "text": [
      "Test Epoch: [38/100] Acc@1:77.93%: 100%|██████████| 3/3 [00:00<00:00,  3.23it/s]\n",
      "Train Epoch: [39/100], lr: 0.020081, Loss: 3.4695: 100%|██████████| 97/97 [00:29<00:00,  3.24it/s]\n",
      "Feature extracting: 100%|██████████| 12/12 [00:00<00:00, 14.73it/s]\n",
      "  0%|          | 0/3 [00:00<?, ?it/s]"
     ]
    },
    {
     "name": "stdout",
     "output_type": "stream",
     "text": [
      "torch.Size([128])\n"
     ]
    },
    {
     "name": "stderr",
     "output_type": "stream",
     "text": [
      "Test Epoch: [39/100] Acc@1:71.09%:  33%|███▎      | 1/3 [00:00<00:00,  3.20it/s]"
     ]
    },
    {
     "name": "stdout",
     "output_type": "stream",
     "text": [
      "torch.Size([128])\n"
     ]
    },
    {
     "name": "stderr",
     "output_type": "stream",
     "text": [
      "Test Epoch: [39/100] Acc@1:75.39%:  67%|██████▋   | 2/3 [00:00<00:00,  3.18it/s]"
     ]
    },
    {
     "name": "stdout",
     "output_type": "stream",
     "text": [
      "torch.Size([120])\n"
     ]
    },
    {
     "name": "stderr",
     "output_type": "stream",
     "text": [
      "Test Epoch: [39/100] Acc@1:75.80%: 100%|██████████| 3/3 [00:00<00:00,  3.21it/s]\n",
      "Train Epoch: [40/100], lr: 0.019635, Loss: 3.4293: 100%|██████████| 97/97 [00:29<00:00,  3.25it/s]\n",
      "Feature extracting: 100%|██████████| 12/12 [00:00<00:00, 14.98it/s]\n",
      "  0%|          | 0/3 [00:00<?, ?it/s]"
     ]
    },
    {
     "name": "stdout",
     "output_type": "stream",
     "text": [
      "torch.Size([128])\n"
     ]
    },
    {
     "name": "stderr",
     "output_type": "stream",
     "text": [
      "Test Epoch: [40/100] Acc@1:73.44%:  33%|███▎      | 1/3 [00:00<00:00,  3.19it/s]"
     ]
    },
    {
     "name": "stdout",
     "output_type": "stream",
     "text": [
      "torch.Size([128])\n"
     ]
    },
    {
     "name": "stderr",
     "output_type": "stream",
     "text": [
      "Test Epoch: [40/100] Acc@1:76.95%:  67%|██████▋   | 2/3 [00:00<00:00,  3.19it/s]"
     ]
    },
    {
     "name": "stdout",
     "output_type": "stream",
     "text": [
      "torch.Size([120])\n"
     ]
    },
    {
     "name": "stderr",
     "output_type": "stream",
     "text": [
      "Test Epoch: [40/100] Acc@1:76.86%: 100%|██████████| 3/3 [00:00<00:00,  3.21it/s]\n",
      "Train Epoch: [41/100], lr: 0.019185, Loss: 3.3584: 100%|██████████| 97/97 [00:30<00:00,  3.23it/s]\n",
      "Feature extracting: 100%|██████████| 12/12 [00:00<00:00, 15.15it/s]\n",
      "  0%|          | 0/3 [00:00<?, ?it/s]"
     ]
    },
    {
     "name": "stdout",
     "output_type": "stream",
     "text": [
      "torch.Size([128])\n"
     ]
    },
    {
     "name": "stderr",
     "output_type": "stream",
     "text": [
      "Test Epoch: [41/100] Acc@1:75.00%:  33%|███▎      | 1/3 [00:00<00:00,  3.18it/s]"
     ]
    },
    {
     "name": "stdout",
     "output_type": "stream",
     "text": [
      "torch.Size([128])\n"
     ]
    },
    {
     "name": "stderr",
     "output_type": "stream",
     "text": [
      "Test Epoch: [41/100] Acc@1:76.95%:  67%|██████▋   | 2/3 [00:00<00:00,  3.14it/s]"
     ]
    },
    {
     "name": "stdout",
     "output_type": "stream",
     "text": [
      "torch.Size([120])\n"
     ]
    },
    {
     "name": "stderr",
     "output_type": "stream",
     "text": [
      "Test Epoch: [41/100] Acc@1:77.66%: 100%|██████████| 3/3 [00:00<00:00,  3.19it/s]\n",
      "Train Epoch: [42/100], lr: 0.018730, Loss: 3.3105: 100%|██████████| 97/97 [00:29<00:00,  3.24it/s]\n",
      "Feature extracting: 100%|██████████| 12/12 [00:00<00:00, 14.95it/s]\n",
      "  0%|          | 0/3 [00:00<?, ?it/s]"
     ]
    },
    {
     "name": "stdout",
     "output_type": "stream",
     "text": [
      "torch.Size([128])\n"
     ]
    },
    {
     "name": "stderr",
     "output_type": "stream",
     "text": [
      "Test Epoch: [42/100] Acc@1:71.09%:  33%|███▎      | 1/3 [00:00<00:00,  3.15it/s]"
     ]
    },
    {
     "name": "stdout",
     "output_type": "stream",
     "text": [
      "torch.Size([128])\n"
     ]
    },
    {
     "name": "stderr",
     "output_type": "stream",
     "text": [
      "Test Epoch: [42/100] Acc@1:74.22%:  67%|██████▋   | 2/3 [00:00<00:00,  3.16it/s]"
     ]
    },
    {
     "name": "stdout",
     "output_type": "stream",
     "text": [
      "torch.Size([120])\n"
     ]
    },
    {
     "name": "stderr",
     "output_type": "stream",
     "text": [
      "Test Epoch: [42/100] Acc@1:75.27%: 100%|██████████| 3/3 [00:00<00:00,  3.19it/s]\n",
      "Train Epoch: [43/100], lr: 0.018272, Loss: 3.2866: 100%|██████████| 97/97 [00:30<00:00,  3.23it/s]\n",
      "Feature extracting: 100%|██████████| 12/12 [00:00<00:00, 14.82it/s]\n",
      "  0%|          | 0/3 [00:00<?, ?it/s]"
     ]
    },
    {
     "name": "stdout",
     "output_type": "stream",
     "text": [
      "torch.Size([128])\n"
     ]
    },
    {
     "name": "stderr",
     "output_type": "stream",
     "text": [
      "Test Epoch: [43/100] Acc@1:78.12%:  33%|███▎      | 1/3 [00:00<00:00,  3.17it/s]"
     ]
    },
    {
     "name": "stdout",
     "output_type": "stream",
     "text": [
      "torch.Size([128])\n"
     ]
    },
    {
     "name": "stderr",
     "output_type": "stream",
     "text": [
      "Test Epoch: [43/100] Acc@1:77.73%:  67%|██████▋   | 2/3 [00:00<00:00,  3.14it/s]"
     ]
    },
    {
     "name": "stdout",
     "output_type": "stream",
     "text": [
      "torch.Size([120])\n"
     ]
    },
    {
     "name": "stderr",
     "output_type": "stream",
     "text": [
      "Test Epoch: [43/100] Acc@1:78.19%: 100%|██████████| 3/3 [00:00<00:00,  3.21it/s]\n",
      "Train Epoch: [44/100], lr: 0.017811, Loss: 3.2279: 100%|██████████| 97/97 [00:30<00:00,  3.22it/s]\n",
      "Feature extracting: 100%|██████████| 12/12 [00:00<00:00, 14.98it/s]\n",
      "  0%|          | 0/3 [00:00<?, ?it/s]"
     ]
    },
    {
     "name": "stdout",
     "output_type": "stream",
     "text": [
      "torch.Size([128])\n"
     ]
    },
    {
     "name": "stderr",
     "output_type": "stream",
     "text": [
      "Test Epoch: [44/100] Acc@1:74.22%:  33%|███▎      | 1/3 [00:00<00:00,  3.08it/s]"
     ]
    },
    {
     "name": "stdout",
     "output_type": "stream",
     "text": [
      "torch.Size([128])\n"
     ]
    },
    {
     "name": "stderr",
     "output_type": "stream",
     "text": [
      "Test Epoch: [44/100] Acc@1:75.00%:  67%|██████▋   | 2/3 [00:00<00:00,  3.10it/s]"
     ]
    },
    {
     "name": "stdout",
     "output_type": "stream",
     "text": [
      "torch.Size([120])\n"
     ]
    },
    {
     "name": "stderr",
     "output_type": "stream",
     "text": [
      "Test Epoch: [44/100] Acc@1:75.53%: 100%|██████████| 3/3 [00:00<00:00,  3.15it/s]\n",
      "Train Epoch: [45/100], lr: 0.017347, Loss: 3.1648: 100%|██████████| 97/97 [00:30<00:00,  3.23it/s]\n",
      "Feature extracting: 100%|██████████| 12/12 [00:00<00:00, 14.91it/s]\n",
      "  0%|          | 0/3 [00:00<?, ?it/s]"
     ]
    },
    {
     "name": "stdout",
     "output_type": "stream",
     "text": [
      "torch.Size([128])\n"
     ]
    },
    {
     "name": "stderr",
     "output_type": "stream",
     "text": [
      "Test Epoch: [45/100] Acc@1:78.12%:  33%|███▎      | 1/3 [00:00<00:00,  3.17it/s]"
     ]
    },
    {
     "name": "stdout",
     "output_type": "stream",
     "text": [
      "torch.Size([128])\n"
     ]
    },
    {
     "name": "stderr",
     "output_type": "stream",
     "text": [
      "Test Epoch: [45/100] Acc@1:79.69%:  67%|██████▋   | 2/3 [00:00<00:00,  3.17it/s]"
     ]
    },
    {
     "name": "stdout",
     "output_type": "stream",
     "text": [
      "torch.Size([120])\n"
     ]
    },
    {
     "name": "stderr",
     "output_type": "stream",
     "text": [
      "Test Epoch: [45/100] Acc@1:78.99%: 100%|██████████| 3/3 [00:00<00:00,  3.21it/s]\n",
      "Train Epoch: [46/100], lr: 0.016880, Loss: 3.1526: 100%|██████████| 97/97 [00:29<00:00,  3.24it/s]\n",
      "Feature extracting: 100%|██████████| 12/12 [00:00<00:00, 14.69it/s]\n",
      "  0%|          | 0/3 [00:00<?, ?it/s]"
     ]
    },
    {
     "name": "stdout",
     "output_type": "stream",
     "text": [
      "torch.Size([128])\n"
     ]
    },
    {
     "name": "stderr",
     "output_type": "stream",
     "text": [
      "Test Epoch: [46/100] Acc@1:81.25%:  33%|███▎      | 1/3 [00:00<00:00,  3.14it/s]"
     ]
    },
    {
     "name": "stdout",
     "output_type": "stream",
     "text": [
      "torch.Size([128])\n"
     ]
    },
    {
     "name": "stderr",
     "output_type": "stream",
     "text": [
      "Test Epoch: [46/100] Acc@1:82.81%:  67%|██████▋   | 2/3 [00:00<00:00,  3.15it/s]"
     ]
    },
    {
     "name": "stdout",
     "output_type": "stream",
     "text": [
      "torch.Size([120])\n"
     ]
    },
    {
     "name": "stderr",
     "output_type": "stream",
     "text": [
      "Test Epoch: [46/100] Acc@1:81.91%: 100%|██████████| 3/3 [00:00<00:00,  3.18it/s]\n",
      "Train Epoch: [47/100], lr: 0.016412, Loss: 3.0937: 100%|██████████| 97/97 [00:29<00:00,  3.24it/s]\n",
      "Feature extracting: 100%|██████████| 12/12 [00:00<00:00, 15.25it/s]\n",
      "  0%|          | 0/3 [00:00<?, ?it/s]"
     ]
    },
    {
     "name": "stdout",
     "output_type": "stream",
     "text": [
      "torch.Size([128])\n"
     ]
    },
    {
     "name": "stderr",
     "output_type": "stream",
     "text": [
      "Test Epoch: [47/100] Acc@1:78.91%:  33%|███▎      | 1/3 [00:00<00:00,  3.20it/s]"
     ]
    },
    {
     "name": "stdout",
     "output_type": "stream",
     "text": [
      "torch.Size([128])\n"
     ]
    },
    {
     "name": "stderr",
     "output_type": "stream",
     "text": [
      "Test Epoch: [47/100] Acc@1:79.30%:  67%|██████▋   | 2/3 [00:00<00:00,  3.18it/s]"
     ]
    },
    {
     "name": "stdout",
     "output_type": "stream",
     "text": [
      "torch.Size([120])\n"
     ]
    },
    {
     "name": "stderr",
     "output_type": "stream",
     "text": [
      "Test Epoch: [47/100] Acc@1:78.99%: 100%|██████████| 3/3 [00:00<00:00,  3.21it/s]\n",
      "Train Epoch: [48/100], lr: 0.015942, Loss: 3.0727: 100%|██████████| 97/97 [00:29<00:00,  3.24it/s]\n",
      "Feature extracting: 100%|██████████| 12/12 [00:00<00:00, 14.57it/s]\n",
      "  0%|          | 0/3 [00:00<?, ?it/s]"
     ]
    },
    {
     "name": "stdout",
     "output_type": "stream",
     "text": [
      "torch.Size([128])\n"
     ]
    },
    {
     "name": "stderr",
     "output_type": "stream",
     "text": [
      "Test Epoch: [48/100] Acc@1:77.34%:  33%|███▎      | 1/3 [00:00<00:00,  3.12it/s]"
     ]
    },
    {
     "name": "stdout",
     "output_type": "stream",
     "text": [
      "torch.Size([128])\n"
     ]
    },
    {
     "name": "stderr",
     "output_type": "stream",
     "text": [
      "Test Epoch: [48/100] Acc@1:78.52%:  67%|██████▋   | 2/3 [00:00<00:00,  3.12it/s]"
     ]
    },
    {
     "name": "stdout",
     "output_type": "stream",
     "text": [
      "torch.Size([120])\n"
     ]
    },
    {
     "name": "stderr",
     "output_type": "stream",
     "text": [
      "Test Epoch: [48/100] Acc@1:78.46%: 100%|██████████| 3/3 [00:00<00:00,  3.15it/s]\n",
      "Train Epoch: [49/100], lr: 0.015471, Loss: 3.0411: 100%|██████████| 97/97 [00:29<00:00,  3.23it/s]\n",
      "Feature extracting: 100%|██████████| 12/12 [00:00<00:00, 14.85it/s]\n",
      "  0%|          | 0/3 [00:00<?, ?it/s]"
     ]
    },
    {
     "name": "stdout",
     "output_type": "stream",
     "text": [
      "torch.Size([128])\n"
     ]
    },
    {
     "name": "stderr",
     "output_type": "stream",
     "text": [
      "Test Epoch: [49/100] Acc@1:75.78%:  33%|███▎      | 1/3 [00:00<00:00,  3.17it/s]"
     ]
    },
    {
     "name": "stdout",
     "output_type": "stream",
     "text": [
      "torch.Size([128])\n"
     ]
    },
    {
     "name": "stderr",
     "output_type": "stream",
     "text": [
      "Test Epoch: [49/100] Acc@1:79.30%:  67%|██████▋   | 2/3 [00:00<00:00,  3.16it/s]"
     ]
    },
    {
     "name": "stdout",
     "output_type": "stream",
     "text": [
      "torch.Size([120])\n"
     ]
    },
    {
     "name": "stderr",
     "output_type": "stream",
     "text": [
      "Test Epoch: [49/100] Acc@1:79.79%: 100%|██████████| 3/3 [00:00<00:00,  3.20it/s]\n",
      "Train Epoch: [50/100], lr: 0.015000, Loss: 3.0131: 100%|██████████| 97/97 [00:29<00:00,  3.24it/s]\n",
      "Feature extracting: 100%|██████████| 12/12 [00:00<00:00, 14.93it/s]\n",
      "  0%|          | 0/3 [00:00<?, ?it/s]"
     ]
    },
    {
     "name": "stdout",
     "output_type": "stream",
     "text": [
      "torch.Size([128])\n"
     ]
    },
    {
     "name": "stderr",
     "output_type": "stream",
     "text": [
      "Test Epoch: [50/100] Acc@1:76.56%:  33%|███▎      | 1/3 [00:00<00:00,  3.16it/s]"
     ]
    },
    {
     "name": "stdout",
     "output_type": "stream",
     "text": [
      "torch.Size([128])\n"
     ]
    },
    {
     "name": "stderr",
     "output_type": "stream",
     "text": [
      "Test Epoch: [50/100] Acc@1:77.73%:  67%|██████▋   | 2/3 [00:00<00:00,  3.16it/s]"
     ]
    },
    {
     "name": "stdout",
     "output_type": "stream",
     "text": [
      "torch.Size([120])\n"
     ]
    },
    {
     "name": "stderr",
     "output_type": "stream",
     "text": [
      "Test Epoch: [50/100] Acc@1:78.99%: 100%|██████████| 3/3 [00:00<00:00,  3.21it/s]\n",
      "Train Epoch: [51/100], lr: 0.014529, Loss: 2.9652: 100%|██████████| 97/97 [00:30<00:00,  3.23it/s]\n",
      "Feature extracting: 100%|██████████| 12/12 [00:00<00:00, 14.67it/s]\n",
      "  0%|          | 0/3 [00:00<?, ?it/s]"
     ]
    },
    {
     "name": "stdout",
     "output_type": "stream",
     "text": [
      "torch.Size([128])\n"
     ]
    },
    {
     "name": "stderr",
     "output_type": "stream",
     "text": [
      "Test Epoch: [51/100] Acc@1:79.69%:  33%|███▎      | 1/3 [00:00<00:00,  3.16it/s]"
     ]
    },
    {
     "name": "stdout",
     "output_type": "stream",
     "text": [
      "torch.Size([128])\n"
     ]
    },
    {
     "name": "stderr",
     "output_type": "stream",
     "text": [
      "Test Epoch: [51/100] Acc@1:82.42%:  67%|██████▋   | 2/3 [00:00<00:00,  3.12it/s]"
     ]
    },
    {
     "name": "stdout",
     "output_type": "stream",
     "text": [
      "torch.Size([120])\n"
     ]
    },
    {
     "name": "stderr",
     "output_type": "stream",
     "text": [
      "Test Epoch: [51/100] Acc@1:82.71%: 100%|██████████| 3/3 [00:00<00:00,  3.18it/s]\n",
      "Train Epoch: [52/100], lr: 0.014058, Loss: 2.9703: 100%|██████████| 97/97 [00:29<00:00,  3.23it/s]\n",
      "Feature extracting: 100%|██████████| 12/12 [00:00<00:00, 15.04it/s]\n",
      "  0%|          | 0/3 [00:00<?, ?it/s]"
     ]
    },
    {
     "name": "stdout",
     "output_type": "stream",
     "text": [
      "torch.Size([128])\n"
     ]
    },
    {
     "name": "stderr",
     "output_type": "stream",
     "text": [
      "Test Epoch: [52/100] Acc@1:76.56%:  33%|███▎      | 1/3 [00:00<00:00,  3.13it/s]"
     ]
    },
    {
     "name": "stdout",
     "output_type": "stream",
     "text": [
      "torch.Size([128])\n"
     ]
    },
    {
     "name": "stderr",
     "output_type": "stream",
     "text": [
      "Test Epoch: [52/100] Acc@1:77.34%:  67%|██████▋   | 2/3 [00:00<00:00,  3.14it/s]"
     ]
    },
    {
     "name": "stdout",
     "output_type": "stream",
     "text": [
      "torch.Size([120])\n"
     ]
    },
    {
     "name": "stderr",
     "output_type": "stream",
     "text": [
      "Test Epoch: [52/100] Acc@1:78.46%: 100%|██████████| 3/3 [00:00<00:00,  3.19it/s]\n",
      "Train Epoch: [53/100], lr: 0.013588, Loss: 2.9246: 100%|██████████| 97/97 [00:29<00:00,  3.24it/s]\n",
      "Feature extracting: 100%|██████████| 12/12 [00:00<00:00, 14.97it/s]\n",
      "  0%|          | 0/3 [00:00<?, ?it/s]"
     ]
    },
    {
     "name": "stdout",
     "output_type": "stream",
     "text": [
      "torch.Size([128])\n"
     ]
    },
    {
     "name": "stderr",
     "output_type": "stream",
     "text": [
      "Test Epoch: [53/100] Acc@1:78.12%:  33%|███▎      | 1/3 [00:00<00:00,  3.14it/s]"
     ]
    },
    {
     "name": "stdout",
     "output_type": "stream",
     "text": [
      "torch.Size([128])\n"
     ]
    },
    {
     "name": "stderr",
     "output_type": "stream",
     "text": [
      "Test Epoch: [53/100] Acc@1:78.12%:  67%|██████▋   | 2/3 [00:00<00:00,  3.13it/s]"
     ]
    },
    {
     "name": "stdout",
     "output_type": "stream",
     "text": [
      "torch.Size([120])\n"
     ]
    },
    {
     "name": "stderr",
     "output_type": "stream",
     "text": [
      "Test Epoch: [53/100] Acc@1:78.99%: 100%|██████████| 3/3 [00:00<00:00,  3.18it/s]\n",
      "Train Epoch: [54/100], lr: 0.013120, Loss: 2.9042: 100%|██████████| 97/97 [00:30<00:00,  3.23it/s]\n",
      "Feature extracting: 100%|██████████| 12/12 [00:00<00:00, 14.80it/s]\n",
      "  0%|          | 0/3 [00:00<?, ?it/s]"
     ]
    },
    {
     "name": "stdout",
     "output_type": "stream",
     "text": [
      "torch.Size([128])\n"
     ]
    },
    {
     "name": "stderr",
     "output_type": "stream",
     "text": [
      "Test Epoch: [54/100] Acc@1:76.56%:  33%|███▎      | 1/3 [00:00<00:00,  3.15it/s]"
     ]
    },
    {
     "name": "stdout",
     "output_type": "stream",
     "text": [
      "torch.Size([128])\n"
     ]
    },
    {
     "name": "stderr",
     "output_type": "stream",
     "text": [
      "Test Epoch: [54/100] Acc@1:78.91%:  67%|██████▋   | 2/3 [00:00<00:00,  3.17it/s]"
     ]
    },
    {
     "name": "stdout",
     "output_type": "stream",
     "text": [
      "torch.Size([120])\n"
     ]
    },
    {
     "name": "stderr",
     "output_type": "stream",
     "text": [
      "Test Epoch: [54/100] Acc@1:79.26%: 100%|██████████| 3/3 [00:00<00:00,  3.18it/s]\n",
      "Train Epoch: [55/100], lr: 0.012653, Loss: 2.8659: 100%|██████████| 97/97 [00:29<00:00,  3.24it/s]\n",
      "Feature extracting: 100%|██████████| 12/12 [00:00<00:00, 15.02it/s]\n",
      "  0%|          | 0/3 [00:00<?, ?it/s]"
     ]
    },
    {
     "name": "stdout",
     "output_type": "stream",
     "text": [
      "torch.Size([128])\n"
     ]
    },
    {
     "name": "stderr",
     "output_type": "stream",
     "text": [
      "Test Epoch: [55/100] Acc@1:78.12%:  33%|███▎      | 1/3 [00:00<00:00,  3.15it/s]"
     ]
    },
    {
     "name": "stdout",
     "output_type": "stream",
     "text": [
      "torch.Size([128])\n"
     ]
    },
    {
     "name": "stderr",
     "output_type": "stream",
     "text": [
      "Test Epoch: [55/100] Acc@1:81.64%:  67%|██████▋   | 2/3 [00:00<00:00,  3.16it/s]"
     ]
    },
    {
     "name": "stdout",
     "output_type": "stream",
     "text": [
      "torch.Size([120])\n"
     ]
    },
    {
     "name": "stderr",
     "output_type": "stream",
     "text": [
      "Test Epoch: [55/100] Acc@1:81.12%: 100%|██████████| 3/3 [00:00<00:00,  3.17it/s]\n",
      "Train Epoch: [56/100], lr: 0.012189, Loss: 2.8509: 100%|██████████| 97/97 [00:29<00:00,  3.24it/s]\n",
      "Feature extracting: 100%|██████████| 12/12 [00:00<00:00, 14.76it/s]\n",
      "  0%|          | 0/3 [00:00<?, ?it/s]"
     ]
    },
    {
     "name": "stdout",
     "output_type": "stream",
     "text": [
      "torch.Size([128])\n"
     ]
    },
    {
     "name": "stderr",
     "output_type": "stream",
     "text": [
      "Test Epoch: [56/100] Acc@1:77.34%:  33%|███▎      | 1/3 [00:00<00:00,  3.14it/s]"
     ]
    },
    {
     "name": "stdout",
     "output_type": "stream",
     "text": [
      "torch.Size([128])\n"
     ]
    },
    {
     "name": "stderr",
     "output_type": "stream",
     "text": [
      "Test Epoch: [56/100] Acc@1:82.81%:  67%|██████▋   | 2/3 [00:00<00:00,  3.15it/s]"
     ]
    },
    {
     "name": "stdout",
     "output_type": "stream",
     "text": [
      "torch.Size([120])\n"
     ]
    },
    {
     "name": "stderr",
     "output_type": "stream",
     "text": [
      "Test Epoch: [56/100] Acc@1:83.78%: 100%|██████████| 3/3 [00:00<00:00,  3.19it/s]\n",
      "Train Epoch: [57/100], lr: 0.011728, Loss: 2.8336: 100%|██████████| 97/97 [00:29<00:00,  3.24it/s]\n",
      "Feature extracting: 100%|██████████| 12/12 [00:00<00:00, 14.60it/s]\n",
      "  0%|          | 0/3 [00:00<?, ?it/s]"
     ]
    },
    {
     "name": "stdout",
     "output_type": "stream",
     "text": [
      "torch.Size([128])\n"
     ]
    },
    {
     "name": "stderr",
     "output_type": "stream",
     "text": [
      "Test Epoch: [57/100] Acc@1:76.56%:  33%|███▎      | 1/3 [00:00<00:00,  3.15it/s]"
     ]
    },
    {
     "name": "stdout",
     "output_type": "stream",
     "text": [
      "torch.Size([128])\n"
     ]
    },
    {
     "name": "stderr",
     "output_type": "stream",
     "text": [
      "Test Epoch: [57/100] Acc@1:81.25%:  67%|██████▋   | 2/3 [00:00<00:00,  3.15it/s]"
     ]
    },
    {
     "name": "stdout",
     "output_type": "stream",
     "text": [
      "torch.Size([120])\n"
     ]
    },
    {
     "name": "stderr",
     "output_type": "stream",
     "text": [
      "Test Epoch: [57/100] Acc@1:80.59%: 100%|██████████| 3/3 [00:00<00:00,  3.17it/s]\n",
      "Train Epoch: [58/100], lr: 0.011270, Loss: 2.7951: 100%|██████████| 97/97 [00:29<00:00,  3.24it/s]\n",
      "Feature extracting: 100%|██████████| 12/12 [00:00<00:00, 14.97it/s]\n",
      "  0%|          | 0/3 [00:00<?, ?it/s]"
     ]
    },
    {
     "name": "stdout",
     "output_type": "stream",
     "text": [
      "torch.Size([128])\n"
     ]
    },
    {
     "name": "stderr",
     "output_type": "stream",
     "text": [
      "Test Epoch: [58/100] Acc@1:79.69%:  33%|███▎      | 1/3 [00:00<00:00,  3.13it/s]"
     ]
    },
    {
     "name": "stdout",
     "output_type": "stream",
     "text": [
      "torch.Size([128])\n"
     ]
    },
    {
     "name": "stderr",
     "output_type": "stream",
     "text": [
      "Test Epoch: [58/100] Acc@1:82.81%:  67%|██████▋   | 2/3 [00:00<00:00,  3.15it/s]"
     ]
    },
    {
     "name": "stdout",
     "output_type": "stream",
     "text": [
      "torch.Size([120])\n"
     ]
    },
    {
     "name": "stderr",
     "output_type": "stream",
     "text": [
      "Test Epoch: [58/100] Acc@1:80.85%: 100%|██████████| 3/3 [00:00<00:00,  3.20it/s]\n",
      "Train Epoch: [59/100], lr: 0.010815, Loss: 2.7880: 100%|██████████| 97/97 [00:29<00:00,  3.25it/s]\n",
      "Feature extracting: 100%|██████████| 12/12 [00:00<00:00, 14.82it/s]\n",
      "  0%|          | 0/3 [00:00<?, ?it/s]"
     ]
    },
    {
     "name": "stdout",
     "output_type": "stream",
     "text": [
      "torch.Size([128])\n"
     ]
    },
    {
     "name": "stderr",
     "output_type": "stream",
     "text": [
      "Test Epoch: [59/100] Acc@1:80.47%:  33%|███▎      | 1/3 [00:00<00:00,  3.21it/s]"
     ]
    },
    {
     "name": "stdout",
     "output_type": "stream",
     "text": [
      "torch.Size([128])\n"
     ]
    },
    {
     "name": "stderr",
     "output_type": "stream",
     "text": [
      "Test Epoch: [59/100] Acc@1:82.42%:  67%|██████▋   | 2/3 [00:00<00:00,  3.21it/s]"
     ]
    },
    {
     "name": "stdout",
     "output_type": "stream",
     "text": [
      "torch.Size([120])\n"
     ]
    },
    {
     "name": "stderr",
     "output_type": "stream",
     "text": [
      "Test Epoch: [59/100] Acc@1:82.45%: 100%|██████████| 3/3 [00:00<00:00,  3.19it/s]\n",
      "Train Epoch: [60/100], lr: 0.010365, Loss: 2.7453: 100%|██████████| 97/97 [00:29<00:00,  3.26it/s]\n",
      "Feature extracting: 100%|██████████| 12/12 [00:00<00:00, 14.82it/s]\n",
      "  0%|          | 0/3 [00:00<?, ?it/s]"
     ]
    },
    {
     "name": "stdout",
     "output_type": "stream",
     "text": [
      "torch.Size([128])\n"
     ]
    },
    {
     "name": "stderr",
     "output_type": "stream",
     "text": [
      "Test Epoch: [60/100] Acc@1:75.00%:  33%|███▎      | 1/3 [00:00<00:00,  3.20it/s]"
     ]
    },
    {
     "name": "stdout",
     "output_type": "stream",
     "text": [
      "torch.Size([128])\n"
     ]
    },
    {
     "name": "stderr",
     "output_type": "stream",
     "text": [
      "Test Epoch: [60/100] Acc@1:80.08%:  67%|██████▋   | 2/3 [00:00<00:00,  3.20it/s]"
     ]
    },
    {
     "name": "stdout",
     "output_type": "stream",
     "text": [
      "torch.Size([120])\n"
     ]
    },
    {
     "name": "stderr",
     "output_type": "stream",
     "text": [
      "Test Epoch: [60/100] Acc@1:79.26%: 100%|██████████| 3/3 [00:00<00:00,  3.21it/s]\n",
      "Train Epoch: [61/100], lr: 0.009919, Loss: 2.6986: 100%|██████████| 97/97 [00:29<00:00,  3.25it/s]\n",
      "Feature extracting: 100%|██████████| 12/12 [00:00<00:00, 14.71it/s]\n",
      "  0%|          | 0/3 [00:00<?, ?it/s]"
     ]
    },
    {
     "name": "stdout",
     "output_type": "stream",
     "text": [
      "torch.Size([128])\n"
     ]
    },
    {
     "name": "stderr",
     "output_type": "stream",
     "text": [
      "Test Epoch: [61/100] Acc@1:78.12%:  33%|███▎      | 1/3 [00:00<00:00,  3.18it/s]"
     ]
    },
    {
     "name": "stdout",
     "output_type": "stream",
     "text": [
      "torch.Size([128])\n"
     ]
    },
    {
     "name": "stderr",
     "output_type": "stream",
     "text": [
      "Test Epoch: [61/100] Acc@1:82.03%:  67%|██████▋   | 2/3 [00:00<00:00,  3.18it/s]"
     ]
    },
    {
     "name": "stdout",
     "output_type": "stream",
     "text": [
      "torch.Size([120])\n"
     ]
    },
    {
     "name": "stderr",
     "output_type": "stream",
     "text": [
      "Test Epoch: [61/100] Acc@1:81.38%: 100%|██████████| 3/3 [00:00<00:00,  3.22it/s]\n",
      "Train Epoch: [62/100], lr: 0.009478, Loss: 2.7284: 100%|██████████| 97/97 [00:29<00:00,  3.25it/s]\n",
      "Feature extracting: 100%|██████████| 12/12 [00:00<00:00, 14.80it/s]\n",
      "  0%|          | 0/3 [00:00<?, ?it/s]"
     ]
    },
    {
     "name": "stdout",
     "output_type": "stream",
     "text": [
      "torch.Size([128])\n"
     ]
    },
    {
     "name": "stderr",
     "output_type": "stream",
     "text": [
      "Test Epoch: [62/100] Acc@1:77.34%:  33%|███▎      | 1/3 [00:00<00:00,  3.15it/s]"
     ]
    },
    {
     "name": "stdout",
     "output_type": "stream",
     "text": [
      "torch.Size([128])\n"
     ]
    },
    {
     "name": "stderr",
     "output_type": "stream",
     "text": [
      "Test Epoch: [62/100] Acc@1:80.86%:  67%|██████▋   | 2/3 [00:00<00:00,  3.18it/s]"
     ]
    },
    {
     "name": "stdout",
     "output_type": "stream",
     "text": [
      "torch.Size([120])\n"
     ]
    },
    {
     "name": "stderr",
     "output_type": "stream",
     "text": [
      "Test Epoch: [62/100] Acc@1:81.12%: 100%|██████████| 3/3 [00:00<00:00,  3.19it/s]\n",
      "Train Epoch: [63/100], lr: 0.009043, Loss: 2.6906: 100%|██████████| 97/97 [00:29<00:00,  3.24it/s]\n",
      "Feature extracting: 100%|██████████| 12/12 [00:00<00:00, 14.91it/s]\n",
      "  0%|          | 0/3 [00:00<?, ?it/s]"
     ]
    },
    {
     "name": "stdout",
     "output_type": "stream",
     "text": [
      "torch.Size([128])\n"
     ]
    },
    {
     "name": "stderr",
     "output_type": "stream",
     "text": [
      "Test Epoch: [63/100] Acc@1:78.12%:  33%|███▎      | 1/3 [00:00<00:00,  3.14it/s]"
     ]
    },
    {
     "name": "stdout",
     "output_type": "stream",
     "text": [
      "torch.Size([128])\n"
     ]
    },
    {
     "name": "stderr",
     "output_type": "stream",
     "text": [
      "Test Epoch: [63/100] Acc@1:82.81%:  67%|██████▋   | 2/3 [00:00<00:00,  3.13it/s]"
     ]
    },
    {
     "name": "stdout",
     "output_type": "stream",
     "text": [
      "torch.Size([120])\n"
     ]
    },
    {
     "name": "stderr",
     "output_type": "stream",
     "text": [
      "Test Epoch: [63/100] Acc@1:82.71%: 100%|██████████| 3/3 [00:00<00:00,  3.19it/s]\n",
      "Train Epoch: [64/100], lr: 0.008613, Loss: 2.7028: 100%|██████████| 97/97 [00:30<00:00,  3.23it/s]\n",
      "Feature extracting: 100%|██████████| 12/12 [00:00<00:00, 14.67it/s]\n",
      "  0%|          | 0/3 [00:00<?, ?it/s]"
     ]
    },
    {
     "name": "stdout",
     "output_type": "stream",
     "text": [
      "torch.Size([128])\n"
     ]
    },
    {
     "name": "stderr",
     "output_type": "stream",
     "text": [
      "Test Epoch: [64/100] Acc@1:75.00%:  33%|███▎      | 1/3 [00:00<00:00,  3.13it/s]"
     ]
    },
    {
     "name": "stdout",
     "output_type": "stream",
     "text": [
      "torch.Size([128])\n"
     ]
    },
    {
     "name": "stderr",
     "output_type": "stream",
     "text": [
      "Test Epoch: [64/100] Acc@1:81.25%:  67%|██████▋   | 2/3 [00:00<00:00,  3.17it/s]"
     ]
    },
    {
     "name": "stdout",
     "output_type": "stream",
     "text": [
      "torch.Size([120])\n"
     ]
    },
    {
     "name": "stderr",
     "output_type": "stream",
     "text": [
      "Test Epoch: [64/100] Acc@1:81.12%: 100%|██████████| 3/3 [00:00<00:00,  3.20it/s]\n",
      "Train Epoch: [65/100], lr: 0.008190, Loss: 2.6789: 100%|██████████| 97/97 [00:29<00:00,  3.25it/s]\n",
      "Feature extracting: 100%|██████████| 12/12 [00:00<00:00, 14.98it/s]\n",
      "  0%|          | 0/3 [00:00<?, ?it/s]"
     ]
    },
    {
     "name": "stdout",
     "output_type": "stream",
     "text": [
      "torch.Size([128])\n"
     ]
    },
    {
     "name": "stderr",
     "output_type": "stream",
     "text": [
      "Test Epoch: [65/100] Acc@1:80.47%:  33%|███▎      | 1/3 [00:00<00:00,  3.18it/s]"
     ]
    },
    {
     "name": "stdout",
     "output_type": "stream",
     "text": [
      "torch.Size([128])\n"
     ]
    },
    {
     "name": "stderr",
     "output_type": "stream",
     "text": [
      "Test Epoch: [65/100] Acc@1:84.38%:  67%|██████▋   | 2/3 [00:00<00:00,  3.20it/s]"
     ]
    },
    {
     "name": "stdout",
     "output_type": "stream",
     "text": [
      "torch.Size([120])\n"
     ]
    },
    {
     "name": "stderr",
     "output_type": "stream",
     "text": [
      "Test Epoch: [65/100] Acc@1:85.64%: 100%|██████████| 3/3 [00:00<00:00,  3.23it/s]\n",
      "Train Epoch: [66/100], lr: 0.007774, Loss: 2.6489: 100%|██████████| 97/97 [00:29<00:00,  3.25it/s]\n",
      "Feature extracting: 100%|██████████| 12/12 [00:00<00:00, 15.04it/s]\n",
      "  0%|          | 0/3 [00:00<?, ?it/s]"
     ]
    },
    {
     "name": "stdout",
     "output_type": "stream",
     "text": [
      "torch.Size([128])\n"
     ]
    },
    {
     "name": "stderr",
     "output_type": "stream",
     "text": [
      "Test Epoch: [66/100] Acc@1:79.69%:  33%|███▎      | 1/3 [00:00<00:00,  3.21it/s]"
     ]
    },
    {
     "name": "stdout",
     "output_type": "stream",
     "text": [
      "torch.Size([128])\n"
     ]
    },
    {
     "name": "stderr",
     "output_type": "stream",
     "text": [
      "Test Epoch: [66/100] Acc@1:84.38%:  67%|██████▋   | 2/3 [00:00<00:00,  3.18it/s]"
     ]
    },
    {
     "name": "stdout",
     "output_type": "stream",
     "text": [
      "torch.Size([120])\n"
     ]
    },
    {
     "name": "stderr",
     "output_type": "stream",
     "text": [
      "Test Epoch: [66/100] Acc@1:84.84%: 100%|██████████| 3/3 [00:00<00:00,  3.24it/s]\n",
      "Train Epoch: [67/100], lr: 0.007364, Loss: 2.6062: 100%|██████████| 97/97 [00:29<00:00,  3.25it/s]\n",
      "Feature extracting: 100%|██████████| 12/12 [00:00<00:00, 15.33it/s]\n",
      "  0%|          | 0/3 [00:00<?, ?it/s]"
     ]
    },
    {
     "name": "stdout",
     "output_type": "stream",
     "text": [
      "torch.Size([128])\n"
     ]
    },
    {
     "name": "stderr",
     "output_type": "stream",
     "text": [
      "Test Epoch: [67/100] Acc@1:75.78%:  33%|███▎      | 1/3 [00:00<00:00,  3.16it/s]"
     ]
    },
    {
     "name": "stdout",
     "output_type": "stream",
     "text": [
      "torch.Size([128])\n"
     ]
    },
    {
     "name": "stderr",
     "output_type": "stream",
     "text": [
      "Test Epoch: [67/100] Acc@1:82.42%:  67%|██████▋   | 2/3 [00:00<00:00,  3.15it/s]"
     ]
    },
    {
     "name": "stdout",
     "output_type": "stream",
     "text": [
      "torch.Size([120])\n"
     ]
    },
    {
     "name": "stderr",
     "output_type": "stream",
     "text": [
      "Test Epoch: [67/100] Acc@1:83.51%: 100%|██████████| 3/3 [00:00<00:00,  3.20it/s]\n",
      "Train Epoch: [68/100], lr: 0.006963, Loss: 2.6191: 100%|██████████| 97/97 [00:29<00:00,  3.24it/s]\n",
      "Feature extracting: 100%|██████████| 12/12 [00:00<00:00, 15.17it/s]\n",
      "  0%|          | 0/3 [00:00<?, ?it/s]"
     ]
    },
    {
     "name": "stdout",
     "output_type": "stream",
     "text": [
      "torch.Size([128])\n"
     ]
    },
    {
     "name": "stderr",
     "output_type": "stream",
     "text": [
      "Test Epoch: [68/100] Acc@1:76.56%:  33%|███▎      | 1/3 [00:00<00:00,  3.16it/s]"
     ]
    },
    {
     "name": "stdout",
     "output_type": "stream",
     "text": [
      "torch.Size([128])\n"
     ]
    },
    {
     "name": "stderr",
     "output_type": "stream",
     "text": [
      "Test Epoch: [68/100] Acc@1:82.03%:  67%|██████▋   | 2/3 [00:00<00:00,  3.13it/s]"
     ]
    },
    {
     "name": "stdout",
     "output_type": "stream",
     "text": [
      "torch.Size([120])\n"
     ]
    },
    {
     "name": "stderr",
     "output_type": "stream",
     "text": [
      "Test Epoch: [68/100] Acc@1:83.24%: 100%|██████████| 3/3 [00:00<00:00,  3.18it/s]\n",
      "Train Epoch: [69/100], lr: 0.006569, Loss: 2.6110: 100%|██████████| 97/97 [00:29<00:00,  3.24it/s]\n",
      "Feature extracting: 100%|██████████| 12/12 [00:00<00:00, 14.76it/s]\n",
      "  0%|          | 0/3 [00:00<?, ?it/s]"
     ]
    },
    {
     "name": "stdout",
     "output_type": "stream",
     "text": [
      "torch.Size([128])\n"
     ]
    },
    {
     "name": "stderr",
     "output_type": "stream",
     "text": [
      "Test Epoch: [69/100] Acc@1:75.00%:  33%|███▎      | 1/3 [00:00<00:00,  3.13it/s]"
     ]
    },
    {
     "name": "stdout",
     "output_type": "stream",
     "text": [
      "torch.Size([128])\n"
     ]
    },
    {
     "name": "stderr",
     "output_type": "stream",
     "text": [
      "Test Epoch: [69/100] Acc@1:81.25%:  67%|██████▋   | 2/3 [00:00<00:00,  3.12it/s]"
     ]
    },
    {
     "name": "stdout",
     "output_type": "stream",
     "text": [
      "torch.Size([120])\n"
     ]
    },
    {
     "name": "stderr",
     "output_type": "stream",
     "text": [
      "Test Epoch: [69/100] Acc@1:82.45%: 100%|██████████| 3/3 [00:00<00:00,  3.17it/s]\n",
      "Train Epoch: [70/100], lr: 0.006183, Loss: 2.5854: 100%|██████████| 97/97 [00:29<00:00,  3.24it/s]\n",
      "Feature extracting: 100%|██████████| 12/12 [00:00<00:00, 15.08it/s]\n",
      "  0%|          | 0/3 [00:00<?, ?it/s]"
     ]
    },
    {
     "name": "stdout",
     "output_type": "stream",
     "text": [
      "torch.Size([128])\n"
     ]
    },
    {
     "name": "stderr",
     "output_type": "stream",
     "text": [
      "Test Epoch: [70/100] Acc@1:78.91%:  33%|███▎      | 1/3 [00:00<00:00,  3.17it/s]"
     ]
    },
    {
     "name": "stdout",
     "output_type": "stream",
     "text": [
      "torch.Size([128])\n"
     ]
    },
    {
     "name": "stderr",
     "output_type": "stream",
     "text": [
      "Test Epoch: [70/100] Acc@1:82.42%:  67%|██████▋   | 2/3 [00:00<00:00,  3.16it/s]"
     ]
    },
    {
     "name": "stdout",
     "output_type": "stream",
     "text": [
      "torch.Size([120])\n"
     ]
    },
    {
     "name": "stderr",
     "output_type": "stream",
     "text": [
      "Test Epoch: [70/100] Acc@1:82.71%: 100%|██████████| 3/3 [00:00<00:00,  3.20it/s]\n",
      "Train Epoch: [71/100], lr: 0.005806, Loss: 2.5590: 100%|██████████| 97/97 [00:29<00:00,  3.24it/s]\n",
      "Feature extracting: 100%|██████████| 12/12 [00:00<00:00, 14.91it/s]\n",
      "  0%|          | 0/3 [00:00<?, ?it/s]"
     ]
    },
    {
     "name": "stdout",
     "output_type": "stream",
     "text": [
      "torch.Size([128])\n"
     ]
    },
    {
     "name": "stderr",
     "output_type": "stream",
     "text": [
      "Test Epoch: [71/100] Acc@1:80.47%:  33%|███▎      | 1/3 [00:00<00:00,  3.14it/s]"
     ]
    },
    {
     "name": "stdout",
     "output_type": "stream",
     "text": [
      "torch.Size([128])\n"
     ]
    },
    {
     "name": "stderr",
     "output_type": "stream",
     "text": [
      "Test Epoch: [71/100] Acc@1:83.98%:  67%|██████▋   | 2/3 [00:00<00:00,  3.15it/s]"
     ]
    },
    {
     "name": "stdout",
     "output_type": "stream",
     "text": [
      "torch.Size([120])\n"
     ]
    },
    {
     "name": "stderr",
     "output_type": "stream",
     "text": [
      "Test Epoch: [71/100] Acc@1:85.11%: 100%|██████████| 3/3 [00:00<00:00,  3.20it/s]\n",
      "Train Epoch: [72/100], lr: 0.005439, Loss: 2.5377: 100%|██████████| 97/97 [00:29<00:00,  3.23it/s]\n",
      "Feature extracting: 100%|██████████| 12/12 [00:00<00:00, 14.85it/s]\n",
      "  0%|          | 0/3 [00:00<?, ?it/s]"
     ]
    },
    {
     "name": "stdout",
     "output_type": "stream",
     "text": [
      "torch.Size([128])\n"
     ]
    },
    {
     "name": "stderr",
     "output_type": "stream",
     "text": [
      "Test Epoch: [72/100] Acc@1:79.69%:  33%|███▎      | 1/3 [00:00<00:00,  3.20it/s]"
     ]
    },
    {
     "name": "stdout",
     "output_type": "stream",
     "text": [
      "torch.Size([128])\n"
     ]
    },
    {
     "name": "stderr",
     "output_type": "stream",
     "text": [
      "Test Epoch: [72/100] Acc@1:83.98%:  67%|██████▋   | 2/3 [00:00<00:00,  3.19it/s]"
     ]
    },
    {
     "name": "stdout",
     "output_type": "stream",
     "text": [
      "torch.Size([120])\n"
     ]
    },
    {
     "name": "stderr",
     "output_type": "stream",
     "text": [
      "Test Epoch: [72/100] Acc@1:85.11%: 100%|██████████| 3/3 [00:00<00:00,  3.25it/s]\n",
      "Train Epoch: [73/100], lr: 0.005080, Loss: 2.5276: 100%|██████████| 97/97 [00:29<00:00,  3.26it/s]\n",
      "Feature extracting: 100%|██████████| 12/12 [00:00<00:00, 14.97it/s]\n",
      "  0%|          | 0/3 [00:00<?, ?it/s]"
     ]
    },
    {
     "name": "stdout",
     "output_type": "stream",
     "text": [
      "torch.Size([128])\n"
     ]
    },
    {
     "name": "stderr",
     "output_type": "stream",
     "text": [
      "Test Epoch: [73/100] Acc@1:78.91%:  33%|███▎      | 1/3 [00:00<00:00,  3.11it/s]"
     ]
    },
    {
     "name": "stdout",
     "output_type": "stream",
     "text": [
      "torch.Size([128])\n"
     ]
    },
    {
     "name": "stderr",
     "output_type": "stream",
     "text": [
      "Test Epoch: [73/100] Acc@1:83.98%:  67%|██████▋   | 2/3 [00:00<00:00,  3.14it/s]"
     ]
    },
    {
     "name": "stdout",
     "output_type": "stream",
     "text": [
      "torch.Size([120])\n"
     ]
    },
    {
     "name": "stderr",
     "output_type": "stream",
     "text": [
      "Test Epoch: [73/100] Acc@1:83.78%: 100%|██████████| 3/3 [00:00<00:00,  3.19it/s]\n",
      "Train Epoch: [74/100], lr: 0.004732, Loss: 2.5152: 100%|██████████| 97/97 [00:29<00:00,  3.26it/s]\n",
      "Feature extracting: 100%|██████████| 12/12 [00:00<00:00, 14.69it/s]\n",
      "  0%|          | 0/3 [00:00<?, ?it/s]"
     ]
    },
    {
     "name": "stdout",
     "output_type": "stream",
     "text": [
      "torch.Size([128])\n"
     ]
    },
    {
     "name": "stderr",
     "output_type": "stream",
     "text": [
      "Test Epoch: [74/100] Acc@1:79.69%:  33%|███▎      | 1/3 [00:00<00:00,  3.17it/s]"
     ]
    },
    {
     "name": "stdout",
     "output_type": "stream",
     "text": [
      "torch.Size([128])\n"
     ]
    },
    {
     "name": "stderr",
     "output_type": "stream",
     "text": [
      "Test Epoch: [74/100] Acc@1:85.16%:  67%|██████▋   | 2/3 [00:00<00:00,  3.18it/s]"
     ]
    },
    {
     "name": "stdout",
     "output_type": "stream",
     "text": [
      "torch.Size([120])\n"
     ]
    },
    {
     "name": "stderr",
     "output_type": "stream",
     "text": [
      "Test Epoch: [74/100] Acc@1:85.11%: 100%|██████████| 3/3 [00:00<00:00,  3.23it/s]\n",
      "Train Epoch: [75/100], lr: 0.004393, Loss: 2.5015: 100%|██████████| 97/97 [00:29<00:00,  3.25it/s]\n",
      "Feature extracting: 100%|██████████| 12/12 [00:00<00:00, 14.78it/s]\n",
      "  0%|          | 0/3 [00:00<?, ?it/s]"
     ]
    },
    {
     "name": "stdout",
     "output_type": "stream",
     "text": [
      "torch.Size([128])\n"
     ]
    },
    {
     "name": "stderr",
     "output_type": "stream",
     "text": [
      "Test Epoch: [75/100] Acc@1:79.69%:  33%|███▎      | 1/3 [00:00<00:00,  3.16it/s]"
     ]
    },
    {
     "name": "stdout",
     "output_type": "stream",
     "text": [
      "torch.Size([128])\n"
     ]
    },
    {
     "name": "stderr",
     "output_type": "stream",
     "text": [
      "Test Epoch: [75/100] Acc@1:83.59%:  67%|██████▋   | 2/3 [00:00<00:00,  3.15it/s]"
     ]
    },
    {
     "name": "stdout",
     "output_type": "stream",
     "text": [
      "torch.Size([120])\n"
     ]
    },
    {
     "name": "stderr",
     "output_type": "stream",
     "text": [
      "Test Epoch: [75/100] Acc@1:84.04%: 100%|██████████| 3/3 [00:00<00:00,  3.17it/s]\n",
      "Train Epoch: [76/100], lr: 0.004065, Loss: 2.5076: 100%|██████████| 97/97 [00:29<00:00,  3.24it/s]\n",
      "Feature extracting: 100%|██████████| 12/12 [00:00<00:00, 14.67it/s]\n",
      "  0%|          | 0/3 [00:00<?, ?it/s]"
     ]
    },
    {
     "name": "stdout",
     "output_type": "stream",
     "text": [
      "torch.Size([128])\n"
     ]
    },
    {
     "name": "stderr",
     "output_type": "stream",
     "text": [
      "Test Epoch: [76/100] Acc@1:79.69%:  33%|███▎      | 1/3 [00:00<00:00,  3.16it/s]"
     ]
    },
    {
     "name": "stdout",
     "output_type": "stream",
     "text": [
      "torch.Size([128])\n"
     ]
    },
    {
     "name": "stderr",
     "output_type": "stream",
     "text": [
      "Test Epoch: [76/100] Acc@1:83.98%:  67%|██████▋   | 2/3 [00:00<00:00,  3.16it/s]"
     ]
    },
    {
     "name": "stdout",
     "output_type": "stream",
     "text": [
      "torch.Size([120])\n"
     ]
    },
    {
     "name": "stderr",
     "output_type": "stream",
     "text": [
      "Test Epoch: [76/100] Acc@1:84.31%: 100%|██████████| 3/3 [00:00<00:00,  3.20it/s]\n",
      "Train Epoch: [77/100], lr: 0.003748, Loss: 2.4592: 100%|██████████| 97/97 [00:29<00:00,  3.24it/s]\n",
      "Feature extracting: 100%|██████████| 12/12 [00:00<00:00, 14.51it/s]\n",
      "  0%|          | 0/3 [00:00<?, ?it/s]"
     ]
    },
    {
     "name": "stdout",
     "output_type": "stream",
     "text": [
      "torch.Size([128])\n"
     ]
    },
    {
     "name": "stderr",
     "output_type": "stream",
     "text": [
      "Test Epoch: [77/100] Acc@1:75.78%:  33%|███▎      | 1/3 [00:00<00:00,  3.13it/s]"
     ]
    },
    {
     "name": "stdout",
     "output_type": "stream",
     "text": [
      "torch.Size([128])\n"
     ]
    },
    {
     "name": "stderr",
     "output_type": "stream",
     "text": [
      "Test Epoch: [77/100] Acc@1:82.81%:  67%|██████▋   | 2/3 [00:00<00:00,  3.13it/s]"
     ]
    },
    {
     "name": "stdout",
     "output_type": "stream",
     "text": [
      "torch.Size([120])\n"
     ]
    },
    {
     "name": "stderr",
     "output_type": "stream",
     "text": [
      "Test Epoch: [77/100] Acc@1:84.04%: 100%|██████████| 3/3 [00:00<00:00,  3.17it/s]\n",
      "Train Epoch: [78/100], lr: 0.003442, Loss: 2.4548: 100%|██████████| 97/97 [00:29<00:00,  3.24it/s]\n",
      "Feature extracting: 100%|██████████| 12/12 [00:00<00:00, 14.53it/s]\n",
      "  0%|          | 0/3 [00:00<?, ?it/s]"
     ]
    },
    {
     "name": "stdout",
     "output_type": "stream",
     "text": [
      "torch.Size([128])\n"
     ]
    },
    {
     "name": "stderr",
     "output_type": "stream",
     "text": [
      "Test Epoch: [78/100] Acc@1:75.00%:  33%|███▎      | 1/3 [00:00<00:00,  3.16it/s]"
     ]
    },
    {
     "name": "stdout",
     "output_type": "stream",
     "text": [
      "torch.Size([128])\n"
     ]
    },
    {
     "name": "stderr",
     "output_type": "stream",
     "text": [
      "Test Epoch: [78/100] Acc@1:79.30%:  67%|██████▋   | 2/3 [00:00<00:00,  3.16it/s]"
     ]
    },
    {
     "name": "stdout",
     "output_type": "stream",
     "text": [
      "torch.Size([120])\n"
     ]
    },
    {
     "name": "stderr",
     "output_type": "stream",
     "text": [
      "Test Epoch: [78/100] Acc@1:81.38%: 100%|██████████| 3/3 [00:00<00:00,  3.18it/s]\n",
      "Train Epoch: [79/100], lr: 0.003148, Loss: 2.4460: 100%|██████████| 97/97 [00:29<00:00,  3.24it/s]\n",
      "Feature extracting: 100%|██████████| 12/12 [00:00<00:00, 14.80it/s]\n",
      "  0%|          | 0/3 [00:00<?, ?it/s]"
     ]
    },
    {
     "name": "stdout",
     "output_type": "stream",
     "text": [
      "torch.Size([128])\n"
     ]
    },
    {
     "name": "stderr",
     "output_type": "stream",
     "text": [
      "Test Epoch: [79/100] Acc@1:80.47%:  33%|███▎      | 1/3 [00:00<00:00,  3.13it/s]"
     ]
    },
    {
     "name": "stdout",
     "output_type": "stream",
     "text": [
      "torch.Size([128])\n"
     ]
    },
    {
     "name": "stderr",
     "output_type": "stream",
     "text": [
      "Test Epoch: [79/100] Acc@1:84.77%:  67%|██████▋   | 2/3 [00:00<00:00,  3.13it/s]"
     ]
    },
    {
     "name": "stdout",
     "output_type": "stream",
     "text": [
      "torch.Size([120])\n"
     ]
    },
    {
     "name": "stderr",
     "output_type": "stream",
     "text": [
      "Test Epoch: [79/100] Acc@1:85.64%: 100%|██████████| 3/3 [00:00<00:00,  3.18it/s]\n",
      "Train Epoch: [80/100], lr: 0.002865, Loss: 2.4768: 100%|██████████| 97/97 [00:29<00:00,  3.25it/s]\n",
      "Feature extracting: 100%|██████████| 12/12 [00:00<00:00, 14.73it/s]\n",
      "  0%|          | 0/3 [00:00<?, ?it/s]"
     ]
    },
    {
     "name": "stdout",
     "output_type": "stream",
     "text": [
      "torch.Size([128])\n"
     ]
    },
    {
     "name": "stderr",
     "output_type": "stream",
     "text": [
      "Test Epoch: [80/100] Acc@1:79.69%:  33%|███▎      | 1/3 [00:00<00:00,  3.13it/s]"
     ]
    },
    {
     "name": "stdout",
     "output_type": "stream",
     "text": [
      "torch.Size([128])\n"
     ]
    },
    {
     "name": "stderr",
     "output_type": "stream",
     "text": [
      "Test Epoch: [80/100] Acc@1:85.16%:  67%|██████▋   | 2/3 [00:00<00:00,  3.17it/s]"
     ]
    },
    {
     "name": "stdout",
     "output_type": "stream",
     "text": [
      "torch.Size([120])\n"
     ]
    },
    {
     "name": "stderr",
     "output_type": "stream",
     "text": [
      "Test Epoch: [80/100] Acc@1:85.90%: 100%|██████████| 3/3 [00:00<00:00,  3.20it/s]\n",
      "Train Epoch: [81/100], lr: 0.002594, Loss: 2.4404: 100%|██████████| 97/97 [00:29<00:00,  3.26it/s]\n",
      "Feature extracting: 100%|██████████| 12/12 [00:00<00:00, 14.58it/s]\n",
      "  0%|          | 0/3 [00:00<?, ?it/s]"
     ]
    },
    {
     "name": "stdout",
     "output_type": "stream",
     "text": [
      "torch.Size([128])\n"
     ]
    },
    {
     "name": "stderr",
     "output_type": "stream",
     "text": [
      "Test Epoch: [81/100] Acc@1:78.91%:  33%|███▎      | 1/3 [00:00<00:00,  3.18it/s]"
     ]
    },
    {
     "name": "stdout",
     "output_type": "stream",
     "text": [
      "torch.Size([128])\n"
     ]
    },
    {
     "name": "stderr",
     "output_type": "stream",
     "text": [
      "Test Epoch: [81/100] Acc@1:84.38%:  67%|██████▋   | 2/3 [00:00<00:00,  3.15it/s]"
     ]
    },
    {
     "name": "stdout",
     "output_type": "stream",
     "text": [
      "torch.Size([120])\n"
     ]
    },
    {
     "name": "stderr",
     "output_type": "stream",
     "text": [
      "Test Epoch: [81/100] Acc@1:84.57%: 100%|██████████| 3/3 [00:00<00:00,  3.21it/s]\n",
      "Train Epoch: [82/100], lr: 0.002335, Loss: 2.4400: 100%|██████████| 97/97 [00:29<00:00,  3.25it/s]\n",
      "Feature extracting: 100%|██████████| 12/12 [00:00<00:00, 14.48it/s]\n",
      "  0%|          | 0/3 [00:00<?, ?it/s]"
     ]
    },
    {
     "name": "stdout",
     "output_type": "stream",
     "text": [
      "torch.Size([128])\n"
     ]
    },
    {
     "name": "stderr",
     "output_type": "stream",
     "text": [
      "Test Epoch: [82/100] Acc@1:78.12%:  33%|███▎      | 1/3 [00:00<00:00,  3.18it/s]"
     ]
    },
    {
     "name": "stdout",
     "output_type": "stream",
     "text": [
      "torch.Size([128])\n"
     ]
    },
    {
     "name": "stderr",
     "output_type": "stream",
     "text": [
      "Test Epoch: [82/100] Acc@1:83.59%:  67%|██████▋   | 2/3 [00:00<00:00,  3.15it/s]"
     ]
    },
    {
     "name": "stdout",
     "output_type": "stream",
     "text": [
      "torch.Size([120])\n"
     ]
    },
    {
     "name": "stderr",
     "output_type": "stream",
     "text": [
      "Test Epoch: [82/100] Acc@1:84.57%: 100%|██████████| 3/3 [00:00<00:00,  3.21it/s]\n",
      "Train Epoch: [83/100], lr: 0.002089, Loss: 2.4258: 100%|██████████| 97/97 [00:29<00:00,  3.26it/s]\n",
      "Feature extracting: 100%|██████████| 12/12 [00:00<00:00, 14.78it/s]\n",
      "  0%|          | 0/3 [00:00<?, ?it/s]"
     ]
    },
    {
     "name": "stdout",
     "output_type": "stream",
     "text": [
      "torch.Size([128])\n"
     ]
    },
    {
     "name": "stderr",
     "output_type": "stream",
     "text": [
      "Test Epoch: [83/100] Acc@1:79.69%:  33%|███▎      | 1/3 [00:00<00:00,  3.18it/s]"
     ]
    },
    {
     "name": "stdout",
     "output_type": "stream",
     "text": [
      "torch.Size([128])\n"
     ]
    },
    {
     "name": "stderr",
     "output_type": "stream",
     "text": [
      "Test Epoch: [83/100] Acc@1:85.55%:  67%|██████▋   | 2/3 [00:00<00:00,  3.17it/s]"
     ]
    },
    {
     "name": "stdout",
     "output_type": "stream",
     "text": [
      "torch.Size([120])\n"
     ]
    },
    {
     "name": "stderr",
     "output_type": "stream",
     "text": [
      "Test Epoch: [83/100] Acc@1:86.44%: 100%|██████████| 3/3 [00:00<00:00,  3.21it/s]\n",
      "Train Epoch: [84/100], lr: 0.001855, Loss: 2.4073: 100%|██████████| 97/97 [00:29<00:00,  3.25it/s]\n",
      "Feature extracting: 100%|██████████| 12/12 [00:00<00:00, 14.80it/s]\n",
      "  0%|          | 0/3 [00:00<?, ?it/s]"
     ]
    },
    {
     "name": "stdout",
     "output_type": "stream",
     "text": [
      "torch.Size([128])\n"
     ]
    },
    {
     "name": "stderr",
     "output_type": "stream",
     "text": [
      "Test Epoch: [84/100] Acc@1:78.91%:  33%|███▎      | 1/3 [00:00<00:00,  3.15it/s]"
     ]
    },
    {
     "name": "stdout",
     "output_type": "stream",
     "text": [
      "torch.Size([128])\n"
     ]
    },
    {
     "name": "stderr",
     "output_type": "stream",
     "text": [
      "Test Epoch: [84/100] Acc@1:83.59%:  67%|██████▋   | 2/3 [00:00<00:00,  3.18it/s]"
     ]
    },
    {
     "name": "stdout",
     "output_type": "stream",
     "text": [
      "torch.Size([120])\n"
     ]
    },
    {
     "name": "stderr",
     "output_type": "stream",
     "text": [
      "Test Epoch: [84/100] Acc@1:83.78%: 100%|██████████| 3/3 [00:00<00:00,  3.23it/s]\n",
      "Train Epoch: [85/100], lr: 0.001635, Loss: 2.3901: 100%|██████████| 97/97 [00:29<00:00,  3.25it/s]\n",
      "Feature extracting: 100%|██████████| 12/12 [00:00<00:00, 14.87it/s]\n",
      "  0%|          | 0/3 [00:00<?, ?it/s]"
     ]
    },
    {
     "name": "stdout",
     "output_type": "stream",
     "text": [
      "torch.Size([128])\n"
     ]
    },
    {
     "name": "stderr",
     "output_type": "stream",
     "text": [
      "Test Epoch: [85/100] Acc@1:77.34%:  33%|███▎      | 1/3 [00:00<00:00,  3.22it/s]"
     ]
    },
    {
     "name": "stdout",
     "output_type": "stream",
     "text": [
      "torch.Size([128])\n"
     ]
    },
    {
     "name": "stderr",
     "output_type": "stream",
     "text": [
      "Test Epoch: [85/100] Acc@1:82.03%:  67%|██████▋   | 2/3 [00:00<00:00,  3.21it/s]"
     ]
    },
    {
     "name": "stdout",
     "output_type": "stream",
     "text": [
      "torch.Size([120])\n"
     ]
    },
    {
     "name": "stderr",
     "output_type": "stream",
     "text": [
      "Test Epoch: [85/100] Acc@1:83.24%: 100%|██████████| 3/3 [00:00<00:00,  3.27it/s]\n",
      "Train Epoch: [86/100], lr: 0.001428, Loss: 2.3903: 100%|██████████| 97/97 [00:29<00:00,  3.26it/s]\n",
      "Feature extracting: 100%|██████████| 12/12 [00:00<00:00, 14.85it/s]\n",
      "  0%|          | 0/3 [00:00<?, ?it/s]"
     ]
    },
    {
     "name": "stdout",
     "output_type": "stream",
     "text": [
      "torch.Size([128])\n"
     ]
    },
    {
     "name": "stderr",
     "output_type": "stream",
     "text": [
      "Test Epoch: [86/100] Acc@1:78.91%:  33%|███▎      | 1/3 [00:00<00:00,  3.22it/s]"
     ]
    },
    {
     "name": "stdout",
     "output_type": "stream",
     "text": [
      "torch.Size([128])\n"
     ]
    },
    {
     "name": "stderr",
     "output_type": "stream",
     "text": [
      "Test Epoch: [86/100] Acc@1:82.81%:  67%|██████▋   | 2/3 [00:00<00:00,  3.18it/s]"
     ]
    },
    {
     "name": "stdout",
     "output_type": "stream",
     "text": [
      "torch.Size([120])\n"
     ]
    },
    {
     "name": "stderr",
     "output_type": "stream",
     "text": [
      "Test Epoch: [86/100] Acc@1:83.24%: 100%|██████████| 3/3 [00:00<00:00,  3.24it/s]\n",
      "Train Epoch: [87/100], lr: 0.001234, Loss: 2.4036: 100%|██████████| 97/97 [00:29<00:00,  3.26it/s]\n",
      "Feature extracting: 100%|██████████| 12/12 [00:00<00:00, 15.10it/s]\n",
      "  0%|          | 0/3 [00:00<?, ?it/s]"
     ]
    },
    {
     "name": "stdout",
     "output_type": "stream",
     "text": [
      "torch.Size([128])\n"
     ]
    },
    {
     "name": "stderr",
     "output_type": "stream",
     "text": [
      "Test Epoch: [87/100] Acc@1:81.25%:  33%|███▎      | 1/3 [00:00<00:00,  3.20it/s]"
     ]
    },
    {
     "name": "stdout",
     "output_type": "stream",
     "text": [
      "torch.Size([128])\n"
     ]
    },
    {
     "name": "stderr",
     "output_type": "stream",
     "text": [
      "Test Epoch: [87/100] Acc@1:85.55%:  67%|██████▋   | 2/3 [00:00<00:00,  3.22it/s]"
     ]
    },
    {
     "name": "stdout",
     "output_type": "stream",
     "text": [
      "torch.Size([120])\n"
     ]
    },
    {
     "name": "stderr",
     "output_type": "stream",
     "text": [
      "Test Epoch: [87/100] Acc@1:84.84%: 100%|██████████| 3/3 [00:00<00:00,  3.26it/s]\n",
      "Train Epoch: [88/100], lr: 0.001053, Loss: 2.3575: 100%|██████████| 97/97 [00:29<00:00,  3.26it/s]\n",
      "Feature extracting: 100%|██████████| 12/12 [00:00<00:00, 15.06it/s]\n",
      "  0%|          | 0/3 [00:00<?, ?it/s]"
     ]
    },
    {
     "name": "stdout",
     "output_type": "stream",
     "text": [
      "torch.Size([128])\n"
     ]
    },
    {
     "name": "stderr",
     "output_type": "stream",
     "text": [
      "Test Epoch: [88/100] Acc@1:77.34%:  33%|███▎      | 1/3 [00:00<00:00,  3.17it/s]"
     ]
    },
    {
     "name": "stdout",
     "output_type": "stream",
     "text": [
      "torch.Size([128])\n"
     ]
    },
    {
     "name": "stderr",
     "output_type": "stream",
     "text": [
      "Test Epoch: [88/100] Acc@1:83.98%:  67%|██████▋   | 2/3 [00:00<00:00,  3.16it/s]"
     ]
    },
    {
     "name": "stdout",
     "output_type": "stream",
     "text": [
      "torch.Size([120])\n"
     ]
    },
    {
     "name": "stderr",
     "output_type": "stream",
     "text": [
      "Test Epoch: [88/100] Acc@1:84.04%: 100%|██████████| 3/3 [00:00<00:00,  3.22it/s]\n",
      "Train Epoch: [89/100], lr: 0.000887, Loss: 2.3606: 100%|██████████| 97/97 [00:29<00:00,  3.26it/s]\n",
      "Feature extracting: 100%|██████████| 12/12 [00:00<00:00, 15.02it/s]\n",
      "  0%|          | 0/3 [00:00<?, ?it/s]"
     ]
    },
    {
     "name": "stdout",
     "output_type": "stream",
     "text": [
      "torch.Size([128])\n"
     ]
    },
    {
     "name": "stderr",
     "output_type": "stream",
     "text": [
      "Test Epoch: [89/100] Acc@1:78.12%:  33%|███▎      | 1/3 [00:00<00:00,  3.20it/s]"
     ]
    },
    {
     "name": "stdout",
     "output_type": "stream",
     "text": [
      "torch.Size([128])\n"
     ]
    },
    {
     "name": "stderr",
     "output_type": "stream",
     "text": [
      "Test Epoch: [89/100] Acc@1:84.38%:  67%|██████▋   | 2/3 [00:00<00:00,  3.22it/s]"
     ]
    },
    {
     "name": "stdout",
     "output_type": "stream",
     "text": [
      "torch.Size([120])\n"
     ]
    },
    {
     "name": "stderr",
     "output_type": "stream",
     "text": [
      "Test Epoch: [89/100] Acc@1:84.84%: 100%|██████████| 3/3 [00:00<00:00,  3.26it/s]\n",
      "Train Epoch: [90/100], lr: 0.000734, Loss: 2.3378: 100%|██████████| 97/97 [00:29<00:00,  3.26it/s]\n",
      "Feature extracting: 100%|██████████| 12/12 [00:00<00:00, 15.47it/s]\n",
      "  0%|          | 0/3 [00:00<?, ?it/s]"
     ]
    },
    {
     "name": "stdout",
     "output_type": "stream",
     "text": [
      "torch.Size([128])\n"
     ]
    },
    {
     "name": "stderr",
     "output_type": "stream",
     "text": [
      "Test Epoch: [90/100] Acc@1:75.78%:  33%|███▎      | 1/3 [00:00<00:00,  3.24it/s]"
     ]
    },
    {
     "name": "stdout",
     "output_type": "stream",
     "text": [
      "torch.Size([128])\n"
     ]
    },
    {
     "name": "stderr",
     "output_type": "stream",
     "text": [
      "Test Epoch: [90/100] Acc@1:83.20%:  67%|██████▋   | 2/3 [00:00<00:00,  3.23it/s]"
     ]
    },
    {
     "name": "stdout",
     "output_type": "stream",
     "text": [
      "torch.Size([120])\n"
     ]
    },
    {
     "name": "stderr",
     "output_type": "stream",
     "text": [
      "Test Epoch: [90/100] Acc@1:84.04%: 100%|██████████| 3/3 [00:00<00:00,  3.26it/s]\n",
      "Train Epoch: [91/100], lr: 0.000596, Loss: 2.3380: 100%|██████████| 97/97 [00:29<00:00,  3.25it/s]\n",
      "Feature extracting: 100%|██████████| 12/12 [00:00<00:00, 15.17it/s]\n",
      "  0%|          | 0/3 [00:00<?, ?it/s]"
     ]
    },
    {
     "name": "stdout",
     "output_type": "stream",
     "text": [
      "torch.Size([128])\n"
     ]
    },
    {
     "name": "stderr",
     "output_type": "stream",
     "text": [
      "Test Epoch: [91/100] Acc@1:76.56%:  33%|███▎      | 1/3 [00:00<00:00,  3.16it/s]"
     ]
    },
    {
     "name": "stdout",
     "output_type": "stream",
     "text": [
      "torch.Size([128])\n"
     ]
    },
    {
     "name": "stderr",
     "output_type": "stream",
     "text": [
      "Test Epoch: [91/100] Acc@1:82.03%:  67%|██████▋   | 2/3 [00:00<00:00,  3.20it/s]"
     ]
    },
    {
     "name": "stdout",
     "output_type": "stream",
     "text": [
      "torch.Size([120])\n"
     ]
    },
    {
     "name": "stderr",
     "output_type": "stream",
     "text": [
      "Test Epoch: [91/100] Acc@1:82.45%: 100%|██████████| 3/3 [00:00<00:00,  3.22it/s]\n",
      "Train Epoch: [92/100], lr: 0.000471, Loss: 2.3651: 100%|██████████| 97/97 [00:29<00:00,  3.25it/s]\n",
      "Feature extracting: 100%|██████████| 12/12 [00:00<00:00, 14.85it/s]\n",
      "  0%|          | 0/3 [00:00<?, ?it/s]"
     ]
    },
    {
     "name": "stdout",
     "output_type": "stream",
     "text": [
      "torch.Size([128])\n"
     ]
    },
    {
     "name": "stderr",
     "output_type": "stream",
     "text": [
      "Test Epoch: [92/100] Acc@1:78.12%:  33%|███▎      | 1/3 [00:00<00:00,  3.21it/s]"
     ]
    },
    {
     "name": "stdout",
     "output_type": "stream",
     "text": [
      "torch.Size([128])\n"
     ]
    },
    {
     "name": "stderr",
     "output_type": "stream",
     "text": [
      "Test Epoch: [92/100] Acc@1:83.98%:  67%|██████▋   | 2/3 [00:00<00:00,  3.19it/s]"
     ]
    },
    {
     "name": "stdout",
     "output_type": "stream",
     "text": [
      "torch.Size([120])\n"
     ]
    },
    {
     "name": "stderr",
     "output_type": "stream",
     "text": [
      "Test Epoch: [92/100] Acc@1:84.31%: 100%|██████████| 3/3 [00:00<00:00,  3.25it/s]\n",
      "Train Epoch: [93/100], lr: 0.000361, Loss: 2.3324: 100%|██████████| 97/97 [00:29<00:00,  3.26it/s]\n",
      "Feature extracting: 100%|██████████| 12/12 [00:00<00:00, 15.12it/s]\n",
      "  0%|          | 0/3 [00:00<?, ?it/s]"
     ]
    },
    {
     "name": "stdout",
     "output_type": "stream",
     "text": [
      "torch.Size([128])\n"
     ]
    },
    {
     "name": "stderr",
     "output_type": "stream",
     "text": [
      "Test Epoch: [93/100] Acc@1:77.34%:  33%|███▎      | 1/3 [00:00<00:00,  3.21it/s]"
     ]
    },
    {
     "name": "stdout",
     "output_type": "stream",
     "text": [
      "torch.Size([128])\n"
     ]
    },
    {
     "name": "stderr",
     "output_type": "stream",
     "text": [
      "Test Epoch: [93/100] Acc@1:83.20%:  67%|██████▋   | 2/3 [00:00<00:00,  3.21it/s]"
     ]
    },
    {
     "name": "stdout",
     "output_type": "stream",
     "text": [
      "torch.Size([120])\n"
     ]
    },
    {
     "name": "stderr",
     "output_type": "stream",
     "text": [
      "Test Epoch: [93/100] Acc@1:83.51%: 100%|██████████| 3/3 [00:00<00:00,  3.24it/s]\n",
      "Train Epoch: [94/100], lr: 0.000266, Loss: 2.3591: 100%|██████████| 97/97 [00:29<00:00,  3.25it/s]\n",
      "Feature extracting: 100%|██████████| 12/12 [00:00<00:00, 15.21it/s]\n",
      "  0%|          | 0/3 [00:00<?, ?it/s]"
     ]
    },
    {
     "name": "stdout",
     "output_type": "stream",
     "text": [
      "torch.Size([128])\n"
     ]
    },
    {
     "name": "stderr",
     "output_type": "stream",
     "text": [
      "Test Epoch: [94/100] Acc@1:79.69%:  33%|███▎      | 1/3 [00:00<00:00,  3.19it/s]"
     ]
    },
    {
     "name": "stdout",
     "output_type": "stream",
     "text": [
      "torch.Size([128])\n"
     ]
    },
    {
     "name": "stderr",
     "output_type": "stream",
     "text": [
      "Test Epoch: [94/100] Acc@1:84.77%:  67%|██████▋   | 2/3 [00:00<00:00,  3.20it/s]"
     ]
    },
    {
     "name": "stdout",
     "output_type": "stream",
     "text": [
      "torch.Size([120])\n"
     ]
    },
    {
     "name": "stderr",
     "output_type": "stream",
     "text": [
      "Test Epoch: [94/100] Acc@1:84.57%: 100%|██████████| 3/3 [00:00<00:00,  3.26it/s]\n",
      "Train Epoch: [95/100], lr: 0.000185, Loss: 2.3223: 100%|██████████| 97/97 [00:29<00:00,  3.25it/s]\n",
      "Feature extracting: 100%|██████████| 12/12 [00:00<00:00, 14.87it/s]\n",
      "  0%|          | 0/3 [00:00<?, ?it/s]"
     ]
    },
    {
     "name": "stdout",
     "output_type": "stream",
     "text": [
      "torch.Size([128])\n"
     ]
    },
    {
     "name": "stderr",
     "output_type": "stream",
     "text": [
      "Test Epoch: [95/100] Acc@1:78.12%:  33%|███▎      | 1/3 [00:00<00:00,  3.16it/s]"
     ]
    },
    {
     "name": "stdout",
     "output_type": "stream",
     "text": [
      "torch.Size([128])\n"
     ]
    },
    {
     "name": "stderr",
     "output_type": "stream",
     "text": [
      "Test Epoch: [95/100] Acc@1:84.38%:  67%|██████▋   | 2/3 [00:00<00:00,  3.19it/s]"
     ]
    },
    {
     "name": "stdout",
     "output_type": "stream",
     "text": [
      "torch.Size([120])\n"
     ]
    },
    {
     "name": "stderr",
     "output_type": "stream",
     "text": [
      "Test Epoch: [95/100] Acc@1:84.31%: 100%|██████████| 3/3 [00:00<00:00,  3.23it/s]\n",
      "Train Epoch: [96/100], lr: 0.000118, Loss: 2.3824: 100%|██████████| 97/97 [00:29<00:00,  3.26it/s]\n",
      "Feature extracting: 100%|██████████| 12/12 [00:00<00:00, 15.10it/s]\n",
      "  0%|          | 0/3 [00:00<?, ?it/s]"
     ]
    },
    {
     "name": "stdout",
     "output_type": "stream",
     "text": [
      "torch.Size([128])\n"
     ]
    },
    {
     "name": "stderr",
     "output_type": "stream",
     "text": [
      "Test Epoch: [96/100] Acc@1:78.12%:  33%|███▎      | 1/3 [00:00<00:00,  3.19it/s]"
     ]
    },
    {
     "name": "stdout",
     "output_type": "stream",
     "text": [
      "torch.Size([128])\n"
     ]
    },
    {
     "name": "stderr",
     "output_type": "stream",
     "text": [
      "Test Epoch: [96/100] Acc@1:84.38%:  67%|██████▋   | 2/3 [00:00<00:00,  3.18it/s]"
     ]
    },
    {
     "name": "stdout",
     "output_type": "stream",
     "text": [
      "torch.Size([120])\n"
     ]
    },
    {
     "name": "stderr",
     "output_type": "stream",
     "text": [
      "Test Epoch: [96/100] Acc@1:83.78%: 100%|██████████| 3/3 [00:00<00:00,  3.23it/s]\n",
      "Train Epoch: [97/100], lr: 0.000067, Loss: 2.3513: 100%|██████████| 97/97 [00:29<00:00,  3.26it/s]\n",
      "Feature extracting: 100%|██████████| 12/12 [00:00<00:00, 14.67it/s]\n",
      "  0%|          | 0/3 [00:00<?, ?it/s]"
     ]
    },
    {
     "name": "stdout",
     "output_type": "stream",
     "text": [
      "torch.Size([128])\n"
     ]
    },
    {
     "name": "stderr",
     "output_type": "stream",
     "text": [
      "Test Epoch: [97/100] Acc@1:77.34%:  33%|███▎      | 1/3 [00:00<00:00,  3.17it/s]"
     ]
    },
    {
     "name": "stdout",
     "output_type": "stream",
     "text": [
      "torch.Size([128])\n"
     ]
    },
    {
     "name": "stderr",
     "output_type": "stream",
     "text": [
      "Test Epoch: [97/100] Acc@1:83.98%:  67%|██████▋   | 2/3 [00:00<00:00,  3.12it/s]"
     ]
    },
    {
     "name": "stdout",
     "output_type": "stream",
     "text": [
      "torch.Size([120])\n"
     ]
    },
    {
     "name": "stderr",
     "output_type": "stream",
     "text": [
      "Test Epoch: [97/100] Acc@1:83.51%: 100%|██████████| 3/3 [00:00<00:00,  3.18it/s]\n",
      "Train Epoch: [98/100], lr: 0.000030, Loss: 2.3539: 100%|██████████| 97/97 [00:29<00:00,  3.25it/s]\n",
      "Feature extracting: 100%|██████████| 12/12 [00:00<00:00, 14.82it/s]\n",
      "  0%|          | 0/3 [00:00<?, ?it/s]"
     ]
    },
    {
     "name": "stdout",
     "output_type": "stream",
     "text": [
      "torch.Size([128])\n"
     ]
    },
    {
     "name": "stderr",
     "output_type": "stream",
     "text": [
      "Test Epoch: [98/100] Acc@1:77.34%:  33%|███▎      | 1/3 [00:00<00:00,  3.23it/s]"
     ]
    },
    {
     "name": "stdout",
     "output_type": "stream",
     "text": [
      "torch.Size([128])\n"
     ]
    },
    {
     "name": "stderr",
     "output_type": "stream",
     "text": [
      "Test Epoch: [98/100] Acc@1:83.59%:  67%|██████▋   | 2/3 [00:00<00:00,  3.20it/s]"
     ]
    },
    {
     "name": "stdout",
     "output_type": "stream",
     "text": [
      "torch.Size([120])\n"
     ]
    },
    {
     "name": "stderr",
     "output_type": "stream",
     "text": [
      "Test Epoch: [98/100] Acc@1:83.51%: 100%|██████████| 3/3 [00:00<00:00,  3.25it/s]\n",
      "Train Epoch: [99/100], lr: 0.000007, Loss: 2.3227: 100%|██████████| 97/97 [00:29<00:00,  3.25it/s]\n",
      "Feature extracting: 100%|██████████| 12/12 [00:00<00:00, 14.84it/s]\n",
      "  0%|          | 0/3 [00:00<?, ?it/s]"
     ]
    },
    {
     "name": "stdout",
     "output_type": "stream",
     "text": [
      "torch.Size([128])\n"
     ]
    },
    {
     "name": "stderr",
     "output_type": "stream",
     "text": [
      "Test Epoch: [99/100] Acc@1:78.12%:  33%|███▎      | 1/3 [00:00<00:00,  3.17it/s]"
     ]
    },
    {
     "name": "stdout",
     "output_type": "stream",
     "text": [
      "torch.Size([128])\n"
     ]
    },
    {
     "name": "stderr",
     "output_type": "stream",
     "text": [
      "Test Epoch: [99/100] Acc@1:84.38%:  67%|██████▋   | 2/3 [00:00<00:00,  3.20it/s]"
     ]
    },
    {
     "name": "stdout",
     "output_type": "stream",
     "text": [
      "torch.Size([120])\n"
     ]
    },
    {
     "name": "stderr",
     "output_type": "stream",
     "text": [
      "Test Epoch: [99/100] Acc@1:83.78%: 100%|██████████| 3/3 [00:00<00:00,  3.23it/s]\n",
      "Train Epoch: [100/100], lr: 0.000000, Loss: 2.3268: 100%|██████████| 97/97 [00:29<00:00,  3.25it/s]\n",
      "Feature extracting: 100%|██████████| 12/12 [00:00<00:00, 14.95it/s]\n",
      "  0%|          | 0/3 [00:00<?, ?it/s]"
     ]
    },
    {
     "name": "stdout",
     "output_type": "stream",
     "text": [
      "torch.Size([128])\n"
     ]
    },
    {
     "name": "stderr",
     "output_type": "stream",
     "text": [
      "Test Epoch: [100/100] Acc@1:78.12%:  33%|███▎      | 1/3 [00:00<00:00,  3.19it/s]"
     ]
    },
    {
     "name": "stdout",
     "output_type": "stream",
     "text": [
      "torch.Size([128])\n"
     ]
    },
    {
     "name": "stderr",
     "output_type": "stream",
     "text": [
      "Test Epoch: [100/100] Acc@1:84.38%:  67%|██████▋   | 2/3 [00:00<00:00,  3.21it/s]"
     ]
    },
    {
     "name": "stdout",
     "output_type": "stream",
     "text": [
      "torch.Size([120])\n"
     ]
    },
    {
     "name": "stderr",
     "output_type": "stream",
     "text": [
      "Test Epoch: [100/100] Acc@1:83.78%: 100%|██████████| 3/3 [00:00<00:00,  3.26it/s]\n"
     ]
    }
   ],
   "source": [
    "# define optimizer\n",
    "optimizer = torch.optim.SGD(model.parameters(), lr=args.lr, weight_decay=args.wd, momentum=0.9)\n",
    "\n",
    "# load model if resume\n",
    "epoch_start = 1\n",
    "if args.resume is not '':\n",
    "    checkpoint = torch.load(args.resume)\n",
    "    model.load_state_dict(checkpoint['state_dict'])\n",
    "    optimizer.load_state_dict(checkpoint['optimizer'])\n",
    "    epoch_start = checkpoint['epoch'] + 1\n",
    "    print('Loaded from: {}'.format(args.resume))\n",
    "\n",
    "# logging\n",
    "results = {'train_loss': [], 'test_acc@1': [], 'a':[], 'b':[]}\n",
    "if not os.path.exists(args.results_dir):\n",
    "    os.mkdir(args.results_dir)\n",
    "# dump args\n",
    "with open(args.results_dir + '/args.json', 'w') as fid:\n",
    "    json.dump(args.__dict__, fid, indent=2)\n",
    "\n",
    "# training loop\n",
    "for epoch in range(epoch_start, args.epochs + 1):\n",
    "    train_loss, tmp1, tmp2 = train(model, train_loader, optimizer, epoch, args)\n",
    "    results['train_loss'].append(train_loss)\n",
    "    results['a'].append(tmp1)\n",
    "    results['b'].append(tmp2)\n",
    "    test_acc_1 = test(model.encoder_q, memory_loader, test_loader, epoch, args)\n",
    "    results['test_acc@1'].append(test_acc_1)\n",
    "    # save statistics\n",
    "    data_frame = pd.DataFrame(data=results, index=range(epoch_start, epoch + 1))\n",
    "    data_frame.to_csv(args.results_dir + '/log.csv', index_label='epoch')\n",
    "    # save model\n",
    "\n",
    "    # torch.save({'epoch': epoch, 'state_dict': model.state_dict(), 'optimizer' : optimizer.state_dict(),}, args.results_dir + '/model_last.pth')\n",
    "torch.save(model,args.results_dir + '/model_last.pth')"
   ]
  },
  {
   "cell_type": "code",
   "execution_count": null,
   "metadata": {
    "collapsed": true
   },
   "outputs": [],
   "source": []
  },
  {
   "cell_type": "code",
   "execution_count": null,
   "metadata": {
    "collapsed": true
   },
   "outputs": [],
   "source": []
  },
  {
   "cell_type": "code",
   "execution_count": 42,
   "metadata": {
    "collapsed": true,
    "scrolled": true
   },
   "outputs": [],
   "source": [
    "# import csv\n",
    "# filepath = \"H:\\csc4080data\\labeled-images\\labeled-images\\image-labels.csv\"\n",
    "# # class_list = [\"polyps\", \"pylorus\", \"cecum\", \"dyed-lifted-polyps\",\"bbps-2-3\"]\n",
    "# class_map = {\"polyps\":0, \"pylorus\":1, \"cecum\":2, \"dyed-lifted-polyps\":3,\"bbps-2-3\":4}\n",
    "# print(list(class_map.keys()))\n",
    "# with open(filepath) as f:\n",
    "#     reader = csv.reader(f)\n",
    "#     header_row = next(reader)\n",
    "#     id_list = []\n",
    "#     data = []\n",
    "#     arr = [0,0,0,0,0]\n",
    "#     for row in reader:\n",
    "#         id = row[0]\n",
    "#         class_ = row[2]\n",
    "#         if type(class_map.get(class_))==int:\n",
    "#             data.append((id, class_map[class_]))\n",
    "#             arr[class_map[class_]] += 1\n",
    "\n",
    "            \n",
    "# print(len(class_list))\n",
    "# for i in class_set:\n",
    "#     print(i, class_list.count(i))\n",
    "\n"
   ]
  },
  {
   "cell_type": "code",
   "execution_count": 43,
   "metadata": {},
   "outputs": [],
   "source": [
    "# rootDir = r\"G:\\Test\\data\\labeled-images\\unsupervised\\ulcerative-colitis-grade-1\\0da47e4e-d994-44b5-86aa-0fd8ba92c62e.jpg\"\n",
    "# def split_name(address):\n",
    "#     n = address.rfind(\"\\\\\")\n",
    "#     print(n)\n",
    "#     dot = address[:n].rfind(\"\\\\\")\n",
    "#     print(dot)\n",
    "#     return address[dot+1:n]\n",
    "# split_name(rootDir)\n",
    "# # print(split_name(rootDir))"
   ]
  },
  {
   "cell_type": "code",
   "execution_count": null,
   "metadata": {
    "collapsed": true
   },
   "outputs": [],
   "source": []
  }
 ],
 "metadata": {
  "accelerator": "GPU",
  "colab": {
   "name": "moco_cifar10_demo",
   "provenance": [],
   "toc_visible": true
  },
  "environment": {
   "name": "pytorch-gpu.1-4.m50",
   "type": "gcloud",
   "uri": "gcr.io/deeplearning-platform-release/pytorch-gpu.1-4:m50"
  },
  "interpreter": {
   "hash": "0747f93ff6db21b2db2bf35ad4858dd0825b9c21797c41b4cc32097944ab3f10"
  },
  "kernelspec": {
   "display_name": "Python 3",
   "language": "python",
   "name": "python3"
  },
  "language_info": {
   "codemirror_mode": {
    "name": "ipython",
    "version": 3
   },
   "file_extension": ".py",
   "mimetype": "text/x-python",
   "name": "python",
   "nbconvert_exporter": "python",
   "pygments_lexer": "ipython3",
   "version": "3.8.5"
  }
 },
 "nbformat": 4,
 "nbformat_minor": 1
}
