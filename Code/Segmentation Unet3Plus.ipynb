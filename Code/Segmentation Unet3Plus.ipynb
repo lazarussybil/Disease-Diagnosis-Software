{
 "cells": [
  {
   "cell_type": "code",
   "execution_count": 1,
   "id": "fca69b31",
   "metadata": {},
   "outputs": [],
   "source": [
    "import os\n",
    "import time\n",
    "import random\n",
    "from PIL import Image\n",
    "import numpy as np\n",
    "import torch\n",
    "import torch.nn as nn\n",
    "from torch.utils.data import DataLoader\n",
    "from torch.utils.data import Dataset\n",
    "import torchvision.transforms as transforms\n",
    "import torch.optim as optim\n",
    "from sklearn.model_selection import train_test_split\n",
    "\n",
    "from Segmentation_models.UNet_3Plus import UNet_3Plus_DeepSup_CGM\n",
    "from Segmentation_loss.iouLoss import IOU_loss\n",
    "from Segmentation_loss.msssimLoss import msssim\n",
    "from Segmentation_loss.bceLoss import BCE_loss\n",
    "\n",
    "def set_seed(seed=1):\n",
    "    random.seed(seed)\n",
    "    np.random.seed(seed)\n",
    "    torch.manual_seed(seed)\n",
    "    torch.cuda.manual_seed(seed)"
   ]
  },
  {
   "cell_type": "code",
   "execution_count": null,
   "id": "d2117eba",
   "metadata": {},
   "outputs": [],
   "source": [
    "class MyDataset(Dataset):\n",
    "    def __init__(self, data_dir, train, transform=None):\n",
    "        self.data_dir = data_dir\n",
    "        self.data_path = np.array(os.listdir(data_dir + '/images'))\n",
    "        #self.label_path = np.array(os.listdir(data_dir + '/masks'))\n",
    "        #self.data_dir = data_dir\n",
    "        #self.data_path = data_path\n",
    "        self.transform = transform\n",
    "        if train:\n",
    "            idx, _ = train_test_split(list(range(len(self.data_path))), test_size=0.2, random_state=1)\n",
    "        else:\n",
    "            _, idx = train_test_split(list(range(len(self.data_path))), test_size=0.2, random_state=1)\n",
    "        self.data_path = self.data_path[idx]\n",
    "    \n",
    "    def __getitem__(self, index): \n",
    "        ### Begin your code ###\n",
    "        file_name = self.data_path[index]\n",
    "        path_image = self.data_dir + \"/images/\" + file_name\n",
    "        path_label = self.data_dir + \"/masks/\" + file_name\n",
    "        image = Image.open(path_image)\n",
    "        label = Image.open(path_label)\n",
    "        if self.transform is not None:\n",
    "            image = self.transform(image)\n",
    "            label = self.transform(label)\n",
    "        \n",
    "        # Data Augmentation\n",
    "        augType = random.choice([0, 1, 2])\n",
    "        if augType != 0:\n",
    "            image = self.augment(image, augType)\n",
    "            label = self.augment(label, augType)\n",
    "        return image, label\n",
    "        ### End your code ###\n",
    "\n",
    "    def __len__(self): \n",
    "        '''return the size of the dataset'''\n",
    "        ### Begin your code ###\n",
    "        return(len(self.data_path))\n",
    "        ### End your code ###\n",
    "    \n",
    "    def augment(self, image, augType):\n",
    "        if augType == 1:\n",
    "            aug_transform = transforms.Compose([transforms.RandomRotation(degrees=45)])\n",
    "        if augType == 2:\n",
    "            aug_transform = transforms.Compose([transforms.RandomHorizontalFlip(p=0.5)])\n",
    "        data = aug_transform(image)\n",
    "        return data"
   ]
  },
  {
   "cell_type": "code",
   "execution_count": 2,
   "id": "0db1ce47",
   "metadata": {},
   "outputs": [
    {
     "name": "stdout",
     "output_type": "stream",
     "text": [
      "\n",
      "Running on: cpu\n",
      "random seed: 1\n"
     ]
    }
   ],
   "source": [
    "device = 'cuda' if torch.cuda.is_available() else 'cpu'\n",
    "print(\"\\nRunning on:\", device)\n",
    "\n",
    "if device == 'cuda':\n",
    "    device_name = torch.cuda.get_device_name()\n",
    "    print(\"The device name is:\", device_name)\n",
    "    cap = torch.cuda.get_device_capability(device=None)\n",
    "    print(\"The capability of this device is:\", cap, '\\n')\n",
    "\n",
    "# hyper-parameters\n",
    "seed = 1\n",
    "MAX_EPOCH = 30\n",
    "LR = 0.001\n",
    "weight_decay = 1e-3\n",
    "data_dir = 'segmented-images'\n",
    "\n",
    "set_seed(seed)\n",
    "print('random seed:', seed)"
   ]
  },
  {
   "cell_type": "code",
   "execution_count": 3,
   "id": "fe3986da",
   "metadata": {},
   "outputs": [],
   "source": [
    "transform = transforms.Compose([transforms.Resize((256, 256)), transforms.ToTensor()])\n",
    "train_data = MyDataset(data_dir=data_dir, train=True, transform=transform)\n",
    "valid_data = MyDataset(data_dir=data_dir, train=False, transform=transform)\n",
    "train_loader = DataLoader(dataset=train_data, batch_size=1, shuffle=True)\n",
    "valid_loader = DataLoader(dataset=valid_data, batch_size=1)"
   ]
  },
  {
   "cell_type": "code",
   "execution_count": 4,
   "id": "dcfc826f",
   "metadata": {},
   "outputs": [],
   "source": [
    "net = UNet_3Plus_DeepSup_CGM()\n",
    "net.to(device)\n",
    "\n",
    "optimizer = optim.Adam(net.parameters(), weight_decay=weight_decay)\n",
    "scheduler = optim.lr_scheduler.CosineAnnealingLR(optimizer, T_max=MAX_EPOCH, eta_min=0, last_epoch=-1)"
   ]
  },
  {
   "cell_type": "code",
   "execution_count": 5,
   "id": "8a3ed58e",
   "metadata": {},
   "outputs": [],
   "source": [
    "for image, label in train_loader:\n",
    "    break"
   ]
  },
  {
   "cell_type": "code",
   "execution_count": 6,
   "id": "4dce0ba3",
   "metadata": {},
   "outputs": [
    {
     "data": {
      "text/plain": [
       "tensor([[[[0., 0., 0.,  ..., 0., 0., 0.],\n",
       "          [0., 0., 0.,  ..., 0., 0., 0.],\n",
       "          [0., 0., 0.,  ..., 0., 0., 0.],\n",
       "          ...,\n",
       "          [0., 0., 0.,  ..., 0., 0., 0.],\n",
       "          [0., 0., 0.,  ..., 0., 0., 0.],\n",
       "          [0., 0., 0.,  ..., 0., 0., 0.]]]])"
      ]
     },
     "execution_count": 6,
     "metadata": {},
     "output_type": "execute_result"
    }
   ],
   "source": [
    "label = label[:,0,:,:].reshape([1] + list(label[:,0,:,:].shape))\n",
    "label"
   ]
  },
  {
   "cell_type": "code",
   "execution_count": 11,
   "id": "72d1904a",
   "metadata": {},
   "outputs": [
    {
     "data": {
      "text/plain": [
       "tensor([[[[0., 0., 0.,  ..., 0., 0., 0.],\n",
       "          [0., 0., 0.,  ..., 0., 0., 0.],\n",
       "          [0., 0., 0.,  ..., 0., 0., 0.],\n",
       "          ...,\n",
       "          [0., 0., 0.,  ..., 0., 0., 0.],\n",
       "          [0., 0., 0.,  ..., 0., 0., 0.],\n",
       "          [0., 0., 0.,  ..., 0., 0., 0.]]]])"
      ]
     },
     "execution_count": 11,
     "metadata": {},
     "output_type": "execute_result"
    }
   ],
   "source": [
    "label[label<0.5] = 0\n",
    "label[label>=0.5] = 1\n",
    "label"
   ]
  },
  {
   "cell_type": "code",
   "execution_count": 13,
   "id": "f3bc5376",
   "metadata": {},
   "outputs": [
    {
     "name": "stderr",
     "output_type": "stream",
     "text": [
      "D:\\Anaconda3\\lib\\site-packages\\torch\\nn\\functional.py:3631: UserWarning: Default upsampling behavior when mode=bilinear is changed to align_corners=False since 0.4.0. Please specify align_corners=True if the old behavior is desired. See the documentation of nn.Upsample for details.\n",
      "  warnings.warn(\n",
      "D:\\Anaconda3\\lib\\site-packages\\torch\\nn\\functional.py:1806: UserWarning: nn.functional.sigmoid is deprecated. Use torch.sigmoid instead.\n",
      "  warnings.warn(\"nn.functional.sigmoid is deprecated. Use torch.sigmoid instead.\")\n"
     ]
    }
   ],
   "source": [
    "output = net(image)"
   ]
  },
  {
   "cell_type": "code",
   "execution_count": 18,
   "id": "71b23ae9",
   "metadata": {},
   "outputs": [
    {
     "data": {
      "text/plain": [
       "tensor(0.9517, grad_fn=<DivBackward0>)"
      ]
     },
     "execution_count": 18,
     "metadata": {},
     "output_type": "execute_result"
    }
   ],
   "source": [
    "loss_iou = IOU_loss(output, label)\n",
    "loss_iou"
   ]
  },
  {
   "cell_type": "code",
   "execution_count": 19,
   "id": "d7970108",
   "metadata": {},
   "outputs": [
    {
     "data": {
      "text/plain": [
       "tensor(0.9752, grad_fn=<DivBackward0>)"
      ]
     },
     "execution_count": 19,
     "metadata": {},
     "output_type": "execute_result"
    }
   ],
   "source": [
    "2 * loss_iou / (loss_iou + 1)"
   ]
  },
  {
   "cell_type": "code",
   "execution_count": 23,
   "id": "7fdf107a",
   "metadata": {},
   "outputs": [
    {
     "data": {
      "text/plain": [
       "tensor([[[[1., 1., 1.,  ..., 1., 1., 1.],\n",
       "          [1., 1., 1.,  ..., 1., 1., 1.],\n",
       "          [1., 1., 1.,  ..., 1., 1., 1.],\n",
       "          ...,\n",
       "          [1., 1., 1.,  ..., 1., 1., 1.],\n",
       "          [1., 1., 1.,  ..., 1., 1., 1.],\n",
       "          [1., 1., 1.,  ..., 1., 1., 1.]]]], grad_fn=<IndexPutBackward0>)"
      ]
     },
     "execution_count": 23,
     "metadata": {},
     "output_type": "execute_result"
    }
   ],
   "source": [
    "output[output<0.5] = 0\n",
    "output[output>=0.5] = 1\n",
    "output"
   ]
  },
  {
   "cell_type": "code",
   "execution_count": 33,
   "id": "8f547dea",
   "metadata": {},
   "outputs": [],
   "source": [
    "dice = 2 * torch.sum(output == label) / (256*256*2)"
   ]
  },
  {
   "cell_type": "code",
   "execution_count": 38,
   "id": "0fcb2fdc",
   "metadata": {},
   "outputs": [
    {
     "data": {
      "text/plain": [
       "tensor(0.0508, grad_fn=<DivBackward0>)"
      ]
     },
     "execution_count": 38,
     "metadata": {},
     "output_type": "execute_result"
    }
   ],
   "source": [
    "Iand1 = torch.sum(label[0,:,:,:]*output[0,:,:,:])\n",
    "Ior1 = torch.sum(label[0,:,:,:]) + torch.sum(output[0,:,:,:])-Iand1\n",
    "Iand1/Ior1"
   ]
  },
  {
   "cell_type": "code",
   "execution_count": 39,
   "id": "d3d05277",
   "metadata": {},
   "outputs": [
    {
     "data": {
      "text/plain": [
       "tensor(0.9492, grad_fn=<DivBackward0>)"
      ]
     },
     "execution_count": 39,
     "metadata": {},
     "output_type": "execute_result"
    }
   ],
   "source": [
    "IOU_loss(output, label)"
   ]
  },
  {
   "cell_type": "code",
   "execution_count": 41,
   "id": "0fee1ac4",
   "metadata": {},
   "outputs": [],
   "source": [
    "def soft_dice_loss(y_true, y_pred, epsilon=1e-6):\n",
    "    nume = 2 * torch.sum(y_true * y_pred)\n",
    "    deno = torch.sum(torch.square(y_pred) + torch.square(y_true))\n",
    "    return 1-torch.mean(nume/(deno + epsilon))"
   ]
  },
  {
   "cell_type": "code",
   "execution_count": 42,
   "id": "7d2065a3",
   "metadata": {},
   "outputs": [
    {
     "data": {
      "text/plain": [
       "tensor(0.9033, grad_fn=<RsubBackward1>)"
      ]
     },
     "execution_count": 42,
     "metadata": {},
     "output_type": "execute_result"
    }
   ],
   "source": [
    "soft_dice_loss(label, output)"
   ]
  },
  {
   "cell_type": "code",
   "execution_count": 45,
   "id": "ed209ff7",
   "metadata": {},
   "outputs": [
    {
     "data": {
      "text/plain": [
       "tensor(0.0508)"
      ]
     },
     "execution_count": 45,
     "metadata": {},
     "output_type": "execute_result"
    }
   ],
   "source": [
    "dice = torch.sum(output == label) / (256*256)\n",
    "dice"
   ]
  },
  {
   "cell_type": "code",
   "execution_count": 57,
   "id": "98ea9671",
   "metadata": {},
   "outputs": [
    {
     "data": {
      "text/plain": [
       "tensor(0.9165, grad_fn=<RsubBackward1>)"
      ]
     },
     "execution_count": 57,
     "metadata": {},
     "output_type": "execute_result"
    }
   ],
   "source": [
    "axes = tuple(range(1,len(output.shape)-1))\n",
    "1 - torch.mean(2 * torch.sum(output*label, axes) / (torch.sum(torch.square(output) + torch.square(label), axes) + 1e-6))"
   ]
  },
  {
   "cell_type": "code",
   "execution_count": 58,
   "id": "7479679a",
   "metadata": {},
   "outputs": [
    {
     "data": {
      "text/plain": [
       "tensor(0.9033, grad_fn=<RsubBackward1>)"
      ]
     },
     "execution_count": 58,
     "metadata": {},
     "output_type": "execute_result"
    }
   ],
   "source": [
    "soft_dice_loss(label, output)"
   ]
  },
  {
   "cell_type": "code",
   "execution_count": 60,
   "id": "46d805fa",
   "metadata": {},
   "outputs": [
    {
     "data": {
      "text/plain": [
       "tensor(94.9219, grad_fn=<BinaryCrossEntropyBackward0>)"
      ]
     },
     "execution_count": 60,
     "metadata": {},
     "output_type": "execute_result"
    }
   ],
   "source": [
    "criterion = nn.BCELoss()\n",
    "criterion(output, label)"
   ]
  },
  {
   "cell_type": "code",
   "execution_count": 52,
   "id": "285738ef",
   "metadata": {},
   "outputs": [
    {
     "data": {
      "text/plain": [
       "tensor(3328., grad_fn=<SumBackward0>)"
      ]
     },
     "execution_count": 52,
     "metadata": {},
     "output_type": "execute_result"
    }
   ],
   "source": [
    "torch.sum(output*label)"
   ]
  },
  {
   "cell_type": "code",
   "execution_count": 27,
   "id": "0b5329df",
   "metadata": {},
   "outputs": [
    {
     "name": "stdout",
     "output_type": "stream",
     "text": [
      "tensor(0.9749, grad_fn=<DivBackward0>)\n",
      "tensor(0.0426, grad_fn=<ProdBackward0>)\n",
      "tensor(0.6931, grad_fn=<BinaryCrossEntropyBackward0>)\n",
      "tensor(0.9466, grad_fn=<DivBackward0>)\n",
      "tensor(0.0202, grad_fn=<ProdBackward0>)\n",
      "tensor(0.9362, grad_fn=<BinaryCrossEntropyBackward0>)\n",
      "tensor(0.9824, grad_fn=<DivBackward0>)\n",
      "tensor(0.0153, grad_fn=<ProdBackward0>)\n",
      "tensor(0.7058, grad_fn=<BinaryCrossEntropyBackward0>)\n",
      "tensor(nan, grad_fn=<DivBackward0>)\n",
      "tensor(nan, grad_fn=<ProdBackward0>)\n"
     ]
    },
    {
     "ename": "RuntimeError",
     "evalue": "all elements of input should be between 0 and 1",
     "output_type": "error",
     "traceback": [
      "\u001b[1;31m---------------------------------------------------------------------------\u001b[0m",
      "\u001b[1;31mRuntimeError\u001b[0m                              Traceback (most recent call last)",
      "\u001b[1;32mD:\\Temp/ipykernel_18736/582435342.py\u001b[0m in \u001b[0;36m<module>\u001b[1;34m\u001b[0m\n\u001b[0;32m     20\u001b[0m         \u001b[0mloss_mss\u001b[0m \u001b[1;33m=\u001b[0m \u001b[0mmsssim\u001b[0m\u001b[1;33m(\u001b[0m\u001b[0mpred\u001b[0m\u001b[1;33m,\u001b[0m \u001b[0mlabel\u001b[0m\u001b[1;33m)\u001b[0m\u001b[1;33m\u001b[0m\u001b[1;33m\u001b[0m\u001b[0m\n\u001b[0;32m     21\u001b[0m         \u001b[0mprint\u001b[0m\u001b[1;33m(\u001b[0m\u001b[0mloss_mss\u001b[0m\u001b[1;33m)\u001b[0m\u001b[1;33m\u001b[0m\u001b[1;33m\u001b[0m\u001b[0m\n\u001b[1;32m---> 22\u001b[1;33m         \u001b[0mloss_bce\u001b[0m \u001b[1;33m=\u001b[0m \u001b[0mBCE_loss\u001b[0m\u001b[1;33m(\u001b[0m\u001b[0mpred\u001b[0m\u001b[1;33m,\u001b[0m \u001b[0mlabel\u001b[0m\u001b[1;33m)\u001b[0m\u001b[1;33m\u001b[0m\u001b[1;33m\u001b[0m\u001b[0m\n\u001b[0m\u001b[0;32m     23\u001b[0m         \u001b[0mprint\u001b[0m\u001b[1;33m(\u001b[0m\u001b[0mloss_bce\u001b[0m\u001b[1;33m)\u001b[0m\u001b[1;33m\u001b[0m\u001b[1;33m\u001b[0m\u001b[0m\n\u001b[0;32m     24\u001b[0m         \u001b[0mloss\u001b[0m \u001b[1;33m=\u001b[0m \u001b[0mloss_iou\u001b[0m \u001b[1;33m+\u001b[0m \u001b[0mloss_mss\u001b[0m \u001b[1;33m+\u001b[0m \u001b[0mloss_bce\u001b[0m\u001b[1;33m\u001b[0m\u001b[1;33m\u001b[0m\u001b[0m\n",
      "\u001b[1;32mD:\\JupyterNotebook\\CSC4080\\unet3plus\\loss\\bceLoss.py\u001b[0m in \u001b[0;36mBCE_loss\u001b[1;34m(pred, label)\u001b[0m\n\u001b[0;32m      4\u001b[0m \u001b[1;32mdef\u001b[0m \u001b[0mBCE_loss\u001b[0m\u001b[1;33m(\u001b[0m\u001b[0mpred\u001b[0m\u001b[1;33m,\u001b[0m\u001b[0mlabel\u001b[0m\u001b[1;33m)\u001b[0m\u001b[1;33m:\u001b[0m\u001b[1;33m\u001b[0m\u001b[1;33m\u001b[0m\u001b[0m\n\u001b[0;32m      5\u001b[0m     \u001b[0mbce_loss\u001b[0m \u001b[1;33m=\u001b[0m \u001b[0mnn\u001b[0m\u001b[1;33m.\u001b[0m\u001b[0mBCELoss\u001b[0m\u001b[1;33m(\u001b[0m\u001b[0msize_average\u001b[0m\u001b[1;33m=\u001b[0m\u001b[1;32mTrue\u001b[0m\u001b[1;33m)\u001b[0m\u001b[1;33m\u001b[0m\u001b[1;33m\u001b[0m\u001b[0m\n\u001b[1;32m----> 6\u001b[1;33m     \u001b[0mbce_out\u001b[0m \u001b[1;33m=\u001b[0m \u001b[0mbce_loss\u001b[0m\u001b[1;33m(\u001b[0m\u001b[0mpred\u001b[0m\u001b[1;33m,\u001b[0m \u001b[0mlabel\u001b[0m\u001b[1;33m)\u001b[0m\u001b[1;33m\u001b[0m\u001b[1;33m\u001b[0m\u001b[0m\n\u001b[0m\u001b[0;32m      7\u001b[0m     \u001b[1;31m#print(\"bce_loss:\", bce_out.data.cpu().numpy())\u001b[0m\u001b[1;33m\u001b[0m\u001b[1;33m\u001b[0m\u001b[0m\n\u001b[0;32m      8\u001b[0m     \u001b[1;32mreturn\u001b[0m \u001b[0mbce_out\u001b[0m\u001b[1;33m\u001b[0m\u001b[1;33m\u001b[0m\u001b[0m\n",
      "\u001b[1;32mD:\\Anaconda3\\lib\\site-packages\\torch\\nn\\modules\\module.py\u001b[0m in \u001b[0;36m_call_impl\u001b[1;34m(self, *input, **kwargs)\u001b[0m\n\u001b[0;32m   1100\u001b[0m         if not (self._backward_hooks or self._forward_hooks or self._forward_pre_hooks or _global_backward_hooks\n\u001b[0;32m   1101\u001b[0m                 or _global_forward_hooks or _global_forward_pre_hooks):\n\u001b[1;32m-> 1102\u001b[1;33m             \u001b[1;32mreturn\u001b[0m \u001b[0mforward_call\u001b[0m\u001b[1;33m(\u001b[0m\u001b[1;33m*\u001b[0m\u001b[0minput\u001b[0m\u001b[1;33m,\u001b[0m \u001b[1;33m**\u001b[0m\u001b[0mkwargs\u001b[0m\u001b[1;33m)\u001b[0m\u001b[1;33m\u001b[0m\u001b[1;33m\u001b[0m\u001b[0m\n\u001b[0m\u001b[0;32m   1103\u001b[0m         \u001b[1;31m# Do not call functions when jit is used\u001b[0m\u001b[1;33m\u001b[0m\u001b[1;33m\u001b[0m\u001b[0m\n\u001b[0;32m   1104\u001b[0m         \u001b[0mfull_backward_hooks\u001b[0m\u001b[1;33m,\u001b[0m \u001b[0mnon_full_backward_hooks\u001b[0m \u001b[1;33m=\u001b[0m \u001b[1;33m[\u001b[0m\u001b[1;33m]\u001b[0m\u001b[1;33m,\u001b[0m \u001b[1;33m[\u001b[0m\u001b[1;33m]\u001b[0m\u001b[1;33m\u001b[0m\u001b[1;33m\u001b[0m\u001b[0m\n",
      "\u001b[1;32mD:\\Anaconda3\\lib\\site-packages\\torch\\nn\\modules\\loss.py\u001b[0m in \u001b[0;36mforward\u001b[1;34m(self, input, target)\u001b[0m\n\u001b[0;32m    601\u001b[0m \u001b[1;33m\u001b[0m\u001b[0m\n\u001b[0;32m    602\u001b[0m     \u001b[1;32mdef\u001b[0m \u001b[0mforward\u001b[0m\u001b[1;33m(\u001b[0m\u001b[0mself\u001b[0m\u001b[1;33m,\u001b[0m \u001b[0minput\u001b[0m\u001b[1;33m:\u001b[0m \u001b[0mTensor\u001b[0m\u001b[1;33m,\u001b[0m \u001b[0mtarget\u001b[0m\u001b[1;33m:\u001b[0m \u001b[0mTensor\u001b[0m\u001b[1;33m)\u001b[0m \u001b[1;33m->\u001b[0m \u001b[0mTensor\u001b[0m\u001b[1;33m:\u001b[0m\u001b[1;33m\u001b[0m\u001b[1;33m\u001b[0m\u001b[0m\n\u001b[1;32m--> 603\u001b[1;33m         \u001b[1;32mreturn\u001b[0m \u001b[0mF\u001b[0m\u001b[1;33m.\u001b[0m\u001b[0mbinary_cross_entropy\u001b[0m\u001b[1;33m(\u001b[0m\u001b[0minput\u001b[0m\u001b[1;33m,\u001b[0m \u001b[0mtarget\u001b[0m\u001b[1;33m,\u001b[0m \u001b[0mweight\u001b[0m\u001b[1;33m=\u001b[0m\u001b[0mself\u001b[0m\u001b[1;33m.\u001b[0m\u001b[0mweight\u001b[0m\u001b[1;33m,\u001b[0m \u001b[0mreduction\u001b[0m\u001b[1;33m=\u001b[0m\u001b[0mself\u001b[0m\u001b[1;33m.\u001b[0m\u001b[0mreduction\u001b[0m\u001b[1;33m)\u001b[0m\u001b[1;33m\u001b[0m\u001b[1;33m\u001b[0m\u001b[0m\n\u001b[0m\u001b[0;32m    604\u001b[0m \u001b[1;33m\u001b[0m\u001b[0m\n\u001b[0;32m    605\u001b[0m \u001b[1;33m\u001b[0m\u001b[0m\n",
      "\u001b[1;32mD:\\Anaconda3\\lib\\site-packages\\torch\\nn\\functional.py\u001b[0m in \u001b[0;36mbinary_cross_entropy\u001b[1;34m(input, target, weight, size_average, reduce, reduction)\u001b[0m\n\u001b[0;32m   2913\u001b[0m         \u001b[0mweight\u001b[0m \u001b[1;33m=\u001b[0m \u001b[0mweight\u001b[0m\u001b[1;33m.\u001b[0m\u001b[0mexpand\u001b[0m\u001b[1;33m(\u001b[0m\u001b[0mnew_size\u001b[0m\u001b[1;33m)\u001b[0m\u001b[1;33m\u001b[0m\u001b[1;33m\u001b[0m\u001b[0m\n\u001b[0;32m   2914\u001b[0m \u001b[1;33m\u001b[0m\u001b[0m\n\u001b[1;32m-> 2915\u001b[1;33m     \u001b[1;32mreturn\u001b[0m \u001b[0mtorch\u001b[0m\u001b[1;33m.\u001b[0m\u001b[0m_C\u001b[0m\u001b[1;33m.\u001b[0m\u001b[0m_nn\u001b[0m\u001b[1;33m.\u001b[0m\u001b[0mbinary_cross_entropy\u001b[0m\u001b[1;33m(\u001b[0m\u001b[0minput\u001b[0m\u001b[1;33m,\u001b[0m \u001b[0mtarget\u001b[0m\u001b[1;33m,\u001b[0m \u001b[0mweight\u001b[0m\u001b[1;33m,\u001b[0m \u001b[0mreduction_enum\u001b[0m\u001b[1;33m)\u001b[0m\u001b[1;33m\u001b[0m\u001b[1;33m\u001b[0m\u001b[0m\n\u001b[0m\u001b[0;32m   2916\u001b[0m \u001b[1;33m\u001b[0m\u001b[0m\n\u001b[0;32m   2917\u001b[0m \u001b[1;33m\u001b[0m\u001b[0m\n",
      "\u001b[1;31mRuntimeError\u001b[0m: all elements of input should be between 0 and 1"
     ]
    }
   ],
   "source": [
    "for epoch in range(1, MAX_EPOCH + 1):\n",
    "    # Training\n",
    "    loss_trn = 0.; dice_trn = 0.; iter_num = 0\n",
    "    pred_trn = []; label_trn = []\n",
    "    net.train()\n",
    "    for image, label in train_loader:\n",
    "        iter_num += 1\n",
    "\n",
    "        image = image.to(device)\n",
    "        label = label[:,0,:,:].reshape([1] + list(label[:,0,:,:].shape))\n",
    "        label = label.to(device)\n",
    "        pred = net(image)\n",
    "\n",
    "        if epoch == MAX_EPOCH:\n",
    "            pred_trn.append(pred); label_trn.append(label)\n",
    "\n",
    "        optimizer.zero_grad()\n",
    "        loss_iou = IOU_loss(pred, label)\n",
    "        #print(loss_iou)\n",
    "        #loss_mss = msssim(pred, label)\n",
    "        #print(loss_mss)\n",
    "        #loss_bce = BCE_loss(pred, label)\n",
    "        #print(loss_bce)\n",
    "        loss = loss_iou #+ loss_mss + loss_bce\n",
    "\n",
    "        loss.backward()\n",
    "        optimizer.step()\n",
    "\n",
    "        loss_trn += loss.item()\n",
    "        dice_trn += 2 * loss_iou / (loss_iou + 1)\n",
    "\n",
    "    # print log\n",
    "    print(\"Training: Epoch[{:0>3}/{:0>3}], Loss: {:.4f} Dice:{:.2%}\".format(\n",
    "            epoch, MAX_EPOCH, loss_trn / iter_num, dice_trn / iter_num))"
   ]
  },
  {
   "cell_type": "code",
   "execution_count": null,
   "id": "dbab5f99",
   "metadata": {},
   "outputs": [],
   "source": [
    "def main():\n",
    "    transform = transforms.Compose([transforms.Resize((256, 256)), transforms.ToTensor()])\n",
    "    train_data = MyDataset(data_dir=data_dir, train=True, transform=transform)\n",
    "    valid_data = MyDataset(data_dir=data_dir, train=False, transform=transform)\n",
    "    train_loader = DataLoader(dataset=train_data, batch_size=1, shuffle=True)\n",
    "    valid_loader = DataLoader(dataset=valid_data, batch_size=1)\n",
    "\n",
    "    net = UNet_3Plus_DeepSup_CGM()\n",
    "    net.to(device)\n",
    "    \n",
    "    optimizer = optim.Adam(net.parameters(), weight_decay=weight_decay)\n",
    "    scheduler = optim.lr_scheduler.CosineAnnealingLR(optimizer, T_max=MAX_EPOCH, eta_min=0, last_epoch=-1)\n",
    "\n",
    "    print('\\nTraining start!\\n')\n",
    "    start = time.time()\n",
    "\n",
    "    for epoch in range(1, MAX_EPOCH + 1):\n",
    "        # Training\n",
    "        loss_trn = 0.; dice_trn = 0.; iter_num = 0\n",
    "        pred_trn = []; label_trn = []\n",
    "        net.train()\n",
    "        for image, label in train_loader:\n",
    "            iter_num += 1\n",
    "            \n",
    "            image = image.to(device)\n",
    "            label = label[:,0,:,:].reshape([1] + list(label[:,0,:,:].shape))\n",
    "            label = label.to(device)\n",
    "            output = net(image)\n",
    "            pred = output[0]\n",
    "            \n",
    "            if epoch == MAX_EPOCH:\n",
    "                    pred_trn.append(pred); label_trn.append(label)\n",
    "\n",
    "            optimizer.zero_grad()\n",
    "            loss_iou = IOU_loss(pred, label)\n",
    "            loss = loss_iou #+ msssim(pred, label) + BCE_loss(pred, label)\n",
    "            loss.backward()\n",
    "            optimizer.step()\n",
    "            \n",
    "            loss_trn += loss.item()\n",
    "            dice_trn += 2 * loss_iou / (loss_iou + 1)\n",
    "        \n",
    "        # print log\n",
    "        print(\"Training: Epoch[{:0>3}/{:0>3}], Loss: {:.4f} Dice:{:.2%}\".format(\n",
    "                epoch, MAX_EPOCH, loss_trn / iter_num, dice_trn / iter_num))\n",
    "\n",
    "        # Validating\n",
    "        loss_val = 0.; dice_val = 0.; iter_num = 0\n",
    "        pred_val = []; label_val = []\n",
    "        net.eval()\n",
    "        with torch.no_grad():\n",
    "            for image, label in valid_loader:\n",
    "                iter_num += 1\n",
    "                \n",
    "                image = image.to(device)\n",
    "                label = label[:,0,:,:].reshape([1] + list(label[:,0,:,:].shape))\n",
    "                label = label.to(device)\n",
    "                output = net(image)\n",
    "                pred = output[0]\n",
    "                \n",
    "                if epoch == MAX_EPOCH:\n",
    "                    pred_val.append(pred); label_val.append(label)\n",
    "                \n",
    "                loss_iou = IOU_loss(pred, label)\n",
    "                loss = loss_iou #+ msssim(pred, label) + BCE_loss(pred + 1e-6, label)\n",
    "                loss_val += loss.item()\n",
    "                dice_val += 2 * loss_iou / (loss_iou + 1)\n",
    "        \n",
    "            print(\"Valid: Epoch[{:0>3}/{:0>3}], Loss: {:.4f} Dice:{:.2%}\\n\".format(\n",
    "                epoch, MAX_EPOCH, loss_val / iter_num, dice_val / iter_num))\n",
    "\n",
    "    print('\\nTraining finish, the time consumption of {} epochs is {}s\\n'.format(MAX_EPOCH, round(time.time() - start)))\n",
    "    \n",
    "    return(pred_trn, label_trn, pred_val, label_val)"
   ]
  },
  {
   "cell_type": "code",
   "execution_count": null,
   "id": "c6b24f98",
   "metadata": {},
   "outputs": [],
   "source": [
    "if __name__ == '__main__':\n",
    "    device = 'cuda' if torch.cuda.is_available() else 'cpu'\n",
    "    print(\"\\nRunning on:\", device)\n",
    "\n",
    "    if device == 'cuda':\n",
    "        device_name = torch.cuda.get_device_name()\n",
    "        print(\"The device name is:\", device_name)\n",
    "        cap = torch.cuda.get_device_capability(device=None)\n",
    "        print(\"The capability of this device is:\", cap, '\\n')\n",
    "    \n",
    "    # hyper-parameters\n",
    "    seed = 1\n",
    "    MAX_EPOCH = 30\n",
    "    LR = 0.001\n",
    "    weight_decay = 1e-3\n",
    "    data_dir = 'segmented-images'\n",
    "    \n",
    "    set_seed(seed)\n",
    "    print('random seed:', seed)\n",
    "    main()"
   ]
  },
  {
   "cell_type": "code",
   "execution_count": null,
   "id": "2b5584c8",
   "metadata": {},
   "outputs": [],
   "source": [
    "torch.save(net, 'unet3plus.pth')"
   ]
  },
  {
   "cell_type": "code",
   "execution_count": null,
   "id": "cfd6c0e8",
   "metadata": {},
   "outputs": [],
   "source": [
    "torch.load('unet3plus.pth')"
   ]
  },
  {
   "cell_type": "code",
   "execution_count": null,
   "id": "fec33c74",
   "metadata": {},
   "outputs": [],
   "source": []
  }
 ],
 "metadata": {
  "kernelspec": {
   "display_name": "Python 3",
   "language": "python",
   "name": "python3"
  },
  "language_info": {
   "codemirror_mode": {
    "name": "ipython",
    "version": 3
   },
   "file_extension": ".py",
   "mimetype": "text/x-python",
   "name": "python",
   "nbconvert_exporter": "python",
   "pygments_lexer": "ipython3",
   "version": "3.9.7"
  }
 },
 "nbformat": 4,
 "nbformat_minor": 5
}
